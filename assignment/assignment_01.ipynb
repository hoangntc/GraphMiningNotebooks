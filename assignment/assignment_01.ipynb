{
 "cells": [
  {
   "cell_type": "code",
   "execution_count": 1,
   "id": "98b145a0",
   "metadata": {},
   "outputs": [],
   "source": [
    "## required packages for this Chapter\n",
    "import os, random\n",
    "import igraph as ig\n",
    "import numpy as np\n",
    "import pandas as pd\n",
    "import matplotlib.pyplot as plt\n",
    "from sklearn.linear_model import LinearRegression\n",
    "from collections import Counter\n",
    "from statsmodels.distributions.empirical_distribution import ECDF as ecdf\n",
    "import seaborn as sns\n",
    "sns.set_theme()\n",
    "%matplotlib inline\n",
    "\n",
    "# To export to PDF, run:\n",
    "# jupyter nbconvert --to webpdf --allow-chromium-download assignment_01.ipynb"
   ]
  },
  {
   "cell_type": "code",
   "execution_count": 4,
   "id": "f98f26d8",
   "metadata": {},
   "outputs": [
    {
     "name": "stdout",
     "output_type": "stream",
     "text": [
      "\u001b[1m\u001b[36mABCD\u001b[m\u001b[m             \u001b[1m\u001b[36mGitHubDevelopers\u001b[m\u001b[m \u001b[1m\u001b[36mHypergraph\u001b[m\u001b[m       \u001b[1m\u001b[36mReno\u001b[m\u001b[m\r\n",
      "\u001b[1m\u001b[36mActors\u001b[m\u001b[m           \u001b[1m\u001b[36mGoT\u001b[m\u001b[m              \u001b[1m\u001b[36mNCI1\u001b[m\u001b[m             \u001b[1m\u001b[36mWords\u001b[m\u001b[m\r\n",
      "\u001b[1m\u001b[36mAirports\u001b[m\u001b[m         \u001b[1m\u001b[36mGridEurope\u001b[m\u001b[m       \u001b[1m\u001b[36mNCI109\u001b[m\u001b[m           \u001b[1m\u001b[36mZachary\u001b[m\u001b[m\r\n",
      "\u001b[1m\u001b[36mFootball\u001b[m\u001b[m         \u001b[1m\u001b[36mGridNorthAmerica\u001b[m\u001b[m \u001b[1m\u001b[36mOverlap\u001b[m\u001b[m\r\n"
     ]
    }
   ],
   "source": [
    "!ls ../Datasets"
   ]
  },
  {
   "cell_type": "code",
   "execution_count": 5,
   "id": "0945bac9",
   "metadata": {},
   "outputs": [],
   "source": [
    "## setting the path to the datasets\n",
    "datadir = '../Datasets/'"
   ]
  },
  {
   "cell_type": "markdown",
   "id": "7919ee52",
   "metadata": {},
   "source": [
    "## Problem 2"
   ]
  },
  {
   "cell_type": "code",
   "execution_count": 4,
   "id": "2ed230c9",
   "metadata": {},
   "outputs": [],
   "source": [
    "## Read GridEurope graph\n",
    "## read edge list for the grid network and build undirected graph\n",
    "gr_eu = ig.Graph.Read_Ncol(\n",
    "    os.path.join(datadir, 'GridEurope/gridkit_europe-highvoltage.edges'), directed=False)\n",
    "gr_eu = gr_eu.simplify()\n",
    "\n",
    "## Read GridNorthAmerica graph\n",
    "## read edge list as tuples and build undirected graph\n",
    "df = pd.read_csv(\n",
    "    os.path.join(datadir , 'GridNorthAmerica/gridkit_north_america-highvoltage-links.csv'))[['v_id_1', 'v_id_2']]\n",
    "tuples = [tuple(x) for x in df.values]\n",
    "gr_am = ig.Graph.TupleList(tuples, directed=False)"
   ]
  },
  {
   "cell_type": "code",
   "execution_count": 5,
   "id": "b38a4d1c",
   "metadata": {},
   "outputs": [
    {
     "data": {
      "text/html": [
       "<div>\n",
       "<style scoped>\n",
       "    .dataframe tbody tr th:only-of-type {\n",
       "        vertical-align: middle;\n",
       "    }\n",
       "\n",
       "    .dataframe tbody tr th {\n",
       "        vertical-align: top;\n",
       "    }\n",
       "\n",
       "    .dataframe thead th {\n",
       "        text-align: right;\n",
       "    }\n",
       "</style>\n",
       "<table border=\"1\" class=\"dataframe\">\n",
       "  <thead>\n",
       "    <tr style=\"text-align: right;\">\n",
       "      <th></th>\n",
       "      <th>0</th>\n",
       "      <th>1</th>\n",
       "    </tr>\n",
       "  </thead>\n",
       "  <tbody>\n",
       "    <tr>\n",
       "      <th>graph</th>\n",
       "      <td>GridEurope</td>\n",
       "      <td>GridNorthAmerica</td>\n",
       "    </tr>\n",
       "    <tr>\n",
       "      <th>nodes</th>\n",
       "      <td>13844</td>\n",
       "      <td>16167</td>\n",
       "    </tr>\n",
       "    <tr>\n",
       "      <th>edges</th>\n",
       "      <td>17277</td>\n",
       "      <td>22459</td>\n",
       "    </tr>\n",
       "    <tr>\n",
       "      <th>$d_{min}$</th>\n",
       "      <td>1</td>\n",
       "      <td>1</td>\n",
       "    </tr>\n",
       "    <tr>\n",
       "      <th>$d_{mean}$</th>\n",
       "      <td>2.496</td>\n",
       "      <td>2.7784</td>\n",
       "    </tr>\n",
       "    <tr>\n",
       "      <th>$d_{median}$</th>\n",
       "      <td>2.0</td>\n",
       "      <td>3.0</td>\n",
       "    </tr>\n",
       "    <tr>\n",
       "      <th>$d_{quant_{99}}$</th>\n",
       "      <td>8.0</td>\n",
       "      <td>9.0</td>\n",
       "    </tr>\n",
       "    <tr>\n",
       "      <th>$d_{max}$</th>\n",
       "      <td>16</td>\n",
       "      <td>27</td>\n",
       "    </tr>\n",
       "    <tr>\n",
       "      <th>diameter</th>\n",
       "      <td>147</td>\n",
       "      <td>138</td>\n",
       "    </tr>\n",
       "    <tr>\n",
       "      <th>components</th>\n",
       "      <td>59</td>\n",
       "      <td>34</td>\n",
       "    </tr>\n",
       "    <tr>\n",
       "      <th>largest</th>\n",
       "      <td>13478</td>\n",
       "      <td>14990</td>\n",
       "    </tr>\n",
       "    <tr>\n",
       "      <th>isolates</th>\n",
       "      <td>0</td>\n",
       "      <td>0</td>\n",
       "    </tr>\n",
       "    <tr>\n",
       "      <th>$C_{glob}$</th>\n",
       "      <td>0.1001</td>\n",
       "      <td>0.1024</td>\n",
       "    </tr>\n",
       "    <tr>\n",
       "      <th>$C_{loc}$</th>\n",
       "      <td>0.1126</td>\n",
       "      <td>0.1042</td>\n",
       "    </tr>\n",
       "  </tbody>\n",
       "</table>\n",
       "</div>"
      ],
      "text/plain": [
       "                           0                 1\n",
       "graph             GridEurope  GridNorthAmerica\n",
       "nodes                  13844             16167\n",
       "edges                  17277             22459\n",
       "$d_{min}$                  1                 1\n",
       "$d_{mean}$             2.496            2.7784\n",
       "$d_{median}$             2.0               3.0\n",
       "$d_{quant_{99}}$         8.0               9.0\n",
       "$d_{max}$                 16                27\n",
       "diameter                 147               138\n",
       "components                59                34\n",
       "largest                13478             14990\n",
       "isolates                   0                 0\n",
       "$C_{glob}$            0.1001            0.1024\n",
       "$C_{loc}$             0.1126            0.1042"
      ]
     },
     "execution_count": 5,
     "metadata": {},
     "output_type": "execute_result"
    }
   ],
   "source": [
    "## compute and store basic stats in a table\n",
    "def baseStats(G):\n",
    "    deg = G.degree()\n",
    "    return [G.vcount(),G.ecount(),np.min(deg),np.mean(deg),np.median(deg),np.quantile(deg,.99),\n",
    "            np.max(deg),G.diameter(),np.max(G.connected_components().membership)+1,G.connected_components().giant().vcount(),\n",
    "            sum([x==0 for x in G.degree()]),G.transitivity_undirected(mode='nan'),\n",
    "            G.transitivity_avglocal_undirected(mode='nan')]\n",
    "S = []\n",
    "S.append(['GridEurope'] + baseStats(gr_eu))\n",
    "S.append(['GridNorthAmerica'] + baseStats(gr_am))\n",
    "D = pd.DataFrame(S,columns=['graph','nodes','edges',r'$d_{min}$',r'$d_{mean}$',r'$d_{median}$',\n",
    "                            r'$d_{quant_{99}}$',r'$d_{max}$','diameter','components','largest',\n",
    "                            'isolates',r'$C_{glob}$',r'$C_{loc}$']).round(4).transpose()\n",
    "D"
   ]
  },
  {
   "cell_type": "markdown",
   "id": "9ef0b35f",
   "metadata": {},
   "source": [
    "**Observation:**\n",
    "- There are 16,167 nodes and 22,459 edges in `GridNorthAmerica` dataset.\n",
    "- The characteristics and statistical description (e.g., node degree, diameter, connected components) of the two grid datasets are similar.\n",
    "- The `GridNorthAmerica` graph has many low-degree nodes. Only 1% nodes have the degree at least than 9.\n",
    "- The `GridNorthAmerica` also has a diameter (138), so similar to `GridEurope`, its nodes are not as tightly connected.\n",
    "- This dataset also has one big connected component (14990 nodes) and several small components (38).\n",
    "- There is no isolated nodes in `GridNorthAmerica` dataset."
   ]
  },
  {
   "cell_type": "markdown",
   "id": "3e831bbd",
   "metadata": {},
   "source": [
    "## Problem 3"
   ]
  },
  {
   "cell_type": "code",
   "execution_count": 4,
   "id": "d7a6f634",
   "metadata": {},
   "outputs": [
    {
     "name": "stdout",
     "output_type": "stream",
     "text": [
      "GitHub nodes: 37700 ; ml developers: 9739 ; web developers: 27961\n"
     ]
    }
   ],
   "source": [
    "## read the GitHub edge list as tuples and build undirected graph\n",
    "D = pd.read_csv(datadir+'GitHubDevelopers/musae_git_edges.csv')\n",
    "tuples = [tuple(x) for x in D.values]\n",
    "gh = ig.Graph.TupleList(tuples, directed=False)\n",
    "\n",
    "## read node features\n",
    "X = pd.read_csv(datadir+'GitHubDevelopers/musae_git_target.csv')\n",
    "\n",
    "## map node names in edgelist to indices in the graph\n",
    "idx = [int(i) for i in gh.vs['name']]\n",
    "sorterIndex = dict(zip(idx,range(len(idx))))\n",
    "X['Rank'] = X['id'].map(sorterIndex) \n",
    "X.sort_values(['Rank'], ascending=[True],inplace=True)\n",
    "X.dropna(inplace=True)\n",
    "\n",
    "cls = ['grey','black'] ## node colors\n",
    "lbl = ['web','ml']     ## node labels\n",
    "gh.es['color'] = 'grey' ## edge color\n",
    "\n",
    "## there are 2 node types: ml or web\n",
    "gh.vs['color'] = [cls[i] for i in list(X['ml_target'])]\n",
    "gh.vs['lbl'] = [lbl[i] for i in list(X['ml_target'])]\n",
    "\n",
    "## build the subgraphs\n",
    "gh_ml = gh.subgraph([v for v in gh.vs() if v['lbl']=='ml'])\n",
    "gh_web = gh.subgraph([v for v in gh.vs() if v['lbl']=='web'])\n",
    "\n",
    "## there are 9739 ml developers and 27961 web developers\n",
    "print('GitHub nodes:', gh.vcount(), '; ml developers:', gh_ml.vcount(), '; web developers:', gh_web.vcount())"
   ]
  },
  {
   "cell_type": "markdown",
   "id": "7a2673ed",
   "metadata": {},
   "source": [
    "### Problem 3a"
   ]
  },
  {
   "cell_type": "code",
   "execution_count": 5,
   "id": "b4655a96",
   "metadata": {},
   "outputs": [
    {
     "data": {
      "image/png": "[encoded data removed]",
      "text/plain": [
       "<Figure size 640x480 with 1 Axes>"
      ]
     },
     "metadata": {},
     "output_type": "display_data"
    }
   ],
   "source": [
    "## min path length from that node to other nodes\n",
    "# sg = gh_ml.connected_components().giant()\n",
    "V = gh_ml.vs\n",
    "# V = np.random.choice(sg.vcount(),size=100,replace=False) ## sample\n",
    "sp = []\n",
    "for v in V:\n",
    "    sp.extend(gh_ml.distances(source=v)[0])\n",
    "    \n",
    "c = Counter(sp)\n",
    "c = {i:j for i,j in c.items() if i != np.inf}\n",
    "s = sorted(c.items())\n",
    "\n",
    "fig, ax = plt.subplots()\n",
    "## exclude 0-length paths\n",
    "x = [x[0] for x in s[1:]]\n",
    "y = [x[1] for x in s[1:]]\n",
    "b = ax.bar(x, y, color='darkgrey') \n",
    "ax.set_xticks(x)\n",
    "ax.set_xticklabels(x)\n",
    "ax.set_xlabel('path length', fontsize=14)\n",
    "ax.set_ylabel('number of paths', fontsize=14)\n",
    "ax.set_title('Histogram of path length in Github ML')\n",
    "plt.show()"
   ]
  },
  {
   "cell_type": "code",
   "execution_count": 6,
   "id": "0839be36",
   "metadata": {},
   "outputs": [
    {
     "name": "stdout",
     "output_type": "stream",
     "text": [
      "The number of walks of length 5: 14474416\n"
     ]
    }
   ],
   "source": [
    "print('The number of walks of length 5: {}'.format(c[5]))"
   ]
  },
  {
   "cell_type": "markdown",
   "id": "9a131813",
   "metadata": {},
   "source": [
    "### Problem 3b"
   ]
  },
  {
   "cell_type": "code",
   "execution_count": 5,
   "id": "05ddee68",
   "metadata": {},
   "outputs": [],
   "source": [
    "import itertools\n",
    "\n",
    "# def is_connected(graph, from_v, to_v):\n",
    "#     neighbors = [v.index for v in graph.vs[from_v].neighbors()]\n",
    "#     if to_v in neighbors: return True\n",
    "#     else: return False\n",
    "\n",
    "# def is_chordal(graph, vs):\n",
    "#     return graph.subgraph(vs).is_chordal()"
   ]
  },
  {
   "cell_type": "code",
   "execution_count": 6,
   "id": "a102a320",
   "metadata": {},
   "outputs": [
    {
     "name": "stdout",
     "output_type": "stream",
     "text": [
      "0\n",
      "1000\n",
      "2000\n",
      "3000\n",
      "4000\n",
      "5000\n",
      "6000\n",
      "7000\n",
      "8000\n",
      "9000\n"
     ]
    }
   ],
   "source": [
    "# Get all cycles with length=max_length\n",
    "# 1-->2-->3-->4-->1\n",
    "degrees = gh_ml.degree()\n",
    "vs = gh_ml.vs\n",
    "max_length = 4\n",
    "filtered_paths = []\n",
    "for i in range(len(vs)):\n",
    "    if i % 1000 == 0: print(i)\n",
    "    if degrees[i] > 1: # nodes in cycle should have degree > 1\n",
    "        # get paths with length at most (max_length - 1) (which means n_nodes=max_length)\n",
    "        paths = gh_ml.get_all_simple_paths(vs[i], to=None, cutoff=max_length-1, mode='all')\n",
    "        # get paths which can be back to the first node\n",
    "        for p in paths:\n",
    "            if len(p) == max_length:\n",
    "                first_v = p[0]\n",
    "                last_v = p[-1]\n",
    "                # check whether last node is connected with first node\n",
    "                # if is_connected(gh_ml, last_v, first_v):\n",
    "                if gh_ml.are_connected(first_v, last_v):\n",
    "                    filtered_paths.append(sorted(p))\n",
    "                    # we are able to check whether the cycle is chordless or not here,\n",
    "                    # but the computation of it is expensive, \n",
    "                    # so it is better to check in a set of cycles after we drop duplicates"
   ]
  },
  {
   "cell_type": "code",
   "execution_count": 7,
   "id": "fe026d2e",
   "metadata": {},
   "outputs": [
    {
     "name": "stdout",
     "output_type": "stream",
     "text": [
      "1209824\n",
      "1208559\n"
     ]
    }
   ],
   "source": [
    "# Drop duplicated cycles before check whether the cycle is chordless or not\n",
    "print(len(filtered_paths))\n",
    "cycles = list(filtered_paths for filtered_paths,_ in itertools.groupby(filtered_paths))\n",
    "print(len(cycles))"
   ]
  },
  {
   "cell_type": "code",
   "execution_count": 10,
   "id": "5cff442c",
   "metadata": {},
   "outputs": [
    {
     "name": "stdout",
     "output_type": "stream",
     "text": [
      "0\n",
      "100000\n",
      "200000\n",
      "300000\n",
      "400000\n",
      "500000\n",
      "600000\n",
      "700000\n",
      "800000\n",
      "900000\n",
      "1000000\n",
      "1100000\n",
      "1200000\n"
     ]
    }
   ],
   "source": [
    "# Get chordless cycles\n",
    "chordless_cycles = []\n",
    "for i,c in enumerate(cycles):\n",
    "    if i % 100000 == 0: print(i)\n",
    "    # Since we already check the connectivity of the cycles and\n",
    "    # the function g.is_chordal() provided by igraph returns an error, \n",
    "    # it is better to check the number of edges instead (the computation is also cheaper than is_chordal())\n",
    "    if len(gh_ml.subgraph(c).es) == max_length: \n",
    "        chordless_cycles.append(c)"
   ]
  },
  {
   "cell_type": "code",
   "execution_count": 11,
   "id": "3b4868bf",
   "metadata": {},
   "outputs": [
    {
     "name": "stdout",
     "output_type": "stream",
     "text": [
      "The number of chordless cycles of length 4: 672787\n"
     ]
    }
   ],
   "source": [
    "print('The number of chordless cycles of length 4: {}'.format(len(chordless_cycles)))"
   ]
  },
  {
   "cell_type": "markdown",
   "id": "ab75f881",
   "metadata": {},
   "source": [
    "## Problem 4"
   ]
  },
  {
   "cell_type": "code",
   "execution_count": 12,
   "id": "454a7df1",
   "metadata": {},
   "outputs": [],
   "source": [
    "## Read airport graph\n",
    "\n",
    "## Read edges\n",
    "df_edges = pd.read_csv('../Datasets/Airports/connections.csv')\n",
    "airport_name = sorted(set(df_edges['orig_airport'].values.tolist() + df_edges['dest_airport'].values.tolist()))\n",
    "airport2nodeid = {n:i for i,n in enumerate(airport_name)}\n",
    "df_edges['orig_airport_id'] = df_edges['orig_airport'].map(airport2nodeid)\n",
    "df_edges['dest_airport_id'] = df_edges['dest_airport'].map(airport2nodeid)\n",
    "edge_idx = [tuple(x) for x in df_edges[['orig_airport_id', 'dest_airport_id']].values]\n",
    "weight = list(df_edges['total_passengers'].astype(int).values)\n",
    "\n",
    "graph = ig.Graph(\n",
    "    edges=edge_idx,\n",
    "    edge_attrs={'weight': weight},\n",
    "    directed=True,\n",
    ")\n",
    "graph.vs['name'] = airport_name\n",
    "df_nodes = pd.read_csv('../Datasets/Airports/airports_loc.csv')\n",
    "df_nodes['airport_id'] = df_nodes['airport'].map(airport2nodeid)"
   ]
  },
  {
   "cell_type": "code",
   "execution_count": 13,
   "id": "266772bd",
   "metadata": {},
   "outputs": [
    {
     "data": {
      "text/html": [
       "<div>\n",
       "<style scoped>\n",
       "    .dataframe tbody tr th:only-of-type {\n",
       "        vertical-align: middle;\n",
       "    }\n",
       "\n",
       "    .dataframe tbody tr th {\n",
       "        vertical-align: top;\n",
       "    }\n",
       "\n",
       "    .dataframe thead th {\n",
       "        text-align: right;\n",
       "    }\n",
       "</style>\n",
       "<table border=\"1\" class=\"dataframe\">\n",
       "  <thead>\n",
       "    <tr style=\"text-align: right;\">\n",
       "      <th></th>\n",
       "      <th>orig_airport</th>\n",
       "      <th>dest_airport</th>\n",
       "      <th>total_passengers</th>\n",
       "      <th>orig_airport_id</th>\n",
       "      <th>dest_airport_id</th>\n",
       "    </tr>\n",
       "  </thead>\n",
       "  <tbody>\n",
       "    <tr>\n",
       "      <th>0</th>\n",
       "      <td>SFO</td>\n",
       "      <td>LAX</td>\n",
       "      <td>1442105</td>\n",
       "      <td>400</td>\n",
       "      <td>241</td>\n",
       "    </tr>\n",
       "    <tr>\n",
       "      <th>1</th>\n",
       "      <td>LAX</td>\n",
       "      <td>SFO</td>\n",
       "      <td>1438639</td>\n",
       "      <td>241</td>\n",
       "      <td>400</td>\n",
       "    </tr>\n",
       "    <tr>\n",
       "      <th>2</th>\n",
       "      <td>MCO</td>\n",
       "      <td>ATL</td>\n",
       "      <td>1436625</td>\n",
       "      <td>272</td>\n",
       "      <td>32</td>\n",
       "    </tr>\n",
       "    <tr>\n",
       "      <th>3</th>\n",
       "      <td>ATL</td>\n",
       "      <td>MCO</td>\n",
       "      <td>1424069</td>\n",
       "      <td>32</td>\n",
       "      <td>272</td>\n",
       "    </tr>\n",
       "    <tr>\n",
       "      <th>4</th>\n",
       "      <td>LAX</td>\n",
       "      <td>JFK</td>\n",
       "      <td>1277731</td>\n",
       "      <td>241</td>\n",
       "      <td>227</td>\n",
       "    </tr>\n",
       "  </tbody>\n",
       "</table>\n",
       "</div>"
      ],
      "text/plain": [
       "  orig_airport dest_airport  total_passengers  orig_airport_id  \\\n",
       "0          SFO          LAX           1442105              400   \n",
       "1          LAX          SFO           1438639              241   \n",
       "2          MCO          ATL           1436625              272   \n",
       "3          ATL          MCO           1424069               32   \n",
       "4          LAX          JFK           1277731              241   \n",
       "\n",
       "   dest_airport_id  \n",
       "0              241  \n",
       "1              400  \n",
       "2               32  \n",
       "3              272  \n",
       "4              227  "
      ]
     },
     "metadata": {},
     "output_type": "display_data"
    },
    {
     "data": {
      "text/html": [
       "<div>\n",
       "<style scoped>\n",
       "    .dataframe tbody tr th:only-of-type {\n",
       "        vertical-align: middle;\n",
       "    }\n",
       "\n",
       "    .dataframe tbody tr th {\n",
       "        vertical-align: top;\n",
       "    }\n",
       "\n",
       "    .dataframe thead th {\n",
       "        text-align: right;\n",
       "    }\n",
       "</style>\n",
       "<table border=\"1\" class=\"dataframe\">\n",
       "  <thead>\n",
       "    <tr style=\"text-align: right;\">\n",
       "      <th></th>\n",
       "      <th>airport</th>\n",
       "      <th>lon</th>\n",
       "      <th>lat</th>\n",
       "      <th>state</th>\n",
       "      <th>city</th>\n",
       "      <th>airport_id</th>\n",
       "    </tr>\n",
       "  </thead>\n",
       "  <tbody>\n",
       "    <tr>\n",
       "      <th>0</th>\n",
       "      <td>ABE</td>\n",
       "      <td>-75.440804</td>\n",
       "      <td>40.652100</td>\n",
       "      <td>PA</td>\n",
       "      <td>Allentown</td>\n",
       "      <td>0</td>\n",
       "    </tr>\n",
       "    <tr>\n",
       "      <th>1</th>\n",
       "      <td>ABI</td>\n",
       "      <td>-99.681900</td>\n",
       "      <td>32.411301</td>\n",
       "      <td>TX</td>\n",
       "      <td>Abilene</td>\n",
       "      <td>1</td>\n",
       "    </tr>\n",
       "    <tr>\n",
       "      <th>2</th>\n",
       "      <td>ABQ</td>\n",
       "      <td>-106.609001</td>\n",
       "      <td>35.040199</td>\n",
       "      <td>NM</td>\n",
       "      <td>Albuquerque</td>\n",
       "      <td>2</td>\n",
       "    </tr>\n",
       "    <tr>\n",
       "      <th>3</th>\n",
       "      <td>ABR</td>\n",
       "      <td>-98.421799</td>\n",
       "      <td>45.449100</td>\n",
       "      <td>SD</td>\n",
       "      <td>Aberdeen</td>\n",
       "      <td>3</td>\n",
       "    </tr>\n",
       "    <tr>\n",
       "      <th>4</th>\n",
       "      <td>ABY</td>\n",
       "      <td>-84.194504</td>\n",
       "      <td>31.535500</td>\n",
       "      <td>GA</td>\n",
       "      <td>Albany</td>\n",
       "      <td>4</td>\n",
       "    </tr>\n",
       "  </tbody>\n",
       "</table>\n",
       "</div>"
      ],
      "text/plain": [
       "  airport         lon        lat state         city  airport_id\n",
       "0     ABE  -75.440804  40.652100    PA    Allentown           0\n",
       "1     ABI  -99.681900  32.411301    TX      Abilene           1\n",
       "2     ABQ -106.609001  35.040199    NM  Albuquerque           2\n",
       "3     ABR  -98.421799  45.449100    SD     Aberdeen           3\n",
       "4     ABY  -84.194504  31.535500    GA       Albany           4"
      ]
     },
     "metadata": {},
     "output_type": "display_data"
    }
   ],
   "source": [
    "display(df_edges.head())\n",
    "display(df_nodes.head())"
   ]
  },
  {
   "cell_type": "markdown",
   "id": "50c32039",
   "metadata": {},
   "source": [
    "### Problem 4a"
   ]
  },
  {
   "cell_type": "code",
   "execution_count": 14,
   "id": "37a0b49b",
   "metadata": {},
   "outputs": [
    {
     "name": "stdout",
     "output_type": "stream",
     "text": [
      "Slope of the fitted line: -0.8501408835293304\n"
     ]
    },
    {
     "data": {
      "image/png": "[encoded data removed]",
      "text/plain": [
       "<Figure size 640x480 with 1 Axes>"
      ]
     },
     "metadata": {},
     "output_type": "display_data"
    }
   ],
   "source": [
    "# degree distribution\n",
    "deg = graph.degree()\n",
    "c = Counter(deg)\n",
    "s = sorted(c.items(), reverse=True)\n",
    "x, cnt = [i[0] for i in s], [i[1] for i in s]\n",
    "y = np.cumsum(cnt)\n",
    "\n",
    "min_deg = min(deg)\n",
    "max_deg = max(deg)\n",
    "\n",
    "# regression\n",
    "regressor = LinearRegression()  \n",
    "log_x = [np.log(i) for i in x]\n",
    "log_y = [np.log(i) for i in y]\n",
    "regressor.fit(np.array(log_x).reshape(-1,1), log_y)\n",
    "print('Slope of the fitted line:', regressor.coef_[0])\n",
    "\n",
    "# Plot\n",
    "## plot log-log\n",
    "plt.loglog(x, y, '-', color='black')\n",
    "plt.xlabel('log(degree)', fontsize=14)\n",
    "plt.ylabel('log(cumulative degree)', fontsize=14);\n",
    "\n",
    "## plot line\n",
    "b = regressor.intercept_\n",
    "a = regressor.coef_[0]\n",
    "plt.plot([min_deg, max_deg],[np.exp(b)*min_deg**a,np.exp(b)*max_deg**a],color='black')\n",
    "plt.title('The log-log cumulative degree distribution')\n",
    "plt.show()"
   ]
  },
  {
   "cell_type": "markdown",
   "id": "94620c14",
   "metadata": {},
   "source": [
    "### Problem 4b"
   ]
  },
  {
   "cell_type": "code",
   "execution_count": 15,
   "id": "1e14d80a",
   "metadata": {},
   "outputs": [
    {
     "name": "stdout",
     "output_type": "stream",
     "text": [
      "['ATL']\n"
     ]
    }
   ],
   "source": [
    "total_degrees = graph.vs.degree()\n",
    "maxdeg = max(total_degrees)\n",
    "airport_names = graph.vs['name']\n",
    "\n",
    "list_busiest_airport = []\n",
    "for i,j in zip(airport_names, total_degrees):\n",
    "    if j == maxdeg:\n",
    "        list_busiest_airport.append(i)\n",
    "print(list_busiest_airport)"
   ]
  },
  {
   "cell_type": "code",
   "execution_count": 16,
   "id": "a921be06",
   "metadata": {},
   "outputs": [
    {
     "name": "stdout",
     "output_type": "stream",
     "text": [
      "The busiest airport is ATL with the total degree 336\n"
     ]
    }
   ],
   "source": [
    "print('The busiest airport is {} with the total degree {}'.format(list_busiest_airport[0], maxdeg))"
   ]
  },
  {
   "cell_type": "markdown",
   "id": "99c7f7d0",
   "metadata": {},
   "source": [
    "### Problem 4c"
   ]
  },
  {
   "cell_type": "code",
   "execution_count": 17,
   "id": "4c4acf02",
   "metadata": {},
   "outputs": [
    {
     "name": "stdout",
     "output_type": "stream",
     "text": [
      "The number of strongly connected components: 40\n"
     ]
    }
   ],
   "source": [
    "n_components = len(graph.connected_components(mode='strong'))\n",
    "print('The number of strongly connected components:', n_components)"
   ]
  },
  {
   "cell_type": "markdown",
   "id": "82ab214b",
   "metadata": {},
   "source": [
    "### Problem 4d"
   ]
  },
  {
   "cell_type": "code",
   "execution_count": 18,
   "id": "bfb34c10",
   "metadata": {},
   "outputs": [
    {
     "name": "stdout",
     "output_type": "stream",
     "text": [
      "The number of isolated nodes: 9\n"
     ]
    }
   ],
   "source": [
    "ca_airport = df_nodes[df_nodes['state']=='CA']['airport'].unique().tolist()\n",
    "graph_ca = graph.subgraph([v for v in graph.vs() if v['name'] in ca_airport])\n",
    "degrees = graph_ca.degree()\n",
    "num_isolated_nodes = [i for i in degrees if i == 0]\n",
    "print('The number of isolated nodes:', len(num_isolated_nodes))"
   ]
  },
  {
   "cell_type": "markdown",
   "id": "ce90d280",
   "metadata": {},
   "source": [
    "## Problem 5"
   ]
  },
  {
   "cell_type": "code",
   "execution_count": 6,
   "id": "bda59930",
   "metadata": {},
   "outputs": [],
   "source": [
    "from geopy.distance import geodesic\n",
    "from geopy.point import Point\n",
    "from scipy.stats.stats import pearsonr, spearmanr"
   ]
  },
  {
   "cell_type": "code",
   "execution_count": 7,
   "id": "4aed38ef",
   "metadata": {},
   "outputs": [],
   "source": [
    "## Read GridEurope graph\n",
    "## read edge list for the grid network and build undirected graph\n",
    "gr_eu = ig.Graph.Read_Ncol(\n",
    "    os.path.join(datadir, 'GridEurope/gridkit_europe-highvoltage.edges'), directed=False)\n",
    "gr_eu = gr_eu.simplify()\n",
    "\n",
    "## read the vertices along with some of the attributes\n",
    "X = pd.read_csv(\n",
    "    os.path.join(datadir, 'GridEurope/gridkit_europe-highvoltage.vertices'))\n",
    "idx = [int(i) for i in gr_eu.vs['name']]\n",
    "sorterIndex = dict(zip(idx,range(len(idx))))\n",
    "X['Rank'] = X['v_id'].map(sorterIndex)\n",
    "X.sort_values(['Rank'], ascending=[True],inplace=True)\n",
    "X.dropna(inplace=True)\n",
    "gr_eu.vs['longitude'] = list(X['lon'])\n",
    "gr_eu.vs['latitude'] = list(X['lat'])\n",
    "gr_eu.vs['type'] = list(X['typ'])"
   ]
  },
  {
   "cell_type": "code",
   "execution_count": 8,
   "id": "20d51dd3",
   "metadata": {},
   "outputs": [],
   "source": [
    "def get_geographical_distance(graph, from_v, to_v):\n",
    "    from_loc = Point(\n",
    "        latitude=graph.vs[from_v]['latitude'], \n",
    "        longitude=graph.vs[from_v]['longitude'])\n",
    "    to_loc =  Point(\n",
    "        latitude=graph.vs[to_v]['latitude'], \n",
    "        longitude=graph.vs[to_v]['longitude'])\n",
    "    geographical_distance = geodesic(from_loc, to_loc).kilometers\n",
    "    return geographical_distance\n",
    "    \n",
    "def get_shortest_graph_distance(graph, from_v, to_v):\n",
    "    results = graph.get_shortest_paths(\n",
    "        v=from_v,\n",
    "        to=to_v,\n",
    "        weights=graph.es['weight'],\n",
    "    )\n",
    "    if len(results[0]) > 0:\n",
    "        # Add up the weights across all edges on the shortest path\n",
    "        graph_distance = 0\n",
    "        for e in results[0]:\n",
    "            graph_distance += graph.es[e]['weight']\n",
    "        return graph_distance\n",
    "    else:\n",
    "        # If the two nodes are not connected\n",
    "        return np.nan"
   ]
  },
  {
   "cell_type": "code",
   "execution_count": 9,
   "id": "98652bfd",
   "metadata": {},
   "outputs": [],
   "source": [
    "## We consider the grid network as undirected weighted graph \n",
    "## which the the weight is the distance (kilometers) between two nodes.\n",
    "## Therefore, the graph distance is the shortest path or the minimum total weights between two nodes.\n",
    "## Add edge weight \n",
    "edge_weights = []\n",
    "for e in gr_eu.es:\n",
    "    from_v, to_v = e.tuple\n",
    "    geographical_distance = get_geographical_distance(gr_eu, from_v, to_v)\n",
    "    edge_weights.append(geographical_distance)\n",
    "gr_eu.es['weight'] = edge_weights"
   ]
  },
  {
   "cell_type": "code",
   "execution_count": 121,
   "id": "6a3b5b0b",
   "metadata": {},
   "outputs": [
    {
     "name": "stderr",
     "output_type": "stream",
     "text": [
      "/Users/hoangnguyen/miniconda3/envs/graphmining/lib/python3.7/site-packages/ipykernel_launcher.py:15: RuntimeWarning: Couldn't reach some vertices at src/paths/dijkstra.c:459\n",
      "  from ipykernel import kernelapp as app\n"
     ]
    }
   ],
   "source": [
    "## Randomly select n_sample node pairs\n",
    "# random.seed(0)\n",
    "n_sample = 100\n",
    "node_indices = sorted(X['Rank'].astype(int).unique())\n",
    "random.shuffle(node_indices)\n",
    "# node_pairs = list(zip(*[iter(node_indices)]*2))[:n_sample]\n",
    "node_pairs = list(zip(random.sample(node_indices, n_sample),random.sample(node_indices, n_sample)))\n",
    "list_distance = []\n",
    "\n",
    "## Calculate graph distance and geographical distance (in kilometers) between node pair\n",
    "for from_v, to_v in node_pairs:\n",
    "    geographical_distance = get_geographical_distance(gr_eu, from_v, to_v)\n",
    "    graph_distance = get_shortest_graph_distance(gr_eu, from_v, to_v)\n",
    "    list_distance.append([from_v, to_v, geographical_distance, graph_distance])"
   ]
  },
  {
   "cell_type": "code",
   "execution_count": 122,
   "id": "b40c1af5",
   "metadata": {},
   "outputs": [
    {
     "name": "stdout",
     "output_type": "stream",
     "text": [
      "(95, 4)\n"
     ]
    }
   ],
   "source": [
    "df_distance = pd.DataFrame(list_distance, columns=['from_v', 'to_v', 'geographical_distance', 'graph_distance'])\n",
    "df_distance.dropna(inplace=True) # Drop node pairs which are not connected\n",
    "print(df_distance.shape)"
   ]
  },
  {
   "cell_type": "code",
   "execution_count": 123,
   "id": "238c6498",
   "metadata": {},
   "outputs": [
    {
     "name": "stdout",
     "output_type": "stream",
     "text": [
      "Pearson correlation: 0.7088\n",
      "Spearman correlation: 0.6543\n"
     ]
    }
   ],
   "source": [
    "## Calculate correlation\n",
    "pearson_corr = pearsonr(df_distance['geographical_distance'], df_distance['graph_distance'])[0]      \n",
    "spearman_corr = spearmanr(df_distance['geographical_distance'], df_distance['graph_distance'])[0]\n",
    "print('Pearson correlation: {:.4f}'.format(pearson_corr))\n",
    "print('Spearman correlation: {:.4f}'.format(spearman_corr))"
   ]
  },
  {
   "cell_type": "markdown",
   "id": "64e895fb",
   "metadata": {},
   "source": [
    "**Observation:** The correlation values computed by two methods (i.e., Pearson and Spearman) between the graph distance and geographical distanceare around 0.66 (close 0.7) would indicate that there is a strong and positive relationship exists between the two variables."
   ]
  }
 ],
 "metadata": {
  "kernelspec": {
   "display_name": "Python 3 (ipykernel)",
   "language": "python",
   "name": "python3"
  },
  "language_info": {
   "codemirror_mode": {
    "name": "ipython",
    "version": 3
   },
   "file_extension": ".py",
   "mimetype": "text/x-python",
   "name": "python",
   "nbconvert_exporter": "python",
   "pygments_lexer": "ipython3",
   "version": "3.7.9"
  },
  "toc": {
   "base_numbering": 1,
   "nav_menu": {},
   "number_sections": true,
   "sideBar": true,
   "skip_h1_title": false,
   "title_cell": "Table of Contents",
   "title_sidebar": "Contents",
   "toc_cell": false,
   "toc_position": {
    "height": "calc(100% - 180px)",
    "left": "10px",
    "top": "150px",
    "width": "165px"
   },
   "toc_section_display": true,
   "toc_window_display": true
  }
 },
 "nbformat": 4,
 "nbformat_minor": 5
}
