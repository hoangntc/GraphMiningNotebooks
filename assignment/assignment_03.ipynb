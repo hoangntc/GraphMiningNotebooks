{
 "cells": [
  {
   "cell_type": "code",
   "execution_count": 1,
   "id": "8f9518ba",
   "metadata": {},
   "outputs": [],
   "source": [
    "import os, sys, copy\n",
    "import math\n",
    "import igraph as ig\n",
    "import numpy as np\n",
    "import pandas as pd\n",
    "import matplotlib.pyplot as plt\n",
    "import seaborn as sns\n",
    "from matplotlib import cm\n",
    "from statistics import mode\n",
    "\n",
    "sns.set_theme()\n",
    "%matplotlib inline\n",
    "\n",
    "# To export to PDF, run:\n",
    "# jupyter nbconvert --to webpdf --allow-chromium-download assignment_02.ipynb"
   ]
  },
  {
   "cell_type": "code",
   "execution_count": 2,
   "id": "af1f91ee",
   "metadata": {},
   "outputs": [],
   "source": [
    "datadir = '../Datasets/'\n",
    "\n",
    "## define edges color\n",
    "cls_edges = 'gainsboro'\n",
    "\n",
    "## we will consider 3 types of nodes with the following colors and sizes:\n",
    "cls = ['silver','dimgray','black']\n",
    "sz = [6,9,12]"
   ]
  },
  {
   "cell_type": "code",
   "execution_count": 3,
   "id": "6f5a75d8",
   "metadata": {},
   "outputs": [],
   "source": [
    "cm_names = ['degree', 'pagerank', 'authority', 'hub', 'between', 'closeness']\n",
    "\n",
    "## directed degree centrality\n",
    "def degree_centrality(g, weights=None):\n",
    "    n = g.vcount()\n",
    "    if g.is_directed():\n",
    "        dc = [sum(x)/(2*(n-1)) for x in zip(g.strength(mode='in', weights=weights),\\\n",
    "              g.strength(mode='out', weights=weights))]\n",
    "    else:\n",
    "        dc = [x/(n-1) for x in g.strength(weights=weights)]\n",
    "    return dc\n",
    "\n",
    "def generate_centrality_measure(G, node_type_name, with_weight=True):\n",
    "    if with_weight:\n",
    "        ## compute normalized weights \n",
    "        mw = np.max(G.es['weight'])\n",
    "        G.es()['normalized_weight'] = [w/mw for w in G.es()['weight']]\n",
    "        normalized_weight = 'normalized_weight'\n",
    "        weights = 'weight'\n",
    "    else:\n",
    "        normalized_weight = None\n",
    "        weights = None\n",
    "    \n",
    "    ## compute several centrality measures for the CA subgraph G\n",
    "    C = pd.DataFrame({node_type_name: G.vs()['name'],\n",
    "                      'd': G.degree(),\n",
    "                      'degree': degree_centrality(G,weights=normalized_weight),\n",
    "                      'pagerank': G.pagerank(weights=weights),\n",
    "                      'authority': G.authority_score(weights=weights),\n",
    "                      'hub': G.hub_score(weights=weights),\n",
    "                      'between': G.betweenness(),\n",
    "                      'closeness': G.closeness()})\n",
    "\n",
    "    ## normalize betweenness\n",
    "    n = G.vcount()\n",
    "    C['between'] = [2*x/((n-1)*(n-2)) for x in C['between']]\n",
    "    \n",
    "    return C"
   ]
  },
  {
   "cell_type": "markdown",
   "id": "343cc730",
   "metadata": {},
   "source": [
    "# Problem 1"
   ]
  },
  {
   "cell_type": "code",
   "execution_count": 4,
   "id": "64b924b5",
   "metadata": {},
   "outputs": [
    {
     "name": "stdout",
     "output_type": "stream",
     "text": [
      "State: ['PA' 'TX' 'NM' 'SD' 'GA' 'CA' 'NJ' 'AK' 'LA' 'IN' 'NY' 'IA' 'WA' 'AL'\n",
      " 'SC' 'FL' 'MI' 'OR' 'WI' 'ME' 'NC' 'AZ' 'CT' 'NE' 'MT' 'ND' 'MN' 'OH'\n",
      " 'WV' 'IL' 'TN' 'MA' 'VT' 'KY' 'MD' 'UT' 'MO' 'VA' 'CO' 'WY' 'DC' 'KS'\n",
      " 'DE' 'NV' 'AR' 'MS' 'HI' 'ID' 'OK' 'NH' 'RI']\n",
      "464 nodes and 12000 directed edges\n"
     ]
    }
   ],
   "source": [
    "## read edges and build weighted directed graph\n",
    "D = pd.read_csv(os.path.join(datadir, 'Airports/connections.csv'))\n",
    "g = ig.Graph.TupleList([tuple(x) for x in D.values], directed=True, edge_attrs=['weight'])\n",
    "\n",
    "## read vertex attributes and add to graph\n",
    "A = pd.read_csv(datadir+'Airports/airports_loc.csv')\n",
    "lookup = {k:v for v,k in enumerate(A['airport'])}\n",
    "l = [lookup[x] for x in g.vs()['name']]\n",
    "g.vs()['state'] = [A['state'][i] for i in l]\n",
    "g.vs()['city'] = [A['city'][i] for i in l]\n",
    "print('State:', A.state.unique())\n",
    "print(g.vcount(),'nodes and',g.ecount(),'directed edges')"
   ]
  },
  {
   "cell_type": "code",
   "execution_count": 5,
   "id": "e25aa60c",
   "metadata": {},
   "outputs": [
    {
     "data": {
      "text/html": [
       "<div>\n",
       "<style scoped>\n",
       "    .dataframe tbody tr th:only-of-type {\n",
       "        vertical-align: middle;\n",
       "    }\n",
       "\n",
       "    .dataframe tbody tr th {\n",
       "        vertical-align: top;\n",
       "    }\n",
       "\n",
       "    .dataframe thead th {\n",
       "        text-align: right;\n",
       "    }\n",
       "</style>\n",
       "<table border=\"1\" class=\"dataframe\">\n",
       "  <thead>\n",
       "    <tr style=\"text-align: right;\">\n",
       "      <th></th>\n",
       "      <th>orig_airport</th>\n",
       "      <th>dest_airport</th>\n",
       "      <th>total_passengers</th>\n",
       "    </tr>\n",
       "  </thead>\n",
       "  <tbody>\n",
       "    <tr>\n",
       "      <th>0</th>\n",
       "      <td>SFO</td>\n",
       "      <td>LAX</td>\n",
       "      <td>1442105</td>\n",
       "    </tr>\n",
       "    <tr>\n",
       "      <th>1</th>\n",
       "      <td>LAX</td>\n",
       "      <td>SFO</td>\n",
       "      <td>1438639</td>\n",
       "    </tr>\n",
       "    <tr>\n",
       "      <th>2</th>\n",
       "      <td>MCO</td>\n",
       "      <td>ATL</td>\n",
       "      <td>1436625</td>\n",
       "    </tr>\n",
       "    <tr>\n",
       "      <th>3</th>\n",
       "      <td>ATL</td>\n",
       "      <td>MCO</td>\n",
       "      <td>1424069</td>\n",
       "    </tr>\n",
       "    <tr>\n",
       "      <th>4</th>\n",
       "      <td>LAX</td>\n",
       "      <td>JFK</td>\n",
       "      <td>1277731</td>\n",
       "    </tr>\n",
       "  </tbody>\n",
       "</table>\n",
       "</div>"
      ],
      "text/plain": [
       "  orig_airport dest_airport  total_passengers\n",
       "0          SFO          LAX           1442105\n",
       "1          LAX          SFO           1438639\n",
       "2          MCO          ATL           1436625\n",
       "3          ATL          MCO           1424069\n",
       "4          LAX          JFK           1277731"
      ]
     },
     "metadata": {},
     "output_type": "display_data"
    },
    {
     "data": {
      "text/html": [
       "<div>\n",
       "<style scoped>\n",
       "    .dataframe tbody tr th:only-of-type {\n",
       "        vertical-align: middle;\n",
       "    }\n",
       "\n",
       "    .dataframe tbody tr th {\n",
       "        vertical-align: top;\n",
       "    }\n",
       "\n",
       "    .dataframe thead th {\n",
       "        text-align: right;\n",
       "    }\n",
       "</style>\n",
       "<table border=\"1\" class=\"dataframe\">\n",
       "  <thead>\n",
       "    <tr style=\"text-align: right;\">\n",
       "      <th></th>\n",
       "      <th>airport</th>\n",
       "      <th>lon</th>\n",
       "      <th>lat</th>\n",
       "      <th>state</th>\n",
       "      <th>city</th>\n",
       "    </tr>\n",
       "  </thead>\n",
       "  <tbody>\n",
       "    <tr>\n",
       "      <th>0</th>\n",
       "      <td>ABE</td>\n",
       "      <td>-75.440804</td>\n",
       "      <td>40.652100</td>\n",
       "      <td>PA</td>\n",
       "      <td>Allentown</td>\n",
       "    </tr>\n",
       "    <tr>\n",
       "      <th>1</th>\n",
       "      <td>ABI</td>\n",
       "      <td>-99.681900</td>\n",
       "      <td>32.411301</td>\n",
       "      <td>TX</td>\n",
       "      <td>Abilene</td>\n",
       "    </tr>\n",
       "    <tr>\n",
       "      <th>2</th>\n",
       "      <td>ABQ</td>\n",
       "      <td>-106.609001</td>\n",
       "      <td>35.040199</td>\n",
       "      <td>NM</td>\n",
       "      <td>Albuquerque</td>\n",
       "    </tr>\n",
       "    <tr>\n",
       "      <th>3</th>\n",
       "      <td>ABR</td>\n",
       "      <td>-98.421799</td>\n",
       "      <td>45.449100</td>\n",
       "      <td>SD</td>\n",
       "      <td>Aberdeen</td>\n",
       "    </tr>\n",
       "    <tr>\n",
       "      <th>4</th>\n",
       "      <td>ABY</td>\n",
       "      <td>-84.194504</td>\n",
       "      <td>31.535500</td>\n",
       "      <td>GA</td>\n",
       "      <td>Albany</td>\n",
       "    </tr>\n",
       "  </tbody>\n",
       "</table>\n",
       "</div>"
      ],
      "text/plain": [
       "  airport         lon        lat state         city\n",
       "0     ABE  -75.440804  40.652100    PA    Allentown\n",
       "1     ABI  -99.681900  32.411301    TX      Abilene\n",
       "2     ABQ -106.609001  35.040199    NM  Albuquerque\n",
       "3     ABR  -98.421799  45.449100    SD     Aberdeen\n",
       "4     ABY  -84.194504  31.535500    GA       Albany"
      ]
     },
     "metadata": {},
     "output_type": "display_data"
    }
   ],
   "source": [
    "display(D.head())\n",
    "display(A.head())"
   ]
  },
  {
   "cell_type": "code",
   "execution_count": 6,
   "id": "8a4e7523",
   "metadata": {},
   "outputs": [
    {
     "name": "stdout",
     "output_type": "stream",
     "text": [
      "13 nodes and 50 directed edges\n"
     ]
    }
   ],
   "source": [
    "## Build smaller subgraph 'G' for New York\n",
    "G = g.subgraph([v for v in g.vs() if v['state'] == 'NY'])\n",
    "\n",
    "## drop isolated vertices (i.e. without in-state connections)\n",
    "G = G.subgraph([v for v in G.vs() if v.degree()>0])\n",
    "\n",
    "## remove loops if any\n",
    "G = G.simplify(multiple=False)\n",
    "print(G.vcount(),'nodes and',G.ecount(),'directed edges')"
   ]
  },
  {
   "cell_type": "code",
   "execution_count": 7,
   "id": "7cc121fc",
   "metadata": {},
   "outputs": [],
   "source": [
    "## directed degree centrality\n",
    "def degree_centrality(g, weights=None):\n",
    "    n = g.vcount()\n",
    "    if g.is_directed():\n",
    "        dc = [sum(x)/(2*(n-1)) for x in zip(g.strength(mode='in',weights=weights),\\\n",
    "              g.strength(mode='out',weights=weights))]\n",
    "    else:\n",
    "        dc = [x/(n-1) for x in g.strength(weights=weights)]\n",
    "    return dc\n",
    "\n",
    "def generate_centrality_measure(G, node_type_name, with_weight=True):\n",
    "    if with_weight:\n",
    "        ## compute normalized weights \n",
    "        mw = np.max(G.es['weight'])\n",
    "        G.es()['normalized_weight'] = [w/mw for w in G.es()['weight']]\n",
    "        normalized_weight = 'normalized_weight'\n",
    "        weights = 'weight'\n",
    "    else:\n",
    "        normalized_weight = None\n",
    "        weights = None\n",
    "    \n",
    "    ## compute several centrality measures for the CA subgraph G\n",
    "    C = pd.DataFrame({node_type_name: G.vs()['name'],\n",
    "                      'd': G.degree(),\n",
    "                      'degree': degree_centrality(G,weights=normalized_weight),\n",
    "                      'pagerank': G.pagerank(weights=weights),\n",
    "                      'authority': G.authority_score(weights=weights),\n",
    "                      'hub': G.hub_score(weights=weights),\n",
    "                      'between': G.betweenness(),\n",
    "                      'closeness': G.closeness()})\n",
    "\n",
    "    ## normalize betweenness\n",
    "    n = G.vcount()\n",
    "    C['between'] = [2*x/((n-1)*(n-2)) for x in C['between']]\n",
    "    \n",
    "    return C"
   ]
  },
  {
   "cell_type": "code",
   "execution_count": 8,
   "id": "bd6f568f",
   "metadata": {},
   "outputs": [
    {
     "data": {
      "text/html": [
       "<div>\n",
       "<style scoped>\n",
       "    .dataframe tbody tr th:only-of-type {\n",
       "        vertical-align: middle;\n",
       "    }\n",
       "\n",
       "    .dataframe tbody tr th {\n",
       "        vertical-align: top;\n",
       "    }\n",
       "\n",
       "    .dataframe thead th {\n",
       "        text-align: right;\n",
       "    }\n",
       "</style>\n",
       "<table border=\"1\" class=\"dataframe\">\n",
       "  <thead>\n",
       "    <tr style=\"text-align: right;\">\n",
       "      <th></th>\n",
       "      <th>airport</th>\n",
       "      <th>d</th>\n",
       "      <th>degree</th>\n",
       "      <th>pagerank</th>\n",
       "      <th>authority</th>\n",
       "      <th>hub</th>\n",
       "      <th>between</th>\n",
       "      <th>closeness</th>\n",
       "    </tr>\n",
       "  </thead>\n",
       "  <tbody>\n",
       "    <tr>\n",
       "      <th>0</th>\n",
       "      <td>JFK</td>\n",
       "      <td>14</td>\n",
       "      <td>0.173125</td>\n",
       "      <td>0.342720</td>\n",
       "      <td>1.000000</td>\n",
       "      <td>0.373760</td>\n",
       "      <td>0.647727</td>\n",
       "      <td>0.705882</td>\n",
       "    </tr>\n",
       "    <tr>\n",
       "      <th>2</th>\n",
       "      <td>BUF</td>\n",
       "      <td>12</td>\n",
       "      <td>0.101629</td>\n",
       "      <td>0.195702</td>\n",
       "      <td>0.261299</td>\n",
       "      <td>1.000000</td>\n",
       "      <td>0.167929</td>\n",
       "      <td>0.705882</td>\n",
       "    </tr>\n",
       "    <tr>\n",
       "      <th>4</th>\n",
       "      <td>ROC</td>\n",
       "      <td>9</td>\n",
       "      <td>0.054908</td>\n",
       "      <td>0.109433</td>\n",
       "      <td>0.141841</td>\n",
       "      <td>0.546989</td>\n",
       "      <td>0.000000</td>\n",
       "      <td>0.631579</td>\n",
       "    </tr>\n",
       "    <tr>\n",
       "      <th>5</th>\n",
       "      <td>SYR</td>\n",
       "      <td>14</td>\n",
       "      <td>0.044959</td>\n",
       "      <td>0.097118</td>\n",
       "      <td>0.113975</td>\n",
       "      <td>0.459400</td>\n",
       "      <td>0.243687</td>\n",
       "      <td>0.750000</td>\n",
       "    </tr>\n",
       "    <tr>\n",
       "      <th>1</th>\n",
       "      <td>LGA</td>\n",
       "      <td>14</td>\n",
       "      <td>0.040011</td>\n",
       "      <td>0.108312</td>\n",
       "      <td>0.213367</td>\n",
       "      <td>0.078989</td>\n",
       "      <td>0.286616</td>\n",
       "      <td>0.750000</td>\n",
       "    </tr>\n",
       "  </tbody>\n",
       "</table>\n",
       "</div>"
      ],
      "text/plain": [
       "  airport   d    degree  pagerank  authority       hub   between  closeness\n",
       "0     JFK  14  0.173125  0.342720   1.000000  0.373760  0.647727   0.705882\n",
       "2     BUF  12  0.101629  0.195702   0.261299  1.000000  0.167929   0.705882\n",
       "4     ROC   9  0.054908  0.109433   0.141841  0.546989  0.000000   0.631579\n",
       "5     SYR  14  0.044959  0.097118   0.113975  0.459400  0.243687   0.750000\n",
       "1     LGA  14  0.040011  0.108312   0.213367  0.078989  0.286616   0.750000"
      ]
     },
     "execution_count": 8,
     "metadata": {},
     "output_type": "execute_result"
    }
   ],
   "source": [
    "C = generate_centrality_measure(G, node_type_name='airport')\n",
    "\n",
    "## sort w.r.t. degree centrality, look at top airports\n",
    "Cs = C.sort_values(by='degree', ascending=False)\n",
    "Cs.head()"
   ]
  },
  {
   "cell_type": "markdown",
   "id": "00c1995d",
   "metadata": {},
   "source": [
    "# Problem 2"
   ]
  },
  {
   "cell_type": "code",
   "execution_count": 9,
   "id": "5eea5f6c",
   "metadata": {},
   "outputs": [],
   "source": [
    "## fast Chung-Lu: generate m edges w.r.t. distribution d\n",
    "def fastCL(d, m):\n",
    "    n = len(d)\n",
    "    s = np.sum(d)\n",
    "    p = [i/s for i in d]\n",
    "    target = m\n",
    "    tples = []\n",
    "    ## generate edges (tuples), drop collisions, until m edges are obtained.\n",
    "    while len(tples) < target:\n",
    "        s = target - len(tples)\n",
    "        e0 = np.random.choice(n, size=s, replace=True, p=p)\n",
    "        e1 = np.random.choice(n, size=s, replace=True, p=p)\n",
    "        tples.extend([(min(e0[i],e1[i]),max(e0[i],e1[i])) for i in range(len(e0)) if e0[i]!=e1[i]]) ## ignore loops\n",
    "        tples = list(set(tples)) ## drop collisions\n",
    "    return tples"
   ]
  },
  {
   "cell_type": "code",
   "execution_count": 10,
   "id": "644d4375",
   "metadata": {},
   "outputs": [
    {
     "name": "stdout",
     "output_type": "stream",
     "text": [
      "isolates: 1872\n"
     ]
    }
   ],
   "source": [
    "## power law graph\n",
    "gamma = 2.5\n",
    "n = 10000\n",
    "\n",
    "## min and max degrees\n",
    "delta = 1\n",
    "Delta = np.sqrt(n)\n",
    "\n",
    "## generate degrees\n",
    "W = []\n",
    "for i in np.arange(1,n+1):\n",
    "    W.append(delta * (n/(i-1+n/(Delta/delta)**(gamma-1)))**(1/(gamma-1)))\n",
    "\n",
    "# deg = [int(np.round(w)) for w in W] ## to enforce integer weights, not an obligation\n",
    "deg = W\n",
    "\n",
    "## generate graph with Chung-Lu model\n",
    "m = int(np.mean(deg)*n/2)\n",
    "tpl = fastCL(deg,m)\n",
    "g1 = ig.Graph.TupleList(tpl)\n",
    "\n",
    "## number of isolated nodes (no edges)\n",
    "iso = n - g1.vcount()\n",
    "print('isolates:',iso)"
   ]
  },
  {
   "cell_type": "code",
   "execution_count": 11,
   "id": "730731b8",
   "metadata": {},
   "outputs": [
    {
     "data": {
      "text/html": [
       "<div>\n",
       "<style scoped>\n",
       "    .dataframe tbody tr th:only-of-type {\n",
       "        vertical-align: middle;\n",
       "    }\n",
       "\n",
       "    .dataframe tbody tr th {\n",
       "        vertical-align: top;\n",
       "    }\n",
       "\n",
       "    .dataframe thead th {\n",
       "        text-align: right;\n",
       "    }\n",
       "</style>\n",
       "<table border=\"1\" class=\"dataframe\">\n",
       "  <thead>\n",
       "    <tr style=\"text-align: right;\">\n",
       "      <th></th>\n",
       "      <th>node_id</th>\n",
       "      <th>d</th>\n",
       "      <th>degree</th>\n",
       "      <th>pagerank</th>\n",
       "      <th>authority</th>\n",
       "      <th>hub</th>\n",
       "      <th>between</th>\n",
       "      <th>closeness</th>\n",
       "    </tr>\n",
       "  </thead>\n",
       "  <tbody>\n",
       "    <tr>\n",
       "      <th>0</th>\n",
       "      <td>94</td>\n",
       "      <td>14</td>\n",
       "      <td>0.001723</td>\n",
       "      <td>0.000424</td>\n",
       "      <td>0.014150</td>\n",
       "      <td>0.014150</td>\n",
       "      <td>0.002622</td>\n",
       "      <td>0.207897</td>\n",
       "    </tr>\n",
       "    <tr>\n",
       "      <th>1</th>\n",
       "      <td>4219</td>\n",
       "      <td>1</td>\n",
       "      <td>0.000123</td>\n",
       "      <td>0.000044</td>\n",
       "      <td>0.001080</td>\n",
       "      <td>0.001080</td>\n",
       "      <td>0.000000</td>\n",
       "      <td>0.172119</td>\n",
       "    </tr>\n",
       "    <tr>\n",
       "      <th>2</th>\n",
       "      <td>123</td>\n",
       "      <td>21</td>\n",
       "      <td>0.002584</td>\n",
       "      <td>0.000605</td>\n",
       "      <td>0.105427</td>\n",
       "      <td>0.105427</td>\n",
       "      <td>0.007892</td>\n",
       "      <td>0.238184</td>\n",
       "    </tr>\n",
       "    <tr>\n",
       "      <th>3</th>\n",
       "      <td>3904</td>\n",
       "      <td>1</td>\n",
       "      <td>0.000123</td>\n",
       "      <td>0.000043</td>\n",
       "      <td>0.008045</td>\n",
       "      <td>0.008045</td>\n",
       "      <td>0.000000</td>\n",
       "      <td>0.192371</td>\n",
       "    </tr>\n",
       "    <tr>\n",
       "      <th>4</th>\n",
       "      <td>3951</td>\n",
       "      <td>3</td>\n",
       "      <td>0.000369</td>\n",
       "      <td>0.000138</td>\n",
       "      <td>0.000448</td>\n",
       "      <td>0.000448</td>\n",
       "      <td>0.000259</td>\n",
       "      <td>0.161217</td>\n",
       "    </tr>\n",
       "  </tbody>\n",
       "</table>\n",
       "</div>"
      ],
      "text/plain": [
       "   node_id   d    degree  pagerank  authority       hub   between  closeness\n",
       "0       94  14  0.001723  0.000424   0.014150  0.014150  0.002622   0.207897\n",
       "1     4219   1  0.000123  0.000044   0.001080  0.001080  0.000000   0.172119\n",
       "2      123  21  0.002584  0.000605   0.105427  0.105427  0.007892   0.238184\n",
       "3     3904   1  0.000123  0.000043   0.008045  0.008045  0.000000   0.192371\n",
       "4     3951   3  0.000369  0.000138   0.000448  0.000448  0.000259   0.161217"
      ]
     },
     "execution_count": 11,
     "metadata": {},
     "output_type": "execute_result"
    }
   ],
   "source": [
    "C = generate_centrality_measure(g1, node_type_name='node_id', with_weight=False)\n",
    "C.head()"
   ]
  },
  {
   "cell_type": "code",
   "execution_count": 12,
   "id": "9a31bdf3",
   "metadata": {},
   "outputs": [
    {
     "name": "stdout",
     "output_type": "stream",
     "text": [
      "min_degree=1 - max_degree=103\n"
     ]
    }
   ],
   "source": [
    "degrees = g1.degree()\n",
    "min_degree = min(degrees)\n",
    "max_degree = max(degrees)\n",
    "ls_mean_centrality_measure = []\n",
    "print(f'min_degree={min_degree} - max_degree={max_degree}')\n",
    "for k in sorted(set(degrees)):\n",
    "#     G1 = g1.subgraph([v for v in g1.vs() if v.degree() == k])\n",
    "#     if len(G1.vs()) <= 0: continue\n",
    "#     G1_vs_ids = [v['name'] for v in G1.vs()]\n",
    "#     C1 = C[C['node_id'].isin(G1_vs_ids)]\n",
    "    C1 = C[C['d']==k]\n",
    "    mean_df = C1[cm_names].mean(axis=0)\n",
    "    ls_mean_centrality_measure.append([k] + list(mean_df.values))"
   ]
  },
  {
   "cell_type": "code",
   "execution_count": 13,
   "id": "1112f388",
   "metadata": {},
   "outputs": [
    {
     "data": {
      "text/html": [
       "<div>\n",
       "<style scoped>\n",
       "    .dataframe tbody tr th:only-of-type {\n",
       "        vertical-align: middle;\n",
       "    }\n",
       "\n",
       "    .dataframe tbody tr th {\n",
       "        vertical-align: top;\n",
       "    }\n",
       "\n",
       "    .dataframe thead th {\n",
       "        text-align: right;\n",
       "    }\n",
       "</style>\n",
       "<table border=\"1\" class=\"dataframe\">\n",
       "  <thead>\n",
       "    <tr style=\"text-align: right;\">\n",
       "      <th></th>\n",
       "      <th>k</th>\n",
       "      <th>degree</th>\n",
       "      <th>pagerank</th>\n",
       "      <th>authority</th>\n",
       "      <th>hub</th>\n",
       "      <th>between</th>\n",
       "      <th>closeness</th>\n",
       "    </tr>\n",
       "  </thead>\n",
       "  <tbody>\n",
       "    <tr>\n",
       "      <th>0</th>\n",
       "      <td>1.0</td>\n",
       "      <td>0.000123</td>\n",
       "      <td>0.000059</td>\n",
       "      <td>0.003427</td>\n",
       "      <td>0.003427</td>\n",
       "      <td>0.000000</td>\n",
       "      <td>0.260585</td>\n",
       "    </tr>\n",
       "    <tr>\n",
       "      <th>1</th>\n",
       "      <td>2.0</td>\n",
       "      <td>0.000246</td>\n",
       "      <td>0.000085</td>\n",
       "      <td>0.006757</td>\n",
       "      <td>0.006757</td>\n",
       "      <td>0.000122</td>\n",
       "      <td>0.188432</td>\n",
       "    </tr>\n",
       "    <tr>\n",
       "      <th>2</th>\n",
       "      <td>3.0</td>\n",
       "      <td>0.000369</td>\n",
       "      <td>0.000112</td>\n",
       "      <td>0.011180</td>\n",
       "      <td>0.011180</td>\n",
       "      <td>0.000272</td>\n",
       "      <td>0.188496</td>\n",
       "    </tr>\n",
       "    <tr>\n",
       "      <th>3</th>\n",
       "      <td>4.0</td>\n",
       "      <td>0.000492</td>\n",
       "      <td>0.000141</td>\n",
       "      <td>0.012963</td>\n",
       "      <td>0.012963</td>\n",
       "      <td>0.000416</td>\n",
       "      <td>0.193171</td>\n",
       "    </tr>\n",
       "    <tr>\n",
       "      <th>4</th>\n",
       "      <td>5.0</td>\n",
       "      <td>0.000615</td>\n",
       "      <td>0.000168</td>\n",
       "      <td>0.018655</td>\n",
       "      <td>0.018655</td>\n",
       "      <td>0.000614</td>\n",
       "      <td>0.199173</td>\n",
       "    </tr>\n",
       "  </tbody>\n",
       "</table>\n",
       "</div>"
      ],
      "text/plain": [
       "     k    degree  pagerank  authority       hub   between  closeness\n",
       "0  1.0  0.000123  0.000059   0.003427  0.003427  0.000000   0.260585\n",
       "1  2.0  0.000246  0.000085   0.006757  0.006757  0.000122   0.188432\n",
       "2  3.0  0.000369  0.000112   0.011180  0.011180  0.000272   0.188496\n",
       "3  4.0  0.000492  0.000141   0.012963  0.012963  0.000416   0.193171\n",
       "4  5.0  0.000615  0.000168   0.018655  0.018655  0.000614   0.199173"
      ]
     },
     "metadata": {},
     "output_type": "display_data"
    }
   ],
   "source": [
    "df2 = pd.DataFrame(np.array(ls_mean_centrality_measure),\n",
    "                   columns=['k'] + cm_names).fillna(0.0)\n",
    "display(df2.head())"
   ]
  },
  {
   "cell_type": "code",
   "execution_count": 14,
   "id": "164430e4",
   "metadata": {},
   "outputs": [
    {
     "data": {
      "image/png": "[encoded data removed]",
      "text/plain": [
       "<Figure size 2000x1000 with 6 Axes>"
      ]
     },
     "metadata": {},
     "output_type": "display_data"
    }
   ],
   "source": [
    "ncols = 3\n",
    "nrows = math.ceil(len(cm_names)/ncols)\n",
    "fig, axes = plt.subplots(figsize=[20, 5*nrows], nrows=nrows, ncols=ncols)\n",
    "xticks = range(min_degree, max_degree+1)\n",
    "\n",
    "for i,var in enumerate(cm_names):\n",
    "    corr = np.round(df2['k'].corr(df2[var]), 2)\n",
    "    ax = axes[i//ncols, i%ncols]\n",
    "    ax.scatter(x=df2['k'], y=df2[var])\n",
    "    ax.grid(True)\n",
    "    ax.set_title(f'{var} - Corr={corr}', size=14)\n",
    "    ax.set_xlabel('Node degree', size=14)\n",
    "    ax.set_ylabel('Mean centrality', size=14)\n",
    "\n",
    "# fig.suptitle(, size=14)\n",
    "plt.tight_layout()\n",
    "plt.show()"
   ]
  },
  {
   "cell_type": "markdown",
   "id": "9208c024",
   "metadata": {},
   "source": [
    "# Problem 3"
   ]
  },
  {
   "cell_type": "code",
   "execution_count": 15,
   "id": "3eae71e1",
   "metadata": {},
   "outputs": [
    {
     "data": {
      "text/plain": [
       "array(['PA', 'TX', 'NM', 'SD', 'GA', 'CA', 'NJ', 'AK', 'LA', 'IN', 'NY',\n",
       "       'IA', 'WA', 'AL', 'SC', 'FL', 'MI', 'OR', 'WI', 'ME', 'NC', 'AZ',\n",
       "       'CT', 'NE', 'MT', 'ND', 'MN', 'OH', 'WV', 'IL', 'TN', 'MA', 'VT',\n",
       "       'KY', 'MD', 'UT', 'MO', 'VA', 'CO', 'WY', 'DC', 'KS', 'DE', 'NV',\n",
       "       'AR', 'MS', 'HI', 'ID', 'OK', 'NH', 'RI'], dtype=object)"
      ]
     },
     "execution_count": 15,
     "metadata": {},
     "output_type": "execute_result"
    }
   ],
   "source": [
    "## read edges and build weighted directed graph\n",
    "D = pd.read_csv(os.path.join(datadir, 'Airports/connections.csv'))\n",
    "g = ig.Graph.TupleList([tuple(x) for x in D.values], directed=True, edge_attrs=['weight'])\n",
    "\n",
    "## read vertex attributes and add to graph\n",
    "A = pd.read_csv(datadir+'Airports/airports_loc.csv')\n",
    "lookup = {k:v for v,k in enumerate(A['airport'])}\n",
    "l = [lookup[x] for x in g.vs()['name']]\n",
    "A.state.unique()"
   ]
  },
  {
   "cell_type": "code",
   "execution_count": 16,
   "id": "3b4b1028",
   "metadata": {},
   "outputs": [],
   "source": [
    "# get big weakly connected component\n",
    "G = g.connected_components(mode='weak').giant()"
   ]
  },
  {
   "cell_type": "code",
   "execution_count": 17,
   "id": "a05d6c2b",
   "metadata": {},
   "outputs": [
    {
     "name": "stdout",
     "output_type": "stream",
     "text": [
      "\n",
      "\n",
      "=========== centrality_measure = degree ===========\n",
      "----------- remove_smallest = True ----------\n",
      "remove 2 airports\n",
      "----------- remove_smallest = False ----------\n",
      "remove 179 airports\n",
      "\n",
      "\n",
      "=========== centrality_measure = pagerank ===========\n",
      "----------- remove_smallest = True ----------\n",
      "remove 2 airports\n",
      "----------- remove_smallest = False ----------\n",
      "remove 36 airports\n",
      "\n",
      "\n",
      "=========== centrality_measure = authority ===========\n",
      "----------- remove_smallest = True ----------\n",
      "remove 2 airports\n",
      "----------- remove_smallest = False ----------\n",
      "remove 10 airports\n",
      "\n",
      "\n",
      "=========== centrality_measure = hub ===========\n",
      "----------- remove_smallest = True ----------\n",
      "remove 2 airports\n",
      "----------- remove_smallest = False ----------\n",
      "remove 462 airports\n",
      "\n",
      "\n",
      "=========== centrality_measure = between ===========\n",
      "----------- remove_smallest = True ----------\n",
      "remove 4 airports\n",
      "----------- remove_smallest = False ----------\n",
      "remove 462 airports\n",
      "\n",
      "\n",
      "=========== centrality_measure = closeness ===========\n",
      "----------- remove_smallest = True ----------\n",
      "remove 1 airports\n",
      "----------- remove_smallest = False ----------\n",
      "remove 462 airports\n"
     ]
    }
   ],
   "source": [
    "# get centrality with weights\n",
    "C = generate_centrality_measure(G, node_type_name='airport')\n",
    "for cm_name in cm_names:\n",
    "    print(f\"\\n\\n=========== centrality_measure = {cm_name} ===========\")\n",
    "    for ascending in [True, False]:\n",
    "        print(f\"----------- remove_smallest = {ascending} ----------\")\n",
    "        G_i = copy.deepcopy(G)\n",
    "        C = C.sort_values(by=cm_name, ascending=ascending)\n",
    "        ls_airport_i = C['airport'].values.tolist()\n",
    "        removed_airports = []\n",
    "        while G_i.is_connected(mode='weak'):\n",
    "            if (len(G_i.vs()) == 0) or (len(G_i.es()) == 0):\n",
    "                break\n",
    "            removed_one = ls_airport_i.pop()\n",
    "            removed_airports.append(removed_one)\n",
    "            vs = G_i.vs()\n",
    "            G_i.delete_vertices([removed_one])\n",
    "        print(f\"remove {len(removed_airports)} airports\")"
   ]
  },
  {
   "cell_type": "code",
   "execution_count": 18,
   "id": "773b6b97",
   "metadata": {},
   "outputs": [
    {
     "name": "stdout",
     "output_type": "stream",
     "text": [
      "\n",
      "\n",
      "=========== centrality_measure = degree ===========\n",
      "----------- remove_smallest = True ----------\n",
      "remove 3 airports\n",
      "----------- remove_smallest = False ----------\n",
      "remove 462 airports\n",
      "\n",
      "\n",
      "=========== centrality_measure = pagerank ===========\n",
      "----------- remove_smallest = True ----------\n",
      "remove 6 airports\n",
      "----------- remove_smallest = False ----------\n",
      "remove 189 airports\n",
      "\n",
      "\n",
      "=========== centrality_measure = authority ===========\n",
      "----------- remove_smallest = True ----------\n",
      "remove 2 airports\n",
      "----------- remove_smallest = False ----------\n",
      "remove 10 airports\n",
      "\n",
      "\n",
      "=========== centrality_measure = hub ===========\n",
      "----------- remove_smallest = True ----------\n",
      "remove 2 airports\n",
      "----------- remove_smallest = False ----------\n",
      "remove 20 airports\n",
      "\n",
      "\n",
      "=========== centrality_measure = between ===========\n",
      "----------- remove_smallest = True ----------\n",
      "remove 4 airports\n",
      "----------- remove_smallest = False ----------\n",
      "remove 462 airports\n",
      "\n",
      "\n",
      "=========== centrality_measure = closeness ===========\n",
      "----------- remove_smallest = True ----------\n",
      "remove 1 airports\n",
      "----------- remove_smallest = False ----------\n",
      "remove 462 airports\n"
     ]
    }
   ],
   "source": [
    "# get centrality without weights\n",
    "C = generate_centrality_measure(G, node_type_name='airport', with_weight=False)\n",
    "for cm_name in cm_names:\n",
    "    print(f\"\\n\\n=========== centrality_measure = {cm_name} ===========\")\n",
    "    for ascending in [True, False]:\n",
    "        print(f\"----------- remove_smallest = {ascending} ----------\")\n",
    "        G_i = copy.deepcopy(G)\n",
    "        C = C.sort_values(by=cm_name, ascending=ascending)\n",
    "        ls_airport_i = C['airport'].values.tolist()\n",
    "        removed_airports = []\n",
    "        while G_i.is_connected(mode='weak'):\n",
    "            if (len(G_i.vs()) == 0) or (len(G_i.es()) == 0):\n",
    "                break\n",
    "            removed_one = ls_airport_i.pop()\n",
    "            removed_airports.append(removed_one)\n",
    "            vs = G_i.vs()\n",
    "            G_i.delete_vertices([removed_one])\n",
    "        print(f\"remove {len(removed_airports)} airports\")"
   ]
  },
  {
   "cell_type": "markdown",
   "id": "0a5c9dfd",
   "metadata": {},
   "source": [
    "**Observation:** The results when centrality measures computed with weights and without weights are slightly different. However, in overall, we need to remove more nodes with low centrality value to make the graph disconnected compared to remove nodes with high centrality value."
   ]
  },
  {
   "cell_type": "markdown",
   "id": "4e048b96",
   "metadata": {},
   "source": [
    "# Problem 5"
   ]
  },
  {
   "cell_type": "code",
   "execution_count": 19,
   "id": "a3a50e3c",
   "metadata": {},
   "outputs": [],
   "source": [
    "## read edges and build weighted directed graph\n",
    "D = pd.read_csv(os.path.join(datadir, 'Airports/connections.csv'))\n",
    "g = ig.Graph.TupleList([tuple(x) for x in D.values], directed=True, edge_attrs=['weight'])\n",
    "\n",
    "## read vertex attributes and add to graph\n",
    "A = pd.read_csv(datadir+'Airports/airports_loc.csv')\n",
    "lookup = {k:v for v,k in enumerate(A['airport'])}\n",
    "l = [lookup[x] for x in g.vs()['name']]\n",
    "g.vs()['state'] = [A['state'][i] for i in l]"
   ]
  },
  {
   "cell_type": "code",
   "execution_count": 20,
   "id": "59bc4735",
   "metadata": {},
   "outputs": [],
   "source": [
    "states = sorted(set([v['state'] for v in g.vs()]))\n",
    "state_dict = {state:i for i, state in enumerate(states)}\n",
    "mapping = [state_dict[v['state']] for v in g.vs()]\n",
    "state_g = g.copy()\n",
    "state_g.contract_vertices(mapping, combine_attrs='first')\n",
    "state_g = state_g.simplify(loops=True, combine_edges={\"weight\": sum})"
   ]
  },
  {
   "cell_type": "code",
   "execution_count": 21,
   "id": "d3732bf6",
   "metadata": {},
   "outputs": [
    {
     "name": "stdout",
     "output_type": "stream",
     "text": [
      "Number of original nodes: 464\n",
      "Number of state: 51\n",
      "Number of nodes in state-to-state graph: 51\n"
     ]
    }
   ],
   "source": [
    "print('Number of original nodes:', len(g.vs()))\n",
    "print('Number of state:', len(states))\n",
    "print('Number of nodes in state-to-state graph:', len(state_g.vs()))"
   ]
  },
  {
   "cell_type": "markdown",
   "id": "5e7e1c0e",
   "metadata": {},
   "source": [
    "## Problem 5a"
   ]
  },
  {
   "cell_type": "code",
   "execution_count": 22,
   "id": "7989e9e4",
   "metadata": {},
   "outputs": [
    {
     "name": "stdout",
     "output_type": "stream",
     "text": [
      "51\n",
      "51\n",
      "51\n"
     ]
    }
   ],
   "source": [
    "print(state_g.vcount())\n",
    "state_g_biggest_strong_comp = state_g.connected_components(mode='STRONG').giant()\n",
    "print(state_g_biggest_strong_comp.vcount())\n",
    "state_g_biggest_weak_comp = state_g.connected_components(mode='WEAK').giant()\n",
    "print(state_g_biggest_weak_comp.vcount())\n",
    "# ---> Strong connected"
   ]
  },
  {
   "cell_type": "markdown",
   "id": "cc333d9c",
   "metadata": {},
   "source": [
    "## Problem 5b"
   ]
  },
  {
   "cell_type": "code",
   "execution_count": 23,
   "id": "03e56d96",
   "metadata": {},
   "outputs": [
    {
     "name": "stdout",
     "output_type": "stream",
     "text": [
      "State has the most incoming passengers: ['CA']\n",
      "State has the most departing passengers: ['CA']\n"
     ]
    }
   ],
   "source": [
    "out_degree = state_g.strength(mode='out', weights='weight')\n",
    "in_degree = state_g.strength(mode='in', weights='weight')\n",
    "df = pd.DataFrame({'state': state_g.vs['state'], 'in_degree': in_degree, 'out_degree': out_degree})\n",
    "max_in_degree = df['in_degree'].max()\n",
    "max_out_degree = df['out_degree'].max()\n",
    "print('State has the most incoming passengers:', df[df['in_degree']==max_in_degree]['state'].values)\n",
    "print('State has the most departing passengers:', df[df['out_degree']==max_out_degree]['state'].values)"
   ]
  },
  {
   "cell_type": "code",
   "execution_count": 24,
   "id": "b7cf14af",
   "metadata": {},
   "outputs": [],
   "source": [
    "# state_vs = state_g.vs()\n",
    "# for v in state_vs:\n",
    "#     print(\"-----------------\")\n",
    "#     out_es = state_g.es.select(_source=v)\n",
    "#     out_weight = sum(out_e['weight'] for out_e in out_es)\n",
    "#     print(f\"passengers depart {v['state']}: {out_weight}\")\n",
    "    \n",
    "#     in_es = state_g.es.select(_target=v)\n",
    "#     in_weight = sum(in_e['weight'] for in_e in in_es)\n",
    "#     print(f\"passengers arrive {v['state']}: {in_weight}\")"
   ]
  },
  {
   "cell_type": "markdown",
   "id": "133a3301",
   "metadata": {},
   "source": [
    "## Problem 5c"
   ]
  },
  {
   "cell_type": "code",
   "execution_count": 25,
   "id": "726dffec",
   "metadata": {},
   "outputs": [
    {
     "name": "stdout",
     "output_type": "stream",
     "text": [
      "Pair of airports have the most passengers travelling from x to y\n",
      "x: FL - y: GA - num_passengers: 6584065\n"
     ]
    }
   ],
   "source": [
    "state_vs = state_g.vs\n",
    "state_es = list(state_g.es())\n",
    "state_es.sort(key=lambda x: x['weight'], reverse=True)\n",
    "busiest_route = state_es[0]\n",
    "source_vertex_id = busiest_route.source\n",
    "target_vertex_id = busiest_route.target\n",
    "source_vertex = state_vs[source_vertex_id]\n",
    "target_vertex = state_vs[target_vertex_id]\n",
    "\n",
    "print('Pair of airports have the most passengers travelling from x to y')\n",
    "print('x:', source_vertex['state'], '- y:', target_vertex['state'], '- num_passengers:', busiest_route['weight'])"
   ]
  },
  {
   "cell_type": "markdown",
   "id": "b73a5841",
   "metadata": {},
   "source": [
    "## Problem 5d"
   ]
  },
  {
   "cell_type": "code",
   "execution_count": 26,
   "id": "c1271888",
   "metadata": {},
   "outputs": [
    {
     "name": "stdout",
     "output_type": "stream",
     "text": [
      "\n",
      "Top degree centrality\n"
     ]
    },
    {
     "data": {
      "text/html": [
       "<div>\n",
       "<style scoped>\n",
       "    .dataframe tbody tr th:only-of-type {\n",
       "        vertical-align: middle;\n",
       "    }\n",
       "\n",
       "    .dataframe tbody tr th {\n",
       "        vertical-align: top;\n",
       "    }\n",
       "\n",
       "    .dataframe thead th {\n",
       "        text-align: right;\n",
       "    }\n",
       "</style>\n",
       "<table border=\"1\" class=\"dataframe\">\n",
       "  <thead>\n",
       "    <tr style=\"text-align: right;\">\n",
       "      <th></th>\n",
       "      <th>state</th>\n",
       "      <th>degree</th>\n",
       "      <th>pagerank</th>\n",
       "      <th>authority</th>\n",
       "      <th>hub</th>\n",
       "      <th>between</th>\n",
       "      <th>closeness</th>\n",
       "    </tr>\n",
       "  </thead>\n",
       "  <tbody>\n",
       "    <tr>\n",
       "      <th>4</th>\n",
       "      <td>CA</td>\n",
       "      <td>0.135169</td>\n",
       "      <td>0.075945</td>\n",
       "      <td>0.969771</td>\n",
       "      <td>0.971337</td>\n",
       "      <td>0.021798</td>\n",
       "      <td>0.943396</td>\n",
       "    </tr>\n",
       "    <tr>\n",
       "      <th>9</th>\n",
       "      <td>FL</td>\n",
       "      <td>0.131269</td>\n",
       "      <td>0.073844</td>\n",
       "      <td>1.000000</td>\n",
       "      <td>1.000000</td>\n",
       "      <td>0.025327</td>\n",
       "      <td>0.943396</td>\n",
       "    </tr>\n",
       "    <tr>\n",
       "      <th>43</th>\n",
       "      <td>TX</td>\n",
       "      <td>0.130073</td>\n",
       "      <td>0.077688</td>\n",
       "      <td>0.925013</td>\n",
       "      <td>0.925349</td>\n",
       "      <td>0.028044</td>\n",
       "      <td>0.980392</td>\n",
       "    </tr>\n",
       "    <tr>\n",
       "      <th>10</th>\n",
       "      <td>GA</td>\n",
       "      <td>0.107684</td>\n",
       "      <td>0.064350</td>\n",
       "      <td>0.829178</td>\n",
       "      <td>0.827263</td>\n",
       "      <td>0.024180</td>\n",
       "      <td>0.961538</td>\n",
       "    </tr>\n",
       "    <tr>\n",
       "      <th>14</th>\n",
       "      <td>IL</td>\n",
       "      <td>0.104197</td>\n",
       "      <td>0.063423</td>\n",
       "      <td>0.743696</td>\n",
       "      <td>0.742924</td>\n",
       "      <td>0.037366</td>\n",
       "      <td>1.000000</td>\n",
       "    </tr>\n",
       "  </tbody>\n",
       "</table>\n",
       "</div>"
      ],
      "text/plain": [
       "   state    degree  pagerank  authority       hub   between  closeness\n",
       "4     CA  0.135169  0.075945   0.969771  0.971337  0.021798   0.943396\n",
       "9     FL  0.131269  0.073844   1.000000  1.000000  0.025327   0.943396\n",
       "43    TX  0.130073  0.077688   0.925013  0.925349  0.028044   0.980392\n",
       "10    GA  0.107684  0.064350   0.829178  0.827263  0.024180   0.961538\n",
       "14    IL  0.104197  0.063423   0.743696  0.742924  0.037366   1.000000"
      ]
     },
     "metadata": {},
     "output_type": "display_data"
    },
    {
     "name": "stdout",
     "output_type": "stream",
     "text": [
      "\n",
      "Top between centrality\n"
     ]
    },
    {
     "data": {
      "text/html": [
       "<div>\n",
       "<style scoped>\n",
       "    .dataframe tbody tr th:only-of-type {\n",
       "        vertical-align: middle;\n",
       "    }\n",
       "\n",
       "    .dataframe tbody tr th {\n",
       "        vertical-align: top;\n",
       "    }\n",
       "\n",
       "    .dataframe thead th {\n",
       "        text-align: right;\n",
       "    }\n",
       "</style>\n",
       "<table border=\"1\" class=\"dataframe\">\n",
       "  <thead>\n",
       "    <tr style=\"text-align: right;\">\n",
       "      <th></th>\n",
       "      <th>state</th>\n",
       "      <th>degree</th>\n",
       "      <th>pagerank</th>\n",
       "      <th>authority</th>\n",
       "      <th>hub</th>\n",
       "      <th>between</th>\n",
       "      <th>closeness</th>\n",
       "    </tr>\n",
       "  </thead>\n",
       "  <tbody>\n",
       "    <tr>\n",
       "      <th>14</th>\n",
       "      <td>IL</td>\n",
       "      <td>0.104197</td>\n",
       "      <td>0.063423</td>\n",
       "      <td>0.743696</td>\n",
       "      <td>0.742924</td>\n",
       "      <td>0.037366</td>\n",
       "      <td>1.000000</td>\n",
       "    </tr>\n",
       "    <tr>\n",
       "      <th>35</th>\n",
       "      <td>OH</td>\n",
       "      <td>0.047638</td>\n",
       "      <td>0.030171</td>\n",
       "      <td>0.362870</td>\n",
       "      <td>0.363212</td>\n",
       "      <td>0.030574</td>\n",
       "      <td>0.980392</td>\n",
       "    </tr>\n",
       "    <tr>\n",
       "      <th>43</th>\n",
       "      <td>TX</td>\n",
       "      <td>0.130073</td>\n",
       "      <td>0.077688</td>\n",
       "      <td>0.925013</td>\n",
       "      <td>0.925349</td>\n",
       "      <td>0.028044</td>\n",
       "      <td>0.980392</td>\n",
       "    </tr>\n",
       "    <tr>\n",
       "      <th>23</th>\n",
       "      <td>MN</td>\n",
       "      <td>0.042512</td>\n",
       "      <td>0.031069</td>\n",
       "      <td>0.284188</td>\n",
       "      <td>0.284230</td>\n",
       "      <td>0.026444</td>\n",
       "      <td>0.961538</td>\n",
       "    </tr>\n",
       "    <tr>\n",
       "      <th>7</th>\n",
       "      <td>DC</td>\n",
       "      <td>0.048661</td>\n",
       "      <td>0.030078</td>\n",
       "      <td>0.418859</td>\n",
       "      <td>0.418278</td>\n",
       "      <td>0.026146</td>\n",
       "      <td>0.980392</td>\n",
       "    </tr>\n",
       "  </tbody>\n",
       "</table>\n",
       "</div>"
      ],
      "text/plain": [
       "   state    degree  pagerank  authority       hub   between  closeness\n",
       "14    IL  0.104197  0.063423   0.743696  0.742924  0.037366   1.000000\n",
       "35    OH  0.047638  0.030171   0.362870  0.363212  0.030574   0.980392\n",
       "43    TX  0.130073  0.077688   0.925013  0.925349  0.028044   0.980392\n",
       "23    MN  0.042512  0.031069   0.284188  0.284230  0.026444   0.961538\n",
       "7     DC  0.048661  0.030078   0.418859  0.418278  0.026146   0.980392"
      ]
     },
     "metadata": {},
     "output_type": "display_data"
    }
   ],
   "source": [
    "state_g.vs['name'] = state_g.vs['state']\n",
    "state_C = generate_centrality_measure(state_g, node_type_name='state')[['state']+cm_names]\n",
    "\n",
    "for cm in ['degree', 'between']:\n",
    "    print(f\"\\nTop {cm} centrality\")\n",
    "    state_Cs = state_C.sort_values(by=cm, ascending=False)\n",
    "    display(state_Cs.head())"
   ]
  },
  {
   "cell_type": "code",
   "execution_count": 27,
   "id": "3f5a50b2",
   "metadata": {},
   "outputs": [
    {
     "name": "stdout",
     "output_type": "stream",
     "text": [
      "State has highest degree centrality: CA\n",
      "State has highest between centrality: IL\n"
     ]
    }
   ],
   "source": [
    "print('State has highest degree centrality: CA')\n",
    "print('State has highest between centrality: IL')"
   ]
  },
  {
   "cell_type": "code",
   "execution_count": null,
   "id": "f1e27b57",
   "metadata": {},
   "outputs": [],
   "source": []
  }
 ],
 "metadata": {
  "kernelspec": {
   "display_name": "Python 3 (ipykernel)",
   "language": "python",
   "name": "python3"
  },
  "language_info": {
   "codemirror_mode": {
    "name": "ipython",
    "version": 3
   },
   "file_extension": ".py",
   "mimetype": "text/x-python",
   "name": "python",
   "nbconvert_exporter": "python",
   "pygments_lexer": "ipython3",
   "version": "3.7.9"
  },
  "toc": {
   "base_numbering": 1,
   "nav_menu": {},
   "number_sections": true,
   "sideBar": true,
   "skip_h1_title": false,
   "title_cell": "Table of Contents",
   "title_sidebar": "Contents",
   "toc_cell": false,
   "toc_position": {
    "height": "calc(100% - 180px)",
    "left": "10px",
    "top": "150px",
    "width": "204.004px"
   },
   "toc_section_display": true,
   "toc_window_display": true
  }
 },
 "nbformat": 4,
 "nbformat_minor": 5
}
