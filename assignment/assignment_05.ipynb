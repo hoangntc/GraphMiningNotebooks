{
 "cells": [
  {
   "cell_type": "code",
   "execution_count": 1,
   "id": "beeb2ffa",
   "metadata": {},
   "outputs": [],
   "source": [
    "import igraph as ig\n",
    "import numpy as np\n",
    "import pandas as pd\n",
    "import matplotlib.pyplot as plt\n",
    "%matplotlib inline\n",
    "from sklearn.linear_model import LinearRegression\n",
    "from collections import Counter\n",
    "import os\n",
    "import umap\n",
    "import pickle\n",
    "import partition_igraph\n",
    "import subprocess\n",
    "from sklearn.metrics import adjusted_mutual_info_score as AMI\n",
    "from itertools import combinations\n",
    "import time\n",
    "import warnings\n",
    "warnings.filterwarnings('ignore')\n",
    "\n",
    "## we used those for the book, but you can change to other colors\n",
    "cls_edges = 'gainsboro'\n",
    "cls = ['silver','dimgray','black']"
   ]
  },
  {
   "cell_type": "code",
   "execution_count": 2,
   "id": "4797145e",
   "metadata": {},
   "outputs": [],
   "source": [
    "datadir = '../Datasets/'"
   ]
  },
  {
   "cell_type": "code",
   "execution_count": 3,
   "id": "20205d83",
   "metadata": {},
   "outputs": [],
   "source": [
    "def run_clustering(z, n=None, exclude=[], verbose=False):\n",
    "    cluster_map = {}\n",
    "    if 'ecg' not in exclude:\n",
    "        starting_time = time.time()\n",
    "        cluster_map['ecg'] = z.community_ecg().membership\n",
    "        if verbose: print('ecg:', time.time() - starting_time)\n",
    "    if 'louvain' not in exclude:\n",
    "        starting_time = time.time()\n",
    "        cluster_map['louvain'] = z.community_multilevel().membership\n",
    "        if verbose: print('louvain:', time.time() - starting_time)\n",
    "    if 'infomap' not in exclude:\n",
    "        starting_time = time.time()\n",
    "        cluster_map['infomap'] = z.community_infomap().membership\n",
    "        if verbose: print('infomap:', time.time() - starting_time)\n",
    "    if 'label_prog' not in exclude:\n",
    "        starting_time = time.time()\n",
    "        cluster_map['label_prog'] = z.community_label_propagation().membership\n",
    "        if verbose: print('label_prog:', time.time() - starting_time)\n",
    "    if 'gn' not in exclude:\n",
    "        starting_time = time.time()\n",
    "        cluster_map['gn'] = z.community_edge_betweenness().as_clustering(n).membership # Girvan-Newman\n",
    "        if verbose: print('gn:', time.time() - starting_time)\n",
    "    if 'cnm' not in exclude:\n",
    "        starting_time = time.time()\n",
    "        cluster_map['cnm'] = z.community_fastgreedy().as_clustering(n).membership\n",
    "        if verbose: print('cnm:', time.time() - starting_time)\n",
    "    return cluster_map"
   ]
  },
  {
   "cell_type": "markdown",
   "id": "a8fd0dc1",
   "metadata": {},
   "source": [
    "# Problem 1"
   ]
  },
  {
   "cell_type": "code",
   "execution_count": 4,
   "id": "6f1404b3",
   "metadata": {},
   "outputs": [
    {
     "data": {
      "image/svg+xml": [
       "<?xml version=\"1.0\" encoding=\"UTF-8\"?>\n",
       "<svg xmlns=\"http://www.w3.org/2000/svg\" xmlns:xlink=\"http://www.w3.org/1999/xlink\" width=\"350pt\" height=\"250pt\" viewBox=\"0 0 350 250\" version=\"1.1\">\n",
       "<defs>\n",
       "<g>\n",
       "<symbol overflow=\"visible\" id=\"glyph0-0\">\n",
       "<path style=\"stroke:none;\" d=\"M 0.257812 0 L 0.257812 -5.738281 L 4.8125 -5.738281 L 4.8125 0 Z M 4.09375 -0.71875 L 4.09375 -5.019531 L 0.976562 -5.019531 L 0.976562 -0.71875 Z M 4.09375 -0.71875 \"/>\n",
       "</symbol>\n",
       "<symbol overflow=\"visible\" id=\"glyph0-1\">\n",
       "<path style=\"stroke:none;\" d=\"M 2.164062 -5.59375 C 2.886719 -5.59375 3.410156 -5.296875 3.734375 -4.699219 C 3.984375 -4.238281 4.109375 -3.605469 4.109375 -2.804688 C 4.109375 -2.042969 3.996094 -1.414062 3.769531 -0.917969 C 3.441406 -0.203125 2.90625 0.152344 2.160156 0.152344 C 1.488281 0.152344 0.988281 -0.140625 0.660156 -0.722656 C 0.386719 -1.210938 0.25 -1.863281 0.25 -2.683594 C 0.25 -3.320312 0.332031 -3.863281 0.496094 -4.320312 C 0.804688 -5.167969 1.359375 -5.59375 2.164062 -5.59375 Z M 2.15625 -0.488281 C 2.519531 -0.488281 2.8125 -0.648438 3.027344 -0.972656 C 3.242188 -1.296875 3.351562 -1.898438 3.351562 -2.777344 C 3.351562 -3.414062 3.273438 -3.9375 3.117188 -4.34375 C 2.960938 -4.753906 2.65625 -4.960938 2.207031 -4.960938 C 1.792969 -4.960938 1.492188 -4.765625 1.296875 -4.375 C 1.105469 -3.988281 1.011719 -3.414062 1.011719 -2.65625 C 1.011719 -2.085938 1.074219 -1.628906 1.195312 -1.28125 C 1.382812 -0.753906 1.703125 -0.488281 2.15625 -0.488281 Z M 2.15625 -0.488281 \"/>\n",
       "</symbol>\n",
       "<symbol overflow=\"visible\" id=\"glyph0-2\">\n",
       "<path style=\"stroke:none;\" d=\"M 0.765625 -3.960938 L 0.765625 -4.5 C 1.273438 -4.550781 1.628906 -4.632812 1.828125 -4.75 C 2.027344 -4.863281 2.179688 -5.136719 2.277344 -5.570312 L 2.832031 -5.570312 L 2.832031 0 L 2.082031 0 L 2.082031 -3.960938 Z M 0.765625 -3.960938 \"/>\n",
       "</symbol>\n",
       "<symbol overflow=\"visible\" id=\"glyph0-3\">\n",
       "<path style=\"stroke:none;\" d=\"M 0.25 0 C 0.277344 -0.480469 0.375 -0.902344 0.546875 -1.257812 C 0.722656 -1.613281 1.058594 -1.9375 1.5625 -2.230469 L 2.3125 -2.664062 C 2.648438 -2.859375 2.882812 -3.027344 3.019531 -3.164062 C 3.234375 -3.378906 3.339844 -3.628906 3.339844 -3.90625 C 3.339844 -4.230469 3.242188 -4.492188 3.046875 -4.679688 C 2.851562 -4.871094 2.589844 -4.96875 2.265625 -4.96875 C 1.785156 -4.96875 1.449219 -4.785156 1.265625 -4.421875 C 1.167969 -4.226562 1.113281 -3.957031 1.101562 -3.609375 L 0.386719 -3.609375 C 0.394531 -4.097656 0.484375 -4.492188 0.65625 -4.800781 C 0.960938 -5.34375 1.5 -5.613281 2.269531 -5.613281 C 2.910156 -5.613281 3.378906 -5.441406 3.671875 -5.09375 C 3.96875 -4.746094 4.117188 -4.363281 4.117188 -3.9375 C 4.117188 -3.488281 3.960938 -3.105469 3.644531 -2.789062 C 3.460938 -2.605469 3.136719 -2.378906 2.664062 -2.117188 L 2.128906 -1.820312 C 1.875 -1.679688 1.671875 -1.546875 1.527344 -1.417969 C 1.265625 -1.191406 1.101562 -0.941406 1.035156 -0.664062 L 4.089844 -0.664062 L 4.089844 0 Z M 0.25 0 \"/>\n",
       "</symbol>\n",
       "<symbol overflow=\"visible\" id=\"glyph0-4\">\n",
       "<path style=\"stroke:none;\" d=\"M 2.078125 0.152344 C 1.417969 0.152344 0.9375 -0.03125 0.640625 -0.390625 C 0.339844 -0.753906 0.191406 -1.199219 0.191406 -1.71875 L 0.925781 -1.71875 C 0.957031 -1.355469 1.023438 -1.09375 1.128906 -0.929688 C 1.3125 -0.636719 1.640625 -0.488281 2.117188 -0.488281 C 2.488281 -0.488281 2.785156 -0.585938 3.007812 -0.785156 C 3.230469 -0.984375 3.34375 -1.238281 3.34375 -1.550781 C 3.34375 -1.9375 3.226562 -2.207031 2.992188 -2.359375 C 2.753906 -2.511719 2.425781 -2.589844 2.007812 -2.589844 C 1.960938 -2.589844 1.914062 -2.589844 1.867188 -2.585938 C 1.816406 -2.585938 1.769531 -2.585938 1.71875 -2.582031 L 1.71875 -3.203125 C 1.792969 -3.195312 1.851562 -3.191406 1.902344 -3.1875 C 1.953125 -3.183594 2.003906 -3.183594 2.0625 -3.183594 C 2.324219 -3.183594 2.542969 -3.226562 2.710938 -3.308594 C 3.007812 -3.453125 3.15625 -3.714844 3.15625 -4.089844 C 3.15625 -4.367188 3.058594 -4.582031 2.859375 -4.734375 C 2.660156 -4.886719 2.429688 -4.960938 2.167969 -4.960938 C 1.699219 -4.960938 1.375 -4.804688 1.195312 -4.492188 C 1.097656 -4.320312 1.039062 -4.074219 1.027344 -3.757812 L 0.332031 -3.757812 C 0.332031 -4.175781 0.414062 -4.527344 0.582031 -4.820312 C 0.867188 -5.339844 1.371094 -5.601562 2.09375 -5.601562 C 2.664062 -5.601562 3.105469 -5.476562 3.417969 -5.21875 C 3.730469 -4.964844 3.886719 -4.597656 3.886719 -4.117188 C 3.886719 -3.773438 3.792969 -3.496094 3.609375 -3.28125 C 3.496094 -3.148438 3.347656 -3.042969 3.164062 -2.96875 C 3.457031 -2.886719 3.6875 -2.734375 3.851562 -2.5 C 4.019531 -2.269531 4.101562 -1.988281 4.101562 -1.65625 C 4.101562 -1.121094 3.925781 -0.6875 3.574219 -0.351562 C 3.222656 -0.015625 2.722656 0.152344 2.078125 0.152344 Z M 2.078125 0.152344 \"/>\n",
       "</symbol>\n",
       "<symbol overflow=\"visible\" id=\"glyph0-5\">\n",
       "<path style=\"stroke:none;\" d=\"M 2.644531 -1.980469 L 2.644531 -4.515625 L 0.851562 -1.980469 Z M 2.65625 0 L 2.65625 -1.367188 L 0.203125 -1.367188 L 0.203125 -2.054688 L 2.765625 -5.609375 L 3.359375 -5.609375 L 3.359375 -1.980469 L 4.183594 -1.980469 L 4.183594 -1.367188 L 3.359375 -1.367188 L 3.359375 0 Z M 2.65625 0 \"/>\n",
       "</symbol>\n",
       "<symbol overflow=\"visible\" id=\"glyph0-6\">\n",
       "<path style=\"stroke:none;\" d=\"M 0.988281 -1.425781 C 1.035156 -1.023438 1.222656 -0.746094 1.546875 -0.59375 C 1.714844 -0.515625 1.90625 -0.476562 2.125 -0.476562 C 2.542969 -0.476562 2.851562 -0.609375 3.050781 -0.875 C 3.25 -1.140625 3.351562 -1.433594 3.351562 -1.757812 C 3.351562 -2.148438 3.234375 -2.449219 2.992188 -2.664062 C 2.753906 -2.878906 2.46875 -2.984375 2.136719 -2.984375 C 1.894531 -2.984375 1.6875 -2.9375 1.515625 -2.84375 C 1.339844 -2.75 1.191406 -2.621094 1.070312 -2.453125 L 0.460938 -2.488281 L 0.886719 -5.5 L 3.792969 -5.5 L 3.792969 -4.820312 L 1.414062 -4.820312 L 1.175781 -3.265625 C 1.304688 -3.363281 1.429688 -3.4375 1.546875 -3.488281 C 1.753906 -3.574219 1.996094 -3.617188 2.269531 -3.617188 C 2.78125 -3.617188 3.21875 -3.453125 3.574219 -3.121094 C 3.929688 -2.789062 4.109375 -2.371094 4.109375 -1.863281 C 4.109375 -1.335938 3.945312 -0.867188 3.617188 -0.464844 C 3.292969 -0.0625 2.769531 0.140625 2.054688 0.140625 C 1.597656 0.140625 1.195312 0.0117188 0.84375 -0.242188 C 0.496094 -0.5 0.300781 -0.894531 0.257812 -1.425781 Z M 0.988281 -1.425781 \"/>\n",
       "</symbol>\n",
       "<symbol overflow=\"visible\" id=\"glyph0-7\">\n",
       "<path style=\"stroke:none;\" d=\"M 2.339844 -5.617188 C 2.964844 -5.617188 3.398438 -5.453125 3.648438 -5.132812 C 3.894531 -4.808594 4.015625 -4.472656 4.015625 -4.128906 L 3.320312 -4.128906 C 3.277344 -4.351562 3.210938 -4.523438 3.121094 -4.648438 C 2.953125 -4.882812 2.695312 -5 2.351562 -5 C 1.957031 -5 1.644531 -4.820312 1.414062 -4.453125 C 1.183594 -4.089844 1.054688 -3.570312 1.027344 -2.894531 C 1.1875 -3.132812 1.390625 -3.308594 1.636719 -3.425781 C 1.859375 -3.53125 2.109375 -3.582031 2.386719 -3.582031 C 2.855469 -3.582031 3.265625 -3.433594 3.613281 -3.132812 C 3.960938 -2.832031 4.136719 -2.386719 4.136719 -1.792969 C 4.136719 -1.285156 3.972656 -0.835938 3.640625 -0.445312 C 3.308594 -0.0507812 2.839844 0.144531 2.226562 0.144531 C 1.703125 0.144531 1.25 -0.0546875 0.871094 -0.453125 C 0.492188 -0.847656 0.300781 -1.515625 0.300781 -2.457031 C 0.300781 -3.152344 0.386719 -3.742188 0.554688 -4.226562 C 0.878906 -5.152344 1.476562 -5.617188 2.339844 -5.617188 Z M 2.289062 -0.480469 C 2.660156 -0.480469 2.9375 -0.605469 3.117188 -0.851562 C 3.300781 -1.101562 3.394531 -1.394531 3.394531 -1.734375 C 3.394531 -2.019531 3.3125 -2.292969 3.148438 -2.554688 C 2.984375 -2.8125 2.6875 -2.941406 2.253906 -2.941406 C 1.953125 -2.941406 1.6875 -2.839844 1.460938 -2.640625 C 1.230469 -2.441406 1.117188 -2.136719 1.117188 -1.734375 C 1.117188 -1.378906 1.21875 -1.082031 1.429688 -0.84375 C 1.636719 -0.601562 1.921875 -0.480469 2.289062 -0.480469 Z M 2.289062 -0.480469 \"/>\n",
       "</symbol>\n",
       "<symbol overflow=\"visible\" id=\"glyph0-8\">\n",
       "<path style=\"stroke:none;\" d=\"M 4.183594 -5.5 L 4.183594 -4.886719 C 4.003906 -4.710938 3.765625 -4.410156 3.46875 -3.976562 C 3.167969 -3.542969 2.90625 -3.078125 2.675781 -2.578125 C 2.449219 -2.089844 2.277344 -1.648438 2.160156 -1.246094 C 2.085938 -0.988281 1.988281 -0.574219 1.867188 0 L 1.089844 0 C 1.265625 -1.066406 1.65625 -2.128906 2.261719 -3.1875 C 2.617188 -3.808594 2.992188 -4.34375 3.386719 -4.792969 L 0.292969 -4.792969 L 0.292969 -5.5 Z M 4.183594 -5.5 \"/>\n",
       "</symbol>\n",
       "<symbol overflow=\"visible\" id=\"glyph0-9\">\n",
       "<path style=\"stroke:none;\" d=\"M 2.175781 -3.25 C 2.484375 -3.25 2.726562 -3.335938 2.902344 -3.507812 C 3.078125 -3.683594 3.164062 -3.890625 3.164062 -4.128906 C 3.164062 -4.335938 3.082031 -4.527344 2.914062 -4.703125 C 2.746094 -4.878906 2.492188 -4.964844 2.152344 -4.964844 C 1.8125 -4.964844 1.570312 -4.878906 1.417969 -4.703125 C 1.265625 -4.527344 1.191406 -4.324219 1.191406 -4.089844 C 1.191406 -3.828125 1.289062 -3.621094 1.484375 -3.472656 C 1.679688 -3.324219 1.910156 -3.25 2.175781 -3.25 Z M 2.21875 -0.480469 C 2.542969 -0.480469 2.8125 -0.570312 3.03125 -0.742188 C 3.246094 -0.917969 3.351562 -1.183594 3.351562 -1.53125 C 3.351562 -1.894531 3.242188 -2.167969 3.019531 -2.355469 C 2.796875 -2.542969 2.515625 -2.636719 2.167969 -2.636719 C 1.832031 -2.636719 1.558594 -2.539062 1.34375 -2.351562 C 1.132812 -2.160156 1.027344 -1.894531 1.027344 -1.554688 C 1.027344 -1.261719 1.125 -1.011719 1.320312 -0.796875 C 1.511719 -0.585938 1.8125 -0.480469 2.21875 -0.480469 Z M 1.21875 -2.980469 C 1.023438 -3.0625 0.871094 -3.160156 0.761719 -3.273438 C 0.554688 -3.480469 0.453125 -3.753906 0.453125 -4.085938 C 0.453125 -4.503906 0.605469 -4.859375 0.90625 -5.160156 C 1.207031 -5.460938 1.636719 -5.609375 2.191406 -5.609375 C 2.726562 -5.609375 3.148438 -5.46875 3.453125 -5.1875 C 3.757812 -4.902344 3.910156 -4.574219 3.910156 -4.195312 C 3.910156 -3.847656 3.820312 -3.5625 3.644531 -3.347656 C 3.546875 -3.226562 3.390625 -3.105469 3.183594 -2.988281 C 3.414062 -2.882812 3.597656 -2.757812 3.730469 -2.621094 C 3.976562 -2.359375 4.101562 -2.023438 4.101562 -1.605469 C 4.101562 -1.113281 3.9375 -0.695312 3.605469 -0.351562 C 3.273438 -0.0117188 2.808594 0.160156 2.203125 0.160156 C 1.660156 0.160156 1.199219 0.0117188 0.820312 -0.28125 C 0.445312 -0.578125 0.257812 -1.007812 0.257812 -1.570312 C 0.257812 -1.902344 0.339844 -2.1875 0.5 -2.429688 C 0.660156 -2.667969 0.902344 -2.851562 1.21875 -2.980469 Z M 1.21875 -2.980469 \"/>\n",
       "</symbol>\n",
       "<symbol overflow=\"visible\" id=\"glyph0-10\">\n",
       "<path style=\"stroke:none;\" d=\"M 1.0625 -1.351562 C 1.082031 -0.964844 1.234375 -0.695312 1.511719 -0.546875 C 1.65625 -0.46875 1.816406 -0.429688 1.996094 -0.429688 C 2.332031 -0.429688 2.617188 -0.570312 2.855469 -0.851562 C 3.09375 -1.128906 3.261719 -1.699219 3.359375 -2.554688 C 3.203125 -2.308594 3.007812 -2.132812 2.78125 -2.03125 C 2.550781 -1.933594 2.300781 -1.882812 2.035156 -1.882812 C 1.496094 -1.882812 1.070312 -2.050781 0.757812 -2.386719 C 0.441406 -2.722656 0.285156 -3.15625 0.285156 -3.683594 C 0.285156 -4.191406 0.441406 -4.636719 0.75 -5.023438 C 1.058594 -5.410156 1.515625 -5.601562 2.121094 -5.601562 C 2.9375 -5.601562 3.5 -5.234375 3.808594 -4.5 C 3.980469 -4.097656 4.066406 -3.589844 4.066406 -2.984375 C 4.066406 -2.300781 3.964844 -1.691406 3.757812 -1.164062 C 3.417969 -0.285156 2.839844 0.15625 2.023438 0.15625 C 1.476562 0.15625 1.0625 0.0117188 0.777344 -0.273438 C 0.492188 -0.558594 0.351562 -0.917969 0.351562 -1.351562 Z M 2.128906 -2.5 C 2.40625 -2.5 2.664062 -2.59375 2.890625 -2.773438 C 3.121094 -2.957031 3.238281 -3.28125 3.238281 -3.738281 C 3.238281 -4.148438 3.132812 -4.457031 2.929688 -4.65625 C 2.722656 -4.859375 2.457031 -4.960938 2.136719 -4.960938 C 1.792969 -4.960938 1.519531 -4.84375 1.320312 -4.617188 C 1.117188 -4.386719 1.015625 -4.078125 1.015625 -3.691406 C 1.015625 -3.328125 1.105469 -3.039062 1.28125 -2.820312 C 1.457031 -2.605469 1.742188 -2.5 2.128906 -2.5 Z M 2.128906 -2.5 \"/>\n",
       "</symbol>\n",
       "</g>\n",
       "</defs>\n",
       "<g id=\"surface2\">\n",
       "<rect x=\"0\" y=\"0\" width=\"350\" height=\"250\" style=\"fill:rgb(100%,100%,100%);fill-opacity:1;stroke:none;\"/>\n",
       "<path style=\"fill:none;stroke-width:1;stroke-linecap:butt;stroke-linejoin:miter;stroke:rgb(86.27451%,86.27451%,86.27451%);stroke-opacity:1;stroke-miterlimit:10;\" d=\"M 157.414062 155.035156 L 101.5625 143.007812 \"/>\n",
       "<path style=\"fill:none;stroke-width:1;stroke-linecap:butt;stroke-linejoin:miter;stroke:rgb(86.27451%,86.27451%,86.27451%);stroke-opacity:1;stroke-miterlimit:10;\" d=\"M 157.414062 155.035156 L 178.5 113.941406 \"/>\n",
       "<path style=\"fill:none;stroke-width:1;stroke-linecap:butt;stroke-linejoin:miter;stroke:rgb(86.27451%,86.27451%,86.27451%);stroke-opacity:1;stroke-miterlimit:10;\" d=\"M 157.414062 155.035156 L 179.742188 145.398438 \"/>\n",
       "<path style=\"fill:none;stroke-width:1;stroke-linecap:butt;stroke-linejoin:miter;stroke:rgb(86.27451%,86.27451%,86.27451%);stroke-opacity:1;stroke-miterlimit:10;\" d=\"M 157.414062 155.035156 L 281.929688 166.636719 \"/>\n",
       "<path style=\"fill:none;stroke-width:1;stroke-linecap:butt;stroke-linejoin:miter;stroke:rgb(86.27451%,86.27451%,86.27451%);stroke-opacity:1;stroke-miterlimit:10;\" d=\"M 157.414062 155.035156 L 185.964844 199.144531 \"/>\n",
       "<path style=\"fill:none;stroke-width:1;stroke-linecap:butt;stroke-linejoin:miter;stroke:rgb(86.27451%,86.27451%,86.27451%);stroke-opacity:1;stroke-miterlimit:10;\" d=\"M 157.414062 155.035156 L 239.496094 190.84375 \"/>\n",
       "<path style=\"fill:none;stroke-width:1;stroke-linecap:butt;stroke-linejoin:miter;stroke:rgb(86.27451%,86.27451%,86.27451%);stroke-opacity:1;stroke-miterlimit:10;\" d=\"M 157.414062 155.035156 L 229.152344 141.992188 \"/>\n",
       "<path style=\"fill:none;stroke-width:1;stroke-linecap:butt;stroke-linejoin:miter;stroke:rgb(86.27451%,86.27451%,86.27451%);stroke-opacity:1;stroke-miterlimit:10;\" d=\"M 157.414062 155.035156 L 108.039062 110.171875 \"/>\n",
       "<path style=\"fill:none;stroke-width:1;stroke-linecap:butt;stroke-linejoin:miter;stroke:rgb(86.27451%,86.27451%,86.27451%);stroke-opacity:1;stroke-miterlimit:10;\" d=\"M 157.414062 155.035156 L 236.03125 178.476562 \"/>\n",
       "<path style=\"fill:none;stroke-width:1;stroke-linecap:butt;stroke-linejoin:miter;stroke:rgb(86.27451%,86.27451%,86.27451%);stroke-opacity:1;stroke-miterlimit:10;\" d=\"M 157.414062 155.035156 L 93.316406 193.589844 \"/>\n",
       "<path style=\"fill:none;stroke-width:1;stroke-linecap:butt;stroke-linejoin:miter;stroke:rgb(86.27451%,86.27451%,86.27451%);stroke-opacity:1;stroke-miterlimit:10;\" d=\"M 157.414062 155.035156 L 140.550781 187.515625 \"/>\n",
       "<path style=\"fill:none;stroke-width:1;stroke-linecap:butt;stroke-linejoin:miter;stroke:rgb(86.27451%,86.27451%,86.27451%);stroke-opacity:1;stroke-miterlimit:10;\" d=\"M 157.414062 155.035156 L 129.84375 119.078125 \"/>\n",
       "<path style=\"fill:none;stroke-width:1;stroke-linecap:butt;stroke-linejoin:miter;stroke:rgb(86.27451%,86.27451%,86.27451%);stroke-opacity:1;stroke-miterlimit:10;\" d=\"M 157.414062 155.035156 L 39.71875 165.132812 \"/>\n",
       "<path style=\"fill:none;stroke-width:1;stroke-linecap:butt;stroke-linejoin:miter;stroke:rgb(86.27451%,86.27451%,86.27451%);stroke-opacity:1;stroke-miterlimit:10;\" d=\"M 157.414062 155.035156 L 76.484375 119.023438 \"/>\n",
       "<path style=\"fill:none;stroke-width:1;stroke-linecap:butt;stroke-linejoin:miter;stroke:rgb(86.27451%,86.27451%,86.27451%);stroke-opacity:1;stroke-miterlimit:10;\" d=\"M 157.414062 155.035156 L 65.179688 176.0625 \"/>\n",
       "<path style=\"fill:none;stroke-width:1;stroke-linecap:butt;stroke-linejoin:miter;stroke:rgb(86.27451%,86.27451%,86.27451%);stroke-opacity:1;stroke-miterlimit:10;\" d=\"M 157.414062 155.035156 L 217.816406 106.785156 \"/>\n",
       "<path style=\"fill:none;stroke-width:1;stroke-linecap:butt;stroke-linejoin:miter;stroke:rgb(86.27451%,86.27451%,86.27451%);stroke-opacity:1;stroke-miterlimit:10;\" d=\"M 101.5625 143.007812 L 178.5 113.941406 \"/>\n",
       "<path style=\"fill:none;stroke-width:1;stroke-linecap:butt;stroke-linejoin:miter;stroke:rgb(86.27451%,86.27451%,86.27451%);stroke-opacity:1;stroke-miterlimit:10;\" d=\"M 101.5625 143.007812 L 179.742188 145.398438 \"/>\n",
       "<path style=\"fill:none;stroke-width:1;stroke-linecap:butt;stroke-linejoin:miter;stroke:rgb(86.27451%,86.27451%,86.27451%);stroke-opacity:1;stroke-miterlimit:10;\" d=\"M 101.5625 143.007812 L 229.152344 141.992188 \"/>\n",
       "<path style=\"fill:none;stroke-width:1;stroke-linecap:butt;stroke-linejoin:miter;stroke:rgb(86.27451%,86.27451%,86.27451%);stroke-opacity:1;stroke-miterlimit:10;\" d=\"M 101.5625 143.007812 L 129.84375 119.078125 \"/>\n",
       "<path style=\"fill:none;stroke-width:1;stroke-linecap:butt;stroke-linejoin:miter;stroke:rgb(86.27451%,86.27451%,86.27451%);stroke-opacity:1;stroke-miterlimit:10;\" d=\"M 101.5625 143.007812 L 39.71875 165.132812 \"/>\n",
       "<path style=\"fill:none;stroke-width:1;stroke-linecap:butt;stroke-linejoin:miter;stroke:rgb(86.27451%,86.27451%,86.27451%);stroke-opacity:1;stroke-miterlimit:10;\" d=\"M 101.5625 143.007812 L 76.484375 119.023438 \"/>\n",
       "<path style=\"fill:none;stroke-width:1;stroke-linecap:butt;stroke-linejoin:miter;stroke:rgb(86.27451%,86.27451%,86.27451%);stroke-opacity:1;stroke-miterlimit:10;\" d=\"M 101.5625 143.007812 L 65.179688 176.0625 \"/>\n",
       "<path style=\"fill:none;stroke-width:1;stroke-linecap:butt;stroke-linejoin:miter;stroke:rgb(86.27451%,86.27451%,86.27451%);stroke-opacity:1;stroke-miterlimit:10;\" d=\"M 101.5625 143.007812 L 48.058594 98.839844 \"/>\n",
       "<path style=\"fill:none;stroke-width:1;stroke-linecap:butt;stroke-linejoin:miter;stroke:rgb(86.27451%,86.27451%,86.27451%);stroke-opacity:1;stroke-miterlimit:10;\" d=\"M 178.5 113.941406 L 179.742188 145.398438 \"/>\n",
       "<path style=\"fill:none;stroke-width:1;stroke-linecap:butt;stroke-linejoin:miter;stroke:rgb(86.27451%,86.27451%,86.27451%);stroke-opacity:1;stroke-miterlimit:10;\" d=\"M 178.5 113.941406 L 229.152344 141.992188 \"/>\n",
       "<path style=\"fill:none;stroke-width:1;stroke-linecap:butt;stroke-linejoin:miter;stroke:rgb(86.27451%,86.27451%,86.27451%);stroke-opacity:1;stroke-miterlimit:10;\" d=\"M 178.5 113.941406 L 246.769531 80.890625 \"/>\n",
       "<path style=\"fill:none;stroke-width:1;stroke-linecap:butt;stroke-linejoin:miter;stroke:rgb(86.27451%,86.27451%,86.27451%);stroke-opacity:1;stroke-miterlimit:10;\" d=\"M 178.5 113.941406 L 218.164062 79.722656 \"/>\n",
       "<path style=\"fill:none;stroke-width:1;stroke-linecap:butt;stroke-linejoin:miter;stroke:rgb(86.27451%,86.27451%,86.27451%);stroke-opacity:1;stroke-miterlimit:10;\" d=\"M 178.5 113.941406 L 115.121094 73.40625 \"/>\n",
       "<path style=\"fill:none;stroke-width:1;stroke-linecap:butt;stroke-linejoin:miter;stroke:rgb(86.27451%,86.27451%,86.27451%);stroke-opacity:1;stroke-miterlimit:10;\" d=\"M 178.5 113.941406 L 184.921875 78.945312 \"/>\n",
       "<path style=\"fill:none;stroke-width:1;stroke-linecap:butt;stroke-linejoin:miter;stroke:rgb(86.27451%,86.27451%,86.27451%);stroke-opacity:1;stroke-miterlimit:10;\" d=\"M 178.5 113.941406 L 108.039062 110.171875 \"/>\n",
       "<path style=\"fill:none;stroke-width:1;stroke-linecap:butt;stroke-linejoin:miter;stroke:rgb(86.27451%,86.27451%,86.27451%);stroke-opacity:1;stroke-miterlimit:10;\" d=\"M 178.5 113.941406 L 129.84375 119.078125 \"/>\n",
       "<path style=\"fill:none;stroke-width:1;stroke-linecap:butt;stroke-linejoin:miter;stroke:rgb(86.27451%,86.27451%,86.27451%);stroke-opacity:1;stroke-miterlimit:10;\" d=\"M 179.742188 145.398438 L 229.152344 141.992188 \"/>\n",
       "<path style=\"fill:none;stroke-width:1;stroke-linecap:butt;stroke-linejoin:miter;stroke:rgb(86.27451%,86.27451%,86.27451%);stroke-opacity:1;stroke-miterlimit:10;\" d=\"M 179.742188 145.398438 L 140.550781 187.515625 \"/>\n",
       "<path style=\"fill:none;stroke-width:1;stroke-linecap:butt;stroke-linejoin:miter;stroke:rgb(86.27451%,86.27451%,86.27451%);stroke-opacity:1;stroke-miterlimit:10;\" d=\"M 179.742188 145.398438 L 129.84375 119.078125 \"/>\n",
       "<path style=\"fill:none;stroke-width:1;stroke-linecap:butt;stroke-linejoin:miter;stroke:rgb(86.27451%,86.27451%,86.27451%);stroke-opacity:1;stroke-miterlimit:10;\" d=\"M 281.929688 166.636719 L 239.496094 190.84375 \"/>\n",
       "<path style=\"fill:none;stroke-width:1;stroke-linecap:butt;stroke-linejoin:miter;stroke:rgb(86.27451%,86.27451%,86.27451%);stroke-opacity:1;stroke-miterlimit:10;\" d=\"M 281.929688 166.636719 L 236.03125 178.476562 \"/>\n",
       "<path style=\"fill:none;stroke-width:1;stroke-linecap:butt;stroke-linejoin:miter;stroke:rgb(86.27451%,86.27451%,86.27451%);stroke-opacity:1;stroke-miterlimit:10;\" d=\"M 185.964844 199.144531 L 239.496094 190.84375 \"/>\n",
       "<path style=\"fill:none;stroke-width:1;stroke-linecap:butt;stroke-linejoin:miter;stroke:rgb(86.27451%,86.27451%,86.27451%);stroke-opacity:1;stroke-miterlimit:10;\" d=\"M 185.964844 199.144531 L 236.03125 178.476562 \"/>\n",
       "<path style=\"fill:none;stroke-width:1;stroke-linecap:butt;stroke-linejoin:miter;stroke:rgb(86.27451%,86.27451%,86.27451%);stroke-opacity:1;stroke-miterlimit:10;\" d=\"M 185.964844 199.144531 L 256.253906 230 \"/>\n",
       "<path style=\"fill:none;stroke-width:1;stroke-linecap:butt;stroke-linejoin:miter;stroke:rgb(86.27451%,86.27451%,86.27451%);stroke-opacity:1;stroke-miterlimit:10;\" d=\"M 239.496094 190.84375 L 256.253906 230 \"/>\n",
       "<path style=\"fill:none;stroke-width:1;stroke-linecap:butt;stroke-linejoin:miter;stroke:rgb(86.27451%,86.27451%,86.27451%);stroke-opacity:1;stroke-miterlimit:10;\" d=\"M 108.039062 110.171875 L 48.058594 98.839844 \"/>\n",
       "<path style=\"fill:none;stroke-width:1;stroke-linecap:butt;stroke-linejoin:miter;stroke:rgb(86.27451%,86.27451%,86.27451%);stroke-opacity:1;stroke-miterlimit:10;\" d=\"M 108.039062 110.171875 L 115.121094 73.40625 \"/>\n",
       "<path style=\"fill:none;stroke-width:1;stroke-linecap:butt;stroke-linejoin:miter;stroke:rgb(86.27451%,86.27451%,86.27451%);stroke-opacity:1;stroke-miterlimit:10;\" d=\"M 108.039062 110.171875 L 136.519531 70.777344 \"/>\n",
       "<path style=\"fill:none;stroke-width:1;stroke-linecap:butt;stroke-linejoin:miter;stroke:rgb(86.27451%,86.27451%,86.27451%);stroke-opacity:1;stroke-miterlimit:10;\" d=\"M 184.921875 78.945312 L 136.519531 70.777344 \"/>\n",
       "<path style=\"fill:none;stroke-width:1;stroke-linecap:butt;stroke-linejoin:miter;stroke:rgb(86.27451%,86.27451%,86.27451%);stroke-opacity:1;stroke-miterlimit:10;\" d=\"M 129.84375 119.078125 L 136.519531 70.777344 \"/>\n",
       "<path style=\"fill:none;stroke-width:1;stroke-linecap:butt;stroke-linejoin:miter;stroke:rgb(86.27451%,86.27451%,86.27451%);stroke-opacity:1;stroke-miterlimit:10;\" d=\"M 87.359375 34.953125 L 115.121094 73.40625 \"/>\n",
       "<path style=\"fill:none;stroke-width:1;stroke-linecap:butt;stroke-linejoin:miter;stroke:rgb(86.27451%,86.27451%,86.27451%);stroke-opacity:1;stroke-miterlimit:10;\" d=\"M 87.359375 34.953125 L 136.519531 70.777344 \"/>\n",
       "<path style=\"fill:none;stroke-width:1;stroke-linecap:butt;stroke-linejoin:miter;stroke:rgb(86.27451%,86.27451%,86.27451%);stroke-opacity:1;stroke-miterlimit:10;\" d=\"M 32.800781 56.101562 L 115.121094 73.40625 \"/>\n",
       "<path style=\"fill:none;stroke-width:1;stroke-linecap:butt;stroke-linejoin:miter;stroke:rgb(86.27451%,86.27451%,86.27451%);stroke-opacity:1;stroke-miterlimit:10;\" d=\"M 32.800781 56.101562 L 136.519531 70.777344 \"/>\n",
       "<path style=\"fill:none;stroke-width:1;stroke-linecap:butt;stroke-linejoin:miter;stroke:rgb(86.27451%,86.27451%,86.27451%);stroke-opacity:1;stroke-miterlimit:10;\" d=\"M 20 70.054688 L 115.121094 73.40625 \"/>\n",
       "<path style=\"fill:none;stroke-width:1;stroke-linecap:butt;stroke-linejoin:miter;stroke:rgb(86.27451%,86.27451%,86.27451%);stroke-opacity:1;stroke-miterlimit:10;\" d=\"M 20 70.054688 L 136.519531 70.777344 \"/>\n",
       "<path style=\"fill:none;stroke-width:1;stroke-linecap:butt;stroke-linejoin:miter;stroke:rgb(86.27451%,86.27451%,86.27451%);stroke-opacity:1;stroke-miterlimit:10;\" d=\"M 76.484375 119.023438 L 136.519531 70.777344 \"/>\n",
       "<path style=\"fill:none;stroke-width:1;stroke-linecap:butt;stroke-linejoin:miter;stroke:rgb(86.27451%,86.27451%,86.27451%);stroke-opacity:1;stroke-miterlimit:10;\" d=\"M 55.632812 43.875 L 115.121094 73.40625 \"/>\n",
       "<path style=\"fill:none;stroke-width:1;stroke-linecap:butt;stroke-linejoin:miter;stroke:rgb(86.27451%,86.27451%,86.27451%);stroke-opacity:1;stroke-miterlimit:10;\" d=\"M 55.632812 43.875 L 136.519531 70.777344 \"/>\n",
       "<path style=\"fill:none;stroke-width:1;stroke-linecap:butt;stroke-linejoin:miter;stroke:rgb(86.27451%,86.27451%,86.27451%);stroke-opacity:1;stroke-miterlimit:10;\" d=\"M 127.089844 32.976562 L 115.121094 73.40625 \"/>\n",
       "<path style=\"fill:none;stroke-width:1;stroke-linecap:butt;stroke-linejoin:miter;stroke:rgb(86.27451%,86.27451%,86.27451%);stroke-opacity:1;stroke-miterlimit:10;\" d=\"M 127.089844 32.976562 L 136.519531 70.777344 \"/>\n",
       "<path style=\"fill:none;stroke-width:1;stroke-linecap:butt;stroke-linejoin:miter;stroke:rgb(86.27451%,86.27451%,86.27451%);stroke-opacity:1;stroke-miterlimit:10;\" d=\"M 238.324219 52.601562 L 321.199219 98.210938 \"/>\n",
       "<path style=\"fill:none;stroke-width:1;stroke-linecap:butt;stroke-linejoin:miter;stroke:rgb(86.27451%,86.27451%,86.27451%);stroke-opacity:1;stroke-miterlimit:10;\" d=\"M 238.324219 52.601562 L 246.769531 80.890625 \"/>\n",
       "<path style=\"fill:none;stroke-width:1;stroke-linecap:butt;stroke-linejoin:miter;stroke:rgb(86.27451%,86.27451%,86.27451%);stroke-opacity:1;stroke-miterlimit:10;\" d=\"M 238.324219 52.601562 L 115.121094 73.40625 \"/>\n",
       "<path style=\"fill:none;stroke-width:1;stroke-linecap:butt;stroke-linejoin:miter;stroke:rgb(86.27451%,86.27451%,86.27451%);stroke-opacity:1;stroke-miterlimit:10;\" d=\"M 238.324219 52.601562 L 136.519531 70.777344 \"/>\n",
       "<path style=\"fill:none;stroke-width:1;stroke-linecap:butt;stroke-linejoin:miter;stroke:rgb(86.27451%,86.27451%,86.27451%);stroke-opacity:1;stroke-miterlimit:10;\" d=\"M 238.324219 52.601562 L 192.34375 38.078125 \"/>\n",
       "<path style=\"fill:none;stroke-width:1;stroke-linecap:butt;stroke-linejoin:miter;stroke:rgb(86.27451%,86.27451%,86.27451%);stroke-opacity:1;stroke-miterlimit:10;\" d=\"M 330 82.347656 L 321.199219 98.210938 \"/>\n",
       "<path style=\"fill:none;stroke-width:1;stroke-linecap:butt;stroke-linejoin:miter;stroke:rgb(86.27451%,86.27451%,86.27451%);stroke-opacity:1;stroke-miterlimit:10;\" d=\"M 330 82.347656 L 246.769531 80.890625 \"/>\n",
       "<path style=\"fill:none;stroke-width:1;stroke-linecap:butt;stroke-linejoin:miter;stroke:rgb(86.27451%,86.27451%,86.27451%);stroke-opacity:1;stroke-miterlimit:10;\" d=\"M 330 82.347656 L 217.816406 106.785156 \"/>\n",
       "<path style=\"fill:none;stroke-width:1;stroke-linecap:butt;stroke-linejoin:miter;stroke:rgb(86.27451%,86.27451%,86.27451%);stroke-opacity:1;stroke-miterlimit:10;\" d=\"M 321.199219 98.210938 L 217.816406 106.785156 \"/>\n",
       "<path style=\"fill:none;stroke-width:1;stroke-linecap:butt;stroke-linejoin:miter;stroke:rgb(86.27451%,86.27451%,86.27451%);stroke-opacity:1;stroke-miterlimit:10;\" d=\"M 162.273438 20 L 192.34375 38.078125 \"/>\n",
       "<path style=\"fill:none;stroke-width:1;stroke-linecap:butt;stroke-linejoin:miter;stroke:rgb(86.27451%,86.27451%,86.27451%);stroke-opacity:1;stroke-miterlimit:10;\" d=\"M 162.273438 20 L 136.519531 70.777344 \"/>\n",
       "<path style=\"fill:none;stroke-width:1;stroke-linecap:butt;stroke-linejoin:miter;stroke:rgb(86.27451%,86.27451%,86.27451%);stroke-opacity:1;stroke-miterlimit:10;\" d=\"M 246.769531 80.890625 L 136.519531 70.777344 \"/>\n",
       "<path style=\"fill:none;stroke-width:1;stroke-linecap:butt;stroke-linejoin:miter;stroke:rgb(86.27451%,86.27451%,86.27451%);stroke-opacity:1;stroke-miterlimit:10;\" d=\"M 218.164062 79.722656 L 217.816406 106.785156 \"/>\n",
       "<path style=\"fill:none;stroke-width:1;stroke-linecap:butt;stroke-linejoin:miter;stroke:rgb(86.27451%,86.27451%,86.27451%);stroke-opacity:1;stroke-miterlimit:10;\" d=\"M 218.164062 79.722656 L 136.519531 70.777344 \"/>\n",
       "<path style=\"fill:none;stroke-width:1;stroke-linecap:butt;stroke-linejoin:miter;stroke:rgb(86.27451%,86.27451%,86.27451%);stroke-opacity:1;stroke-miterlimit:10;\" d=\"M 192.34375 38.078125 L 115.121094 73.40625 \"/>\n",
       "<path style=\"fill:none;stroke-width:1;stroke-linecap:butt;stroke-linejoin:miter;stroke:rgb(86.27451%,86.27451%,86.27451%);stroke-opacity:1;stroke-miterlimit:10;\" d=\"M 192.34375 38.078125 L 136.519531 70.777344 \"/>\n",
       "<path style=\"fill:none;stroke-width:1;stroke-linecap:butt;stroke-linejoin:miter;stroke:rgb(86.27451%,86.27451%,86.27451%);stroke-opacity:1;stroke-miterlimit:10;\" d=\"M 48.058594 98.839844 L 115.121094 73.40625 \"/>\n",
       "<path style=\"fill:none;stroke-width:1;stroke-linecap:butt;stroke-linejoin:miter;stroke:rgb(86.27451%,86.27451%,86.27451%);stroke-opacity:1;stroke-miterlimit:10;\" d=\"M 48.058594 98.839844 L 136.519531 70.777344 \"/>\n",
       "<path style=\"fill:none;stroke-width:1;stroke-linecap:butt;stroke-linejoin:miter;stroke:rgb(86.27451%,86.27451%,86.27451%);stroke-opacity:1;stroke-miterlimit:10;\" d=\"M 217.816406 106.785156 L 115.121094 73.40625 \"/>\n",
       "<path style=\"fill:none;stroke-width:1;stroke-linecap:butt;stroke-linejoin:miter;stroke:rgb(86.27451%,86.27451%,86.27451%);stroke-opacity:1;stroke-miterlimit:10;\" d=\"M 217.816406 106.785156 L 136.519531 70.777344 \"/>\n",
       "<path style=\"fill:none;stroke-width:1;stroke-linecap:butt;stroke-linejoin:miter;stroke:rgb(86.27451%,86.27451%,86.27451%);stroke-opacity:1;stroke-miterlimit:10;\" d=\"M 115.121094 73.40625 L 136.519531 70.777344 \"/>\n",
       "<path style=\"fill-rule:nonzero;fill:rgb(75%,75%,75%);fill-opacity:1;stroke-width:1;stroke-linecap:butt;stroke-linejoin:miter;stroke:rgb(0%,0%,0%);stroke-opacity:1;stroke-miterlimit:10;\" d=\"M 163.414062 155.035156 C 163.414062 158.351562 160.726562 161.035156 157.414062 161.035156 C 154.097656 161.035156 151.414062 158.351562 151.414062 155.035156 C 151.414062 151.722656 154.097656 149.035156 157.414062 149.035156 C 160.726562 149.035156 163.414062 151.722656 163.414062 155.035156 \"/>\n",
       "<path style=\"fill-rule:nonzero;fill:rgb(75%,75%,75%);fill-opacity:1;stroke-width:1;stroke-linecap:butt;stroke-linejoin:miter;stroke:rgb(0%,0%,0%);stroke-opacity:1;stroke-miterlimit:10;\" d=\"M 107.5625 143.007812 C 107.5625 146.320312 104.875 149.007812 101.5625 149.007812 C 98.246094 149.007812 95.5625 146.320312 95.5625 143.007812 C 95.5625 139.695312 98.246094 137.007812 101.5625 137.007812 C 104.875 137.007812 107.5625 139.695312 107.5625 143.007812 \"/>\n",
       "<path style=\"fill-rule:nonzero;fill:rgb(75%,75%,75%);fill-opacity:1;stroke-width:1;stroke-linecap:butt;stroke-linejoin:miter;stroke:rgb(0%,0%,0%);stroke-opacity:1;stroke-miterlimit:10;\" d=\"M 184.5 113.941406 C 184.5 117.253906 181.8125 119.941406 178.5 119.941406 C 175.183594 119.941406 172.5 117.253906 172.5 113.941406 C 172.5 110.628906 175.183594 107.941406 178.5 107.941406 C 181.8125 107.941406 184.5 110.628906 184.5 113.941406 \"/>\n",
       "<path style=\"fill-rule:nonzero;fill:rgb(75%,75%,75%);fill-opacity:1;stroke-width:1;stroke-linecap:butt;stroke-linejoin:miter;stroke:rgb(0%,0%,0%);stroke-opacity:1;stroke-miterlimit:10;\" d=\"M 185.742188 145.398438 C 185.742188 148.714844 183.054688 151.398438 179.742188 151.398438 C 176.425781 151.398438 173.742188 148.714844 173.742188 145.398438 C 173.742188 142.085938 176.425781 139.398438 179.742188 139.398438 C 183.054688 139.398438 185.742188 142.085938 185.742188 145.398438 \"/>\n",
       "<path style=\"fill-rule:nonzero;fill:rgb(75%,75%,75%);fill-opacity:1;stroke-width:1;stroke-linecap:butt;stroke-linejoin:miter;stroke:rgb(0%,0%,0%);stroke-opacity:1;stroke-miterlimit:10;\" d=\"M 287.929688 166.636719 C 287.929688 169.949219 285.242188 172.636719 281.929688 172.636719 C 278.613281 172.636719 275.929688 169.949219 275.929688 166.636719 C 275.929688 163.324219 278.613281 160.636719 281.929688 160.636719 C 285.242188 160.636719 287.929688 163.324219 287.929688 166.636719 \"/>\n",
       "<path style=\"fill-rule:nonzero;fill:rgb(75%,75%,75%);fill-opacity:1;stroke-width:1;stroke-linecap:butt;stroke-linejoin:miter;stroke:rgb(0%,0%,0%);stroke-opacity:1;stroke-miterlimit:10;\" d=\"M 191.964844 199.144531 C 191.964844 202.460938 189.277344 205.144531 185.964844 205.144531 C 182.652344 205.144531 179.964844 202.460938 179.964844 199.144531 C 179.964844 195.832031 182.652344 193.144531 185.964844 193.144531 C 189.277344 193.144531 191.964844 195.832031 191.964844 199.144531 \"/>\n",
       "<path style=\"fill-rule:nonzero;fill:rgb(75%,75%,75%);fill-opacity:1;stroke-width:1;stroke-linecap:butt;stroke-linejoin:miter;stroke:rgb(0%,0%,0%);stroke-opacity:1;stroke-miterlimit:10;\" d=\"M 245.496094 190.84375 C 245.496094 194.15625 242.808594 196.84375 239.496094 196.84375 C 236.183594 196.84375 233.496094 194.15625 233.496094 190.84375 C 233.496094 187.53125 236.183594 184.84375 239.496094 184.84375 C 242.808594 184.84375 245.496094 187.53125 245.496094 190.84375 \"/>\n",
       "<path style=\"fill-rule:nonzero;fill:rgb(75%,75%,75%);fill-opacity:1;stroke-width:1;stroke-linecap:butt;stroke-linejoin:miter;stroke:rgb(0%,0%,0%);stroke-opacity:1;stroke-miterlimit:10;\" d=\"M 235.152344 141.992188 C 235.152344 145.304688 232.464844 147.992188 229.152344 147.992188 C 225.839844 147.992188 223.152344 145.304688 223.152344 141.992188 C 223.152344 138.675781 225.839844 135.992188 229.152344 135.992188 C 232.464844 135.992188 235.152344 138.675781 235.152344 141.992188 \"/>\n",
       "<path style=\"fill-rule:nonzero;fill:rgb(41.176471%,41.176471%,41.176471%);fill-opacity:1;stroke-width:1;stroke-linecap:butt;stroke-linejoin:miter;stroke:rgb(0%,0%,0%);stroke-opacity:1;stroke-miterlimit:10;\" d=\"M 114.039062 110.171875 C 114.039062 113.488281 111.355469 116.171875 108.039062 116.171875 C 104.726562 116.171875 102.039062 113.488281 102.039062 110.171875 C 102.039062 106.859375 104.726562 104.171875 108.039062 104.171875 C 111.355469 104.171875 114.039062 106.859375 114.039062 110.171875 \"/>\n",
       "<path style=\"fill-rule:nonzero;fill:rgb(41.176471%,41.176471%,41.176471%);fill-opacity:1;stroke-width:1;stroke-linecap:butt;stroke-linejoin:miter;stroke:rgb(0%,0%,0%);stroke-opacity:1;stroke-miterlimit:10;\" d=\"M 190.921875 78.945312 C 190.921875 82.257812 188.234375 84.945312 184.921875 84.945312 C 181.609375 84.945312 178.921875 82.257812 178.921875 78.945312 C 178.921875 75.628906 181.609375 72.945312 184.921875 72.945312 C 188.234375 72.945312 190.921875 75.628906 190.921875 78.945312 \"/>\n",
       "<path style=\"fill-rule:nonzero;fill:rgb(75%,75%,75%);fill-opacity:1;stroke-width:1;stroke-linecap:butt;stroke-linejoin:miter;stroke:rgb(0%,0%,0%);stroke-opacity:1;stroke-miterlimit:10;\" d=\"M 242.03125 178.476562 C 242.03125 181.792969 239.34375 184.476562 236.03125 184.476562 C 232.714844 184.476562 230.03125 181.792969 230.03125 178.476562 C 230.03125 175.164062 232.714844 172.476562 236.03125 172.476562 C 239.34375 172.476562 242.03125 175.164062 242.03125 178.476562 \"/>\n",
       "<path style=\"fill-rule:nonzero;fill:rgb(75%,75%,75%);fill-opacity:1;stroke-width:1;stroke-linecap:butt;stroke-linejoin:miter;stroke:rgb(0%,0%,0%);stroke-opacity:1;stroke-miterlimit:10;\" d=\"M 99.316406 193.589844 C 99.316406 196.902344 96.628906 199.589844 93.316406 199.589844 C 90.003906 199.589844 87.316406 196.902344 87.316406 193.589844 C 87.316406 190.277344 90.003906 187.589844 93.316406 187.589844 C 96.628906 187.589844 99.316406 190.277344 99.316406 193.589844 \"/>\n",
       "<path style=\"fill-rule:nonzero;fill:rgb(75%,75%,75%);fill-opacity:1;stroke-width:1;stroke-linecap:butt;stroke-linejoin:miter;stroke:rgb(0%,0%,0%);stroke-opacity:1;stroke-miterlimit:10;\" d=\"M 146.550781 187.515625 C 146.550781 190.828125 143.867188 193.515625 140.550781 193.515625 C 137.238281 193.515625 134.550781 190.828125 134.550781 187.515625 C 134.550781 184.203125 137.238281 181.515625 140.550781 181.515625 C 143.867188 181.515625 146.550781 184.203125 146.550781 187.515625 \"/>\n",
       "<path style=\"fill-rule:nonzero;fill:rgb(75%,75%,75%);fill-opacity:1;stroke-width:1;stroke-linecap:butt;stroke-linejoin:miter;stroke:rgb(0%,0%,0%);stroke-opacity:1;stroke-miterlimit:10;\" d=\"M 135.84375 119.078125 C 135.84375 122.390625 133.15625 125.078125 129.84375 125.078125 C 126.527344 125.078125 123.84375 122.390625 123.84375 119.078125 C 123.84375 115.765625 126.527344 113.078125 129.84375 113.078125 C 133.15625 113.078125 135.84375 115.765625 135.84375 119.078125 \"/>\n",
       "<path style=\"fill-rule:nonzero;fill:rgb(41.176471%,41.176471%,41.176471%);fill-opacity:1;stroke-width:1;stroke-linecap:butt;stroke-linejoin:miter;stroke:rgb(0%,0%,0%);stroke-opacity:1;stroke-miterlimit:10;\" d=\"M 93.359375 34.953125 C 93.359375 38.269531 90.671875 40.953125 87.359375 40.953125 C 84.046875 40.953125 81.359375 38.269531 81.359375 34.953125 C 81.359375 31.640625 84.046875 28.953125 87.359375 28.953125 C 90.671875 28.953125 93.359375 31.640625 93.359375 34.953125 \"/>\n",
       "<path style=\"fill-rule:nonzero;fill:rgb(41.176471%,41.176471%,41.176471%);fill-opacity:1;stroke-width:1;stroke-linecap:butt;stroke-linejoin:miter;stroke:rgb(0%,0%,0%);stroke-opacity:1;stroke-miterlimit:10;\" d=\"M 38.800781 56.101562 C 38.800781 59.414062 36.113281 62.101562 32.800781 62.101562 C 29.484375 62.101562 26.800781 59.414062 26.800781 56.101562 C 26.800781 52.785156 29.484375 50.101562 32.800781 50.101562 C 36.113281 50.101562 38.800781 52.785156 38.800781 56.101562 \"/>\n",
       "<path style=\"fill-rule:nonzero;fill:rgb(75%,75%,75%);fill-opacity:1;stroke-width:1;stroke-linecap:butt;stroke-linejoin:miter;stroke:rgb(0%,0%,0%);stroke-opacity:1;stroke-miterlimit:10;\" d=\"M 262.253906 230 C 262.253906 233.3125 259.566406 236 256.253906 236 C 252.9375 236 250.253906 233.3125 250.253906 230 C 250.253906 226.6875 252.9375 224 256.253906 224 C 259.566406 224 262.253906 226.6875 262.253906 230 \"/>\n",
       "<path style=\"fill-rule:nonzero;fill:rgb(75%,75%,75%);fill-opacity:1;stroke-width:1;stroke-linecap:butt;stroke-linejoin:miter;stroke:rgb(0%,0%,0%);stroke-opacity:1;stroke-miterlimit:10;\" d=\"M 45.71875 165.132812 C 45.71875 168.445312 43.03125 171.132812 39.71875 171.132812 C 36.402344 171.132812 33.71875 168.445312 33.71875 165.132812 C 33.71875 161.820312 36.402344 159.132812 39.71875 159.132812 C 43.03125 159.132812 45.71875 161.820312 45.71875 165.132812 \"/>\n",
       "<path style=\"fill-rule:nonzero;fill:rgb(41.176471%,41.176471%,41.176471%);fill-opacity:1;stroke-width:1;stroke-linecap:butt;stroke-linejoin:miter;stroke:rgb(0%,0%,0%);stroke-opacity:1;stroke-miterlimit:10;\" d=\"M 26 70.054688 C 26 73.371094 23.3125 76.054688 20 76.054688 C 16.6875 76.054688 14 73.371094 14 70.054688 C 14 66.742188 16.6875 64.054688 20 64.054688 C 23.3125 64.054688 26 66.742188 26 70.054688 \"/>\n",
       "<path style=\"fill-rule:nonzero;fill:rgb(75%,75%,75%);fill-opacity:1;stroke-width:1;stroke-linecap:butt;stroke-linejoin:miter;stroke:rgb(0%,0%,0%);stroke-opacity:1;stroke-miterlimit:10;\" d=\"M 82.484375 119.023438 C 82.484375 122.335938 79.800781 125.023438 76.484375 125.023438 C 73.171875 125.023438 70.484375 122.335938 70.484375 119.023438 C 70.484375 115.707031 73.171875 113.023438 76.484375 113.023438 C 79.800781 113.023438 82.484375 115.707031 82.484375 119.023438 \"/>\n",
       "<path style=\"fill-rule:nonzero;fill:rgb(41.176471%,41.176471%,41.176471%);fill-opacity:1;stroke-width:1;stroke-linecap:butt;stroke-linejoin:miter;stroke:rgb(0%,0%,0%);stroke-opacity:1;stroke-miterlimit:10;\" d=\"M 61.632812 43.875 C 61.632812 47.1875 58.945312 49.875 55.632812 49.875 C 52.320312 49.875 49.632812 47.1875 49.632812 43.875 C 49.632812 40.558594 52.320312 37.875 55.632812 37.875 C 58.945312 37.875 61.632812 40.558594 61.632812 43.875 \"/>\n",
       "<path style=\"fill-rule:nonzero;fill:rgb(75%,75%,75%);fill-opacity:1;stroke-width:1;stroke-linecap:butt;stroke-linejoin:miter;stroke:rgb(0%,0%,0%);stroke-opacity:1;stroke-miterlimit:10;\" d=\"M 71.179688 176.0625 C 71.179688 179.375 68.492188 182.0625 65.179688 182.0625 C 61.863281 182.0625 59.179688 179.375 59.179688 176.0625 C 59.179688 172.75 61.863281 170.0625 65.179688 170.0625 C 68.492188 170.0625 71.179688 172.75 71.179688 176.0625 \"/>\n",
       "<path style=\"fill-rule:nonzero;fill:rgb(41.176471%,41.176471%,41.176471%);fill-opacity:1;stroke-width:1;stroke-linecap:butt;stroke-linejoin:miter;stroke:rgb(0%,0%,0%);stroke-opacity:1;stroke-miterlimit:10;\" d=\"M 133.089844 32.976562 C 133.089844 36.289062 130.402344 38.976562 127.089844 38.976562 C 123.777344 38.976562 121.089844 36.289062 121.089844 32.976562 C 121.089844 29.660156 123.777344 26.976562 127.089844 26.976562 C 130.402344 26.976562 133.089844 29.660156 133.089844 32.976562 \"/>\n",
       "<path style=\"fill-rule:nonzero;fill:rgb(41.176471%,41.176471%,41.176471%);fill-opacity:1;stroke-width:1;stroke-linecap:butt;stroke-linejoin:miter;stroke:rgb(0%,0%,0%);stroke-opacity:1;stroke-miterlimit:10;\" d=\"M 244.324219 52.601562 C 244.324219 55.914062 241.636719 58.601562 238.324219 58.601562 C 235.011719 58.601562 232.324219 55.914062 232.324219 52.601562 C 232.324219 49.289062 235.011719 46.601562 238.324219 46.601562 C 241.636719 46.601562 244.324219 49.289062 244.324219 52.601562 \"/>\n",
       "<path style=\"fill-rule:nonzero;fill:rgb(41.176471%,41.176471%,41.176471%);fill-opacity:1;stroke-width:1;stroke-linecap:butt;stroke-linejoin:miter;stroke:rgb(0%,0%,0%);stroke-opacity:1;stroke-miterlimit:10;\" d=\"M 336 82.347656 C 336 85.664062 333.3125 88.347656 330 88.347656 C 326.6875 88.347656 324 85.664062 324 82.347656 C 324 79.035156 326.6875 76.347656 330 76.347656 C 333.3125 76.347656 336 79.035156 336 82.347656 \"/>\n",
       "<path style=\"fill-rule:nonzero;fill:rgb(41.176471%,41.176471%,41.176471%);fill-opacity:1;stroke-width:1;stroke-linecap:butt;stroke-linejoin:miter;stroke:rgb(0%,0%,0%);stroke-opacity:1;stroke-miterlimit:10;\" d=\"M 327.199219 98.210938 C 327.199219 101.523438 324.511719 104.210938 321.199219 104.210938 C 317.886719 104.210938 315.199219 101.523438 315.199219 98.210938 C 315.199219 94.894531 317.886719 92.210938 321.199219 92.210938 C 324.511719 92.210938 327.199219 94.894531 327.199219 98.210938 \"/>\n",
       "<path style=\"fill-rule:nonzero;fill:rgb(41.176471%,41.176471%,41.176471%);fill-opacity:1;stroke-width:1;stroke-linecap:butt;stroke-linejoin:miter;stroke:rgb(0%,0%,0%);stroke-opacity:1;stroke-miterlimit:10;\" d=\"M 168.273438 20 C 168.273438 23.3125 165.589844 26 162.273438 26 C 158.960938 26 156.273438 23.3125 156.273438 20 C 156.273438 16.6875 158.960938 14 162.273438 14 C 165.589844 14 168.273438 16.6875 168.273438 20 \"/>\n",
       "<path style=\"fill-rule:nonzero;fill:rgb(41.176471%,41.176471%,41.176471%);fill-opacity:1;stroke-width:1;stroke-linecap:butt;stroke-linejoin:miter;stroke:rgb(0%,0%,0%);stroke-opacity:1;stroke-miterlimit:10;\" d=\"M 252.769531 80.890625 C 252.769531 84.203125 250.085938 86.890625 246.769531 86.890625 C 243.457031 86.890625 240.769531 84.203125 240.769531 80.890625 C 240.769531 77.578125 243.457031 74.890625 246.769531 74.890625 C 250.085938 74.890625 252.769531 77.578125 252.769531 80.890625 \"/>\n",
       "<path style=\"fill-rule:nonzero;fill:rgb(41.176471%,41.176471%,41.176471%);fill-opacity:1;stroke-width:1;stroke-linecap:butt;stroke-linejoin:miter;stroke:rgb(0%,0%,0%);stroke-opacity:1;stroke-miterlimit:10;\" d=\"M 224.164062 79.722656 C 224.164062 83.035156 221.476562 85.722656 218.164062 85.722656 C 214.847656 85.722656 212.164062 83.035156 212.164062 79.722656 C 212.164062 76.410156 214.847656 73.722656 218.164062 73.722656 C 221.476562 73.722656 224.164062 76.410156 224.164062 79.722656 \"/>\n",
       "<path style=\"fill-rule:nonzero;fill:rgb(41.176471%,41.176471%,41.176471%);fill-opacity:1;stroke-width:1;stroke-linecap:butt;stroke-linejoin:miter;stroke:rgb(0%,0%,0%);stroke-opacity:1;stroke-miterlimit:10;\" d=\"M 198.34375 38.078125 C 198.34375 41.390625 195.660156 44.078125 192.34375 44.078125 C 189.03125 44.078125 186.34375 41.390625 186.34375 38.078125 C 186.34375 34.761719 189.03125 32.078125 192.34375 32.078125 C 195.660156 32.078125 198.34375 34.761719 198.34375 38.078125 \"/>\n",
       "<path style=\"fill-rule:nonzero;fill:rgb(41.176471%,41.176471%,41.176471%);fill-opacity:1;stroke-width:1;stroke-linecap:butt;stroke-linejoin:miter;stroke:rgb(0%,0%,0%);stroke-opacity:1;stroke-miterlimit:10;\" d=\"M 54.058594 98.839844 C 54.058594 102.15625 51.375 104.839844 48.058594 104.839844 C 44.746094 104.839844 42.058594 102.15625 42.058594 98.839844 C 42.058594 95.527344 44.746094 92.839844 48.058594 92.839844 C 51.375 92.839844 54.058594 95.527344 54.058594 98.839844 \"/>\n",
       "<path style=\"fill-rule:nonzero;fill:rgb(41.176471%,41.176471%,41.176471%);fill-opacity:1;stroke-width:1;stroke-linecap:butt;stroke-linejoin:miter;stroke:rgb(0%,0%,0%);stroke-opacity:1;stroke-miterlimit:10;\" d=\"M 223.816406 106.785156 C 223.816406 110.097656 221.132812 112.785156 217.816406 112.785156 C 214.503906 112.785156 211.816406 110.097656 211.816406 106.785156 C 211.816406 103.472656 214.503906 100.785156 217.816406 100.785156 C 221.132812 100.785156 223.816406 103.472656 223.816406 106.785156 \"/>\n",
       "<path style=\"fill-rule:nonzero;fill:rgb(41.176471%,41.176471%,41.176471%);fill-opacity:1;stroke-width:1;stroke-linecap:butt;stroke-linejoin:miter;stroke:rgb(0%,0%,0%);stroke-opacity:1;stroke-miterlimit:10;\" d=\"M 121.121094 73.40625 C 121.121094 76.71875 118.433594 79.40625 115.121094 79.40625 C 111.804688 79.40625 109.121094 76.71875 109.121094 73.40625 C 109.121094 70.09375 111.804688 67.40625 115.121094 67.40625 C 118.433594 67.40625 121.121094 70.09375 121.121094 73.40625 \"/>\n",
       "<path style=\"fill-rule:nonzero;fill:rgb(41.176471%,41.176471%,41.176471%);fill-opacity:1;stroke-width:1;stroke-linecap:butt;stroke-linejoin:miter;stroke:rgb(0%,0%,0%);stroke-opacity:1;stroke-miterlimit:10;\" d=\"M 142.519531 70.777344 C 142.519531 74.089844 139.832031 76.777344 136.519531 76.777344 C 133.207031 76.777344 130.519531 74.089844 130.519531 70.777344 C 130.519531 67.464844 133.207031 64.777344 136.519531 64.777344 C 139.832031 64.777344 142.519531 67.464844 142.519531 70.777344 \"/>\n",
       "<g style=\"fill:rgb(0%,0%,0%);fill-opacity:1;\">\n",
       "  <use xlink:href=\"#glyph0-1\" x=\"155.234375\" y=\"158.753906\"/>\n",
       "</g>\n",
       "<g style=\"fill:rgb(0%,0%,0%);fill-opacity:1;\">\n",
       "  <use xlink:href=\"#glyph0-2\" x=\"99.761719\" y=\"146.710938\"/>\n",
       "</g>\n",
       "<g style=\"fill:rgb(0%,0%,0%);fill-opacity:1;\">\n",
       "  <use xlink:href=\"#glyph0-3\" x=\"176.316406\" y=\"117.667969\"/>\n",
       "</g>\n",
       "<g style=\"fill:rgb(0%,0%,0%);fill-opacity:1;\">\n",
       "  <use xlink:href=\"#glyph0-4\" x=\"177.59375\" y=\"149.121094\"/>\n",
       "</g>\n",
       "<g style=\"fill:rgb(0%,0%,0%);fill-opacity:1;\">\n",
       "  <use xlink:href=\"#glyph0-5\" x=\"279.734375\" y=\"170.363281\"/>\n",
       "</g>\n",
       "<g style=\"fill:rgb(0%,0%,0%);fill-opacity:1;\">\n",
       "  <use xlink:href=\"#glyph0-6\" x=\"183.78125\" y=\"202.816406\"/>\n",
       "</g>\n",
       "<g style=\"fill:rgb(0%,0%,0%);fill-opacity:1;\">\n",
       "  <use xlink:href=\"#glyph0-7\" x=\"237.277344\" y=\"194.570312\"/>\n",
       "</g>\n",
       "<g style=\"fill:rgb(0%,0%,0%);fill-opacity:1;\">\n",
       "  <use xlink:href=\"#glyph0-8\" x=\"226.914062\" y=\"145.660156\"/>\n",
       "</g>\n",
       "<g style=\"fill:rgb(0%,0%,0%);fill-opacity:1;\">\n",
       "  <use xlink:href=\"#glyph0-9\" x=\"105.859375\" y=\"113.898438\"/>\n",
       "</g>\n",
       "<g style=\"fill:rgb(0%,0%,0%);fill-opacity:1;\">\n",
       "  <use xlink:href=\"#glyph0-10\" x=\"182.746094\" y=\"82.664062\"/>\n",
       "</g>\n",
       "<g style=\"fill:rgb(0%,0%,0%);fill-opacity:1;\">\n",
       "  <use xlink:href=\"#glyph0-2\" x=\"231.367188\" y=\"182.195312\"/>\n",
       "  <use xlink:href=\"#glyph0-1\" x=\"235.816406\" y=\"182.195312\"/>\n",
       "</g>\n",
       "<g style=\"fill:rgb(0%,0%,0%);fill-opacity:1;\">\n",
       "  <use xlink:href=\"#glyph0-2\" x=\"89.292969\" y=\"197.292969\"/>\n",
       "  <use xlink:href=\"#glyph0-2\" x=\"93.742188\" y=\"197.292969\"/>\n",
       "</g>\n",
       "<g style=\"fill:rgb(0%,0%,0%);fill-opacity:1;\">\n",
       "  <use xlink:href=\"#glyph0-2\" x=\"135.886719\" y=\"191.242188\"/>\n",
       "  <use xlink:href=\"#glyph0-3\" x=\"140.335938\" y=\"191.242188\"/>\n",
       "</g>\n",
       "<g style=\"fill:rgb(0%,0%,0%);fill-opacity:1;\">\n",
       "  <use xlink:href=\"#glyph0-2\" x=\"125.183594\" y=\"122.800781\"/>\n",
       "  <use xlink:href=\"#glyph0-4\" x=\"129.632812\" y=\"122.800781\"/>\n",
       "</g>\n",
       "<g style=\"fill:rgb(0%,0%,0%);fill-opacity:1;\">\n",
       "  <use xlink:href=\"#glyph0-2\" x=\"82.660156\" y=\"38.679688\"/>\n",
       "  <use xlink:href=\"#glyph0-5\" x=\"87.109375\" y=\"38.679688\"/>\n",
       "</g>\n",
       "<g style=\"fill:rgb(0%,0%,0%);fill-opacity:1;\">\n",
       "  <use xlink:href=\"#glyph0-2\" x=\"28.136719\" y=\"59.804688\"/>\n",
       "  <use xlink:href=\"#glyph0-6\" x=\"32.585938\" y=\"59.804688\"/>\n",
       "</g>\n",
       "<g style=\"fill:rgb(0%,0%,0%);fill-opacity:1;\">\n",
       "  <use xlink:href=\"#glyph0-2\" x=\"251.578125\" y=\"233.726562\"/>\n",
       "  <use xlink:href=\"#glyph0-7\" x=\"256.027344\" y=\"233.726562\"/>\n",
       "</g>\n",
       "<g style=\"fill:rgb(0%,0%,0%);fill-opacity:1;\">\n",
       "  <use xlink:href=\"#glyph0-2\" x=\"35.019531\" y=\"168.839844\"/>\n",
       "  <use xlink:href=\"#glyph0-8\" x=\"39.46875\" y=\"168.839844\"/>\n",
       "</g>\n",
       "<g style=\"fill:rgb(0%,0%,0%);fill-opacity:1;\">\n",
       "  <use xlink:href=\"#glyph0-2\" x=\"15.34375\" y=\"73.78125\"/>\n",
       "  <use xlink:href=\"#glyph0-9\" x=\"19.792969\" y=\"73.78125\"/>\n",
       "</g>\n",
       "<g style=\"fill:rgb(0%,0%,0%);fill-opacity:1;\">\n",
       "  <use xlink:href=\"#glyph0-2\" x=\"71.84375\" y=\"122.742188\"/>\n",
       "  <use xlink:href=\"#glyph0-10\" x=\"76.292969\" y=\"122.742188\"/>\n",
       "</g>\n",
       "<g style=\"fill:rgb(0%,0%,0%);fill-opacity:1;\">\n",
       "  <use xlink:href=\"#glyph0-3\" x=\"51.230469\" y=\"47.601562\"/>\n",
       "  <use xlink:href=\"#glyph0-1\" x=\"55.679688\" y=\"47.601562\"/>\n",
       "</g>\n",
       "<g style=\"fill:rgb(0%,0%,0%);fill-opacity:1;\">\n",
       "  <use xlink:href=\"#glyph0-3\" x=\"61.414062\" y=\"179.789062\"/>\n",
       "  <use xlink:href=\"#glyph0-2\" x=\"65.863281\" y=\"179.789062\"/>\n",
       "</g>\n",
       "<g style=\"fill:rgb(0%,0%,0%);fill-opacity:1;\">\n",
       "  <use xlink:href=\"#glyph0-3\" x=\"122.683594\" y=\"36.703125\"/>\n",
       "  <use xlink:href=\"#glyph0-3\" x=\"127.132812\" y=\"36.703125\"/>\n",
       "</g>\n",
       "<g style=\"fill:rgb(0%,0%,0%);fill-opacity:1;\">\n",
       "  <use xlink:href=\"#glyph0-3\" x=\"233.921875\" y=\"56.328125\"/>\n",
       "  <use xlink:href=\"#glyph0-4\" x=\"238.371094\" y=\"56.328125\"/>\n",
       "</g>\n",
       "<g style=\"fill:rgb(0%,0%,0%);fill-opacity:1;\">\n",
       "  <use xlink:href=\"#glyph0-3\" x=\"325.558594\" y=\"86.074219\"/>\n",
       "  <use xlink:href=\"#glyph0-5\" x=\"330.007812\" y=\"86.074219\"/>\n",
       "</g>\n",
       "<g style=\"fill:rgb(0%,0%,0%);fill-opacity:1;\">\n",
       "  <use xlink:href=\"#glyph0-3\" x=\"316.796875\" y=\"101.9375\"/>\n",
       "  <use xlink:href=\"#glyph0-6\" x=\"321.246094\" y=\"101.9375\"/>\n",
       "</g>\n",
       "<g style=\"fill:rgb(0%,0%,0%);fill-opacity:1;\">\n",
       "  <use xlink:href=\"#glyph0-3\" x=\"157.855469\" y=\"23.726562\"/>\n",
       "  <use xlink:href=\"#glyph0-7\" x=\"162.304688\" y=\"23.726562\"/>\n",
       "</g>\n",
       "<g style=\"fill:rgb(0%,0%,0%);fill-opacity:1;\">\n",
       "  <use xlink:href=\"#glyph0-3\" x=\"242.328125\" y=\"84.617188\"/>\n",
       "  <use xlink:href=\"#glyph0-8\" x=\"246.777344\" y=\"84.617188\"/>\n",
       "</g>\n",
       "<g style=\"fill:rgb(0%,0%,0%);fill-opacity:1;\">\n",
       "  <use xlink:href=\"#glyph0-3\" x=\"213.761719\" y=\"83.449219\"/>\n",
       "  <use xlink:href=\"#glyph0-9\" x=\"218.210938\" y=\"83.449219\"/>\n",
       "</g>\n",
       "<g style=\"fill:rgb(0%,0%,0%);fill-opacity:1;\">\n",
       "  <use xlink:href=\"#glyph0-3\" x=\"187.960938\" y=\"41.804688\"/>\n",
       "  <use xlink:href=\"#glyph0-10\" x=\"192.410156\" y=\"41.804688\"/>\n",
       "</g>\n",
       "<g style=\"fill:rgb(0%,0%,0%);fill-opacity:1;\">\n",
       "  <use xlink:href=\"#glyph0-4\" x=\"43.683594\" y=\"102.5625\"/>\n",
       "  <use xlink:href=\"#glyph0-1\" x=\"48.132812\" y=\"102.5625\"/>\n",
       "</g>\n",
       "<g style=\"fill:rgb(0%,0%,0%);fill-opacity:1;\">\n",
       "  <use xlink:href=\"#glyph0-4\" x=\"214.082031\" y=\"110.503906\"/>\n",
       "  <use xlink:href=\"#glyph0-2\" x=\"218.53125\" y=\"110.503906\"/>\n",
       "</g>\n",
       "<g style=\"fill:rgb(0%,0%,0%);fill-opacity:1;\">\n",
       "  <use xlink:href=\"#glyph0-4\" x=\"110.742188\" y=\"77.132812\"/>\n",
       "  <use xlink:href=\"#glyph0-3\" x=\"115.191406\" y=\"77.132812\"/>\n",
       "</g>\n",
       "<g style=\"fill:rgb(0%,0%,0%);fill-opacity:1;\">\n",
       "  <use xlink:href=\"#glyph0-4\" x=\"132.148438\" y=\"74.496094\"/>\n",
       "  <use xlink:href=\"#glyph0-4\" x=\"136.597656\" y=\"74.496094\"/>\n",
       "</g>\n",
       "</g>\n",
       "</svg>\n"
      ],
      "text/plain": [
       "<igraph.drawing.cairo.plot.CairoPlot at 0x7fcf90c024d0>"
      ]
     },
     "execution_count": 4,
     "metadata": {
      "image/svg+xml": {
       "isolated": true
      }
     },
     "output_type": "execute_result"
    }
   ],
   "source": [
    "z = ig.Graph.Famous('zachary')\n",
    "z.vs['size'] = 12\n",
    "z.vs['name'] = [str(i) for i in range(z.vcount())]\n",
    "z.vs['label'] = [str(i) for i in range(z.vcount())]\n",
    "z.vs['label_size'] = 8\n",
    "z.es['color'] = cls_edges\n",
    "z.vs['comm'] = [0,0,0,0,0,0,0,0,1,1,0,0,0,0,1,1,0,0,1,0,1,0,1,1,1,1,1,1,1,1,1,1,1,1]\n",
    "z.vs['color'] = [cls[i] for i in z.vs['comm']]\n",
    "#ig.plot(z, 'zachary_gt.eps', bbox=(0,0,300,200))\n",
    "ig.plot(z, bbox=(0,0,350,250))"
   ]
  },
  {
   "cell_type": "code",
   "execution_count": 5,
   "id": "34c05cef",
   "metadata": {},
   "outputs": [
    {
     "name": "stdout",
     "output_type": "stream",
     "text": [
      "---- AMI ----\n",
      "ecg : 0.6298\n",
      "louvain : 0.5817\n",
      "infomap : 0.6874\n",
      "label_prog : 0.2015\n",
      "gn : 0.8328\n",
      "cnm : 0.8335\n"
     ]
    }
   ],
   "source": [
    "print(\"---- AMI ----\")\n",
    "cluster_map = run_clustering(z, n=2)\n",
    "ground_truth = z.vs['comm']\n",
    "for cluster_method, cluster in cluster_map.items():\n",
    "    ami = AMI(ground_truth, cluster)\n",
    "    print(cluster_method, ':', round(ami, 4))"
   ]
  },
  {
   "cell_type": "markdown",
   "id": "241caf92",
   "metadata": {},
   "source": [
    "# Problem 2"
   ]
  },
  {
   "cell_type": "code",
   "execution_count": 6,
   "id": "670dcf88",
   "metadata": {},
   "outputs": [],
   "source": [
    "## read the GitHub edge list as tuples and build undirected graph\n",
    "D = pd.read_csv(datadir+'GitHubDevelopers/musae_git_edges.csv')\n",
    "tuples = [tuple(x) for x in D.values]\n",
    "gh = ig.Graph.TupleList(tuples, directed = False)\n",
    "\n",
    "## read node features\n",
    "X = pd.read_csv(datadir+'GitHubDevelopers/musae_git_target.csv')\n",
    "\n",
    "## map node names in edgelist to indices in the graph\n",
    "idx = [int(i) for i in gh.vs['name']]\n",
    "sorterIndex = dict(zip(idx,range(len(idx))))\n",
    "X['Rank'] = X['id'].map(sorterIndex) \n",
    "X.sort_values(['Rank'], ascending=[True],inplace=True)\n",
    "X.dropna(inplace=True)\n",
    "\n",
    "lbl = ['web','ml']     ## node labels\n",
    "## there are 2 node types: ml or web\n",
    "gh.vs['lbl'] = [lbl[i] for i in list(X['ml_target'])]"
   ]
  },
  {
   "cell_type": "code",
   "execution_count": 7,
   "id": "58c44618",
   "metadata": {},
   "outputs": [
    {
     "name": "stdout",
     "output_type": "stream",
     "text": [
      "GitHub nodes: 37700 ; ml developers: 9739 ; web developers: 27961\n"
     ]
    }
   ],
   "source": [
    "## build the subgraphs\n",
    "gh_ml = gh.subgraph([v for v in gh.vs() if v['lbl']=='ml'])\n",
    "gh_web = gh.subgraph([v for v in gh.vs() if v['lbl']=='web'])\n",
    "\n",
    "## there are 9739 ml developers and 27961 web developers\n",
    "print('GitHub nodes:',gh.vcount(),'; ml developers:',gh_ml.vcount(),'; web developers:',gh_web.vcount())"
   ]
  },
  {
   "cell_type": "code",
   "execution_count": 8,
   "id": "6cbac65d",
   "metadata": {},
   "outputs": [
    {
     "name": "stdout",
     "output_type": "stream",
     "text": [
      "ecg: 1.5060999393463135\n",
      "louvain: 0.06590485572814941\n",
      "infomap: 10.23180103302002\n",
      "label_prog: 0.05117392539978027\n",
      "cnm: 0.22686290740966797\n"
     ]
    }
   ],
   "source": [
    "# running time\n",
    "gh_ml_cluster_map = run_clustering(gh_ml, exclude=['gn'], verbose=True)"
   ]
  },
  {
   "cell_type": "code",
   "execution_count": 9,
   "id": "c2e219b7",
   "metadata": {},
   "outputs": [
    {
     "name": "stdout",
     "output_type": "stream",
     "text": [
      "AMI of ecg and louvain: 0.6353\n",
      "AMI of ecg and infomap: 0.5724\n",
      "AMI of ecg and label_prog: 0.4941\n",
      "AMI of ecg and cnm: 0.5478\n",
      "AMI of louvain and infomap: 0.4996\n",
      "AMI of louvain and label_prog: 0.5717\n",
      "AMI of louvain and cnm: 0.5785\n",
      "AMI of infomap and label_prog: 0.2973\n",
      "AMI of infomap and cnm: 0.4686\n",
      "AMI of label_prog and cnm: 0.5918\n"
     ]
    }
   ],
   "source": [
    "clustering_pairs = list(combinations(gh_ml_cluster_map.keys(), 2))\n",
    "clustering_pairs_2_ami = {}\n",
    "for pair in clustering_pairs:\n",
    "    clutering_1 = gh_ml_cluster_map[pair[0]]\n",
    "    clutering_2 = gh_ml_cluster_map[pair[1]]\n",
    "    ami = round(AMI(clutering_1, clutering_2), 4)\n",
    "    print(f'AMI of {pair[0]} and {pair[1]}:', ami)\n",
    "    clustering_pairs_2_ami[pair] = ami"
   ]
  },
  {
   "cell_type": "code",
   "execution_count": 10,
   "id": "129e2fdb",
   "metadata": {},
   "outputs": [
    {
     "name": "stdout",
     "output_type": "stream",
     "text": [
      "ecg and louvain produce the most similar result with ami = 0.6353\n"
     ]
    }
   ],
   "source": [
    "max_ami = max(clustering_pairs_2_ami, key=clustering_pairs_2_ami.get)\n",
    "print(f'{max_ami[0]} and {max_ami[1]} produce the most similar result with ami = {clustering_pairs_2_ami[max_ami]}')"
   ]
  },
  {
   "cell_type": "markdown",
   "id": "a20bdee9",
   "metadata": {},
   "source": [
    "# Problem 5"
   ]
  },
  {
   "cell_type": "code",
   "execution_count": 9,
   "id": "5c917884",
   "metadata": {},
   "outputs": [],
   "source": [
    "## read graph and communities; plot\n",
    "g = ig.Graph.Read_Ncol(datadir+'ABCD/abcd_1000.dat',directed=False)\n",
    "c = np.loadtxt(datadir+'ABCD/abcd_1000_comms.dat',dtype='uint16',usecols=(1))\n",
    "g.vs['comm'] = [c[int(x['name'])-1]-1 for x in g.vs]\n",
    "gt = {k:(v-1) for k,v in enumerate(g.vs['comm'])}\n",
    "# ## map between int(name) to key\n",
    "# n2k = {int(v):k for k,v in enumerate(g.vs['name'])}\n",
    "# g.vs['size'] = 7\n",
    "# g.es['color'] = cls_edges\n",
    "# g.vs['color'] = [cls[i] for i in g.vs['comm']]\n",
    "# ig.plot(g, bbox=(0,0,300,200))"
   ]
  },
  {
   "cell_type": "code",
   "execution_count": 10,
   "id": "a105d834",
   "metadata": {},
   "outputs": [],
   "source": [
    "def compute_z_p(z):\n",
    "    ## compute internal degrees\n",
    "    n_comm = max(z.vs['comm'])\n",
    "    in_deg_list = []\n",
    "    for idx in range(n_comm+1):\n",
    "        in_deg_i = z.subgraph_edges(\n",
    "            [e for e in z.es if z.vs['comm'][e.tuple[0]]==idx and z.vs['comm'][e.tuple[1]]==idx],\n",
    "            delete_vertices=False).degree()\n",
    "        in_deg_list.append(in_deg_i)\n",
    "\n",
    "    ## compute z (normalized within-module degree)\n",
    "    vs_in_deg = []\n",
    "    for i in range(z.vcount()): \n",
    "        vs_in_deg.append(sum([in_deg_i[i] for in_deg_i in in_deg_list]))\n",
    "    z.vs['in_deg'] = vs_in_deg\n",
    "    \n",
    "    mu = []\n",
    "    sig = []\n",
    "    for in_deg in in_deg_list:\n",
    "        mean = np.mean([x for x in in_deg if x>0])\n",
    "        mu.append(mean)\n",
    "        \n",
    "        std = np.std([x for x in in_deg if x>0], ddof=1)\n",
    "        sig.append(std)\n",
    "    \n",
    "    z.vs['z'] = [(v['in_deg']-mu[v['comm']])/sig[v['comm']] for v in z.vs]\n",
    "\n",
    "    ## computing p (participation coefficient)\n",
    "    z.vs['deg'] = z.degree()\n",
    "    z.vs['out_deg'] = [v['deg'] - v['in_deg'] for v in z.vs]\n",
    "    z.vs['p'] = [1-(v['in_deg']/v['deg'])**2-(v['out_deg']/v['deg'])**2 for v in z.vs]\n",
    "    D = pd.DataFrame(np.array([z.vs['z'],z.vs['p']]).transpose(),columns=['z','p']).sort_values(by='z',ascending=False)\n",
    "    return z, D"
   ]
  },
  {
   "cell_type": "code",
   "execution_count": 11,
   "id": "ab6428f8",
   "metadata": {},
   "outputs": [],
   "source": [
    "g, _ = compute_z_p(g)"
   ]
  },
  {
   "cell_type": "code",
   "execution_count": 12,
   "id": "3262b66c",
   "metadata": {
    "scrolled": true
   },
   "outputs": [
    {
     "data": {
      "text/plain": [
       "{'non-hub': {'kinless': 0,\n",
       "  'connector': 0,\n",
       "  'peripheral': 958,\n",
       "  'ultra-peripheral': 0},\n",
       " 'hub': {'provincial': 0, 'connector': 42, 'kinless': 0}}"
      ]
     },
     "execution_count": 12,
     "metadata": {},
     "output_type": "execute_result"
    }
   ],
   "source": [
    "## Zachary graph w.r.t. roles\n",
    "# z.vs['color'] = 'black'\n",
    "# z.vs['shape'] = 'circle'\n",
    "families_count = {\n",
    "    \"non-hub\": {\n",
    "        \"kinless\": 0,\n",
    "        \"connector\": 0,\n",
    "        \"peripheral\": 0,\n",
    "        \"ultra-peripheral\": 0\n",
    "    },\n",
    "    \"hub\": {\n",
    "        \"provincial\": 0,\n",
    "        \"connector\": 0,\n",
    "        \"kinless\": 0\n",
    "    }\n",
    "}\n",
    "for v in g.vs:\n",
    "    if v['z'] <= 2.5: # non-hub\n",
    "        if v['p'] >= .8: # kinless\n",
    "            families_count[\"non-hub\"][\"kinless\"] += 1 \n",
    "        elif v['p'] >= .62 and v['p'] < .8: # connector\n",
    "            families_count[\"non-hub\"][\"connector\"] += 1\n",
    "        elif v['p'] < .62 and v['p'] >= .05: # peripheral\n",
    "            families_count[\"non-hub\"][\"peripheral\"] += 1\n",
    "        elif v['p'] < .05: # ultra-peripheral\n",
    "            families_count[\"non-hub\"][\"ultra-peripheral\"] += 1\n",
    "    elif v['z'] > 2.5: # hub\n",
    "        if v['p'] < .3: # provincial\n",
    "            families_count[\"hub\"][\"provincial\"] += 1\n",
    "        elif v['p'] >= .3 and v['p'] < 0.75: # connector\n",
    "            families_count[\"hub\"][\"connector\"] += 1\n",
    "        elif v['p'] >= .75: # kinless\n",
    "            families_count[\"hub\"][\"kinless\"] += 1\n",
    "#ig.plot(z, 'zachary_roles_1.eps', bbox=(0,0,350,250))\n",
    "# ig.plot(z, bbox=(0,0,350,250))\n",
    "families_count"
   ]
  },
  {
   "cell_type": "code",
   "execution_count": 13,
   "id": "ae7515e9",
   "metadata": {},
   "outputs": [
    {
     "name": "stdout",
     "output_type": "stream",
     "text": [
      "non-hub/kinless contains 0 nodes\n",
      "non-hub/connector contains 0 nodes\n",
      "non-hub/peripheral contains 958 nodes\n",
      "non-hub/ultra-peripheral contains 0 nodes\n",
      "hub/provincial contains 0 nodes\n",
      "hub/connector contains 42 nodes\n",
      "hub/kinless contains 0 nodes\n"
     ]
    }
   ],
   "source": [
    "for hub_type in families_count.keys():\n",
    "    for family in families_count[hub_type].keys():\n",
    "        print(f'{hub_type}/{family} contains {families_count[hub_type][family]} nodes')"
   ]
  },
  {
   "cell_type": "code",
   "execution_count": 14,
   "id": "ffba2f53",
   "metadata": {},
   "outputs": [],
   "source": [
    "def plot_family_z_p(z):\n",
    "    max_v_idx = len(z.vs()) - 1\n",
    "    \n",
    "    ## Figure 5.3(b) -- comparing the roles\n",
    "    fig, ax = plt.subplots(figsize=(12,9))\n",
    "    ax.scatter(z.vs['p'],z.vs['z'],marker='o',s=75, color='k')\n",
    "\n",
    "    plt.plot([0, .5], [2.5, 2.5], color='k', linestyle='-', linewidth=2)\n",
    "    plt.plot([.05, .05], [-.5, 2.4], color='k', linestyle='-', linewidth=2)\n",
    "\n",
    "    ax.annotate('node 0', (z.vs['p'][0],z.vs['z'][0]-.05), xytext=(z.vs['p'][0]+.01,z.vs['z'][0]-.3), \n",
    "                fontsize=14,\n",
    "                arrowprops = dict(  arrowstyle=\"-\",connectionstyle=\"angle3,angleA=0,angleB=-90\"))\n",
    "\n",
    "    ax.annotate(f'node {max_v_idx}', (z.vs['p'][max_v_idx],z.vs['z'][max_v_idx]-.05), xytext=(z.vs['p'][max_v_idx]-.07,z.vs['z'][max_v_idx]-.3), \n",
    "                fontsize=14,\n",
    "                arrowprops = dict(  arrowstyle=\"-\",connectionstyle=\"angle3,angleA=0,angleB=-90\"))\n",
    "\n",
    "    ax.annotate(f'node {max_v_idx-1}', (z.vs['p'][max_v_idx-1]-.005,z.vs['z'][max_v_idx-1]), xytext=(z.vs['p'][max_v_idx-1]-.07,z.vs['z'][max_v_idx-1]), \n",
    "                fontsize=14,\n",
    "                arrowprops = dict(  arrowstyle=\"-\",connectionstyle=\"angle3,angleA=0,angleB=-90\"))\n",
    "\n",
    "    ax.annotate('node 1', (z.vs['p'][1],z.vs['z'][1]-.05), xytext=(z.vs['p'][1]-.07,z.vs['z'][1]-.3), \n",
    "                fontsize=14,\n",
    "                arrowprops = dict(  arrowstyle=\"-\",connectionstyle=\"angle3,angleA=0,angleB=-90\"))\n",
    "\n",
    "    ax.annotate('node 3', (z.vs['p'][3],z.vs['z'][3]-.05), xytext=(z.vs['p'][3]+.07,z.vs['z'][3]-.3), \n",
    "                fontsize=14,\n",
    "                arrowprops = dict(  arrowstyle=\"-\",connectionstyle=\"angle3,angleA=0,angleB=-90\"))\n",
    "\n",
    "    ax.annotate('node 2', (z.vs['p'][2],z.vs['z'][2]-.05), xytext=(z.vs['p'][2]-.07,z.vs['z'][2]-.3), \n",
    "                fontsize=14,\n",
    "                arrowprops = dict(  arrowstyle=\"-\",connectionstyle=\"angle3,angleA=0,angleB=-90\"))\n",
    "\n",
    "    ax.annotate('provincial hubs',(.3,2.55), fontsize=18)\n",
    "    ax.annotate('peripheral non-hubs',(.3,1.8), fontsize=18)\n",
    "    ax.annotate('ultra peripheral non-hubs',(0.025,0.0),xytext=(.1,0), fontsize=18,\n",
    "                 arrowprops = dict( arrowstyle=\"->\", connectionstyle=\"angle3,angleA=0,angleB=-90\"))\n",
    "\n",
    "    plt.xlabel('participation coefficient (p)',fontsize=16)\n",
    "    plt.ylabel('normalized within module degree (z)',fontsize=16);\n",
    "    #plt.savefig('zachary_roles_2.eps')"
   ]
  },
  {
   "cell_type": "code",
   "execution_count": 15,
   "id": "3dcbe122",
   "metadata": {
    "scrolled": false
   },
   "outputs": [
    {
     "data": {
      "image/png": "[encoded data removed]",
      "text/plain": [
       "<Figure size 1200x900 with 1 Axes>"
      ]
     },
     "metadata": {},
     "output_type": "display_data"
    }
   ],
   "source": [
    "plot_family_z_p(g)"
   ]
  },
  {
   "cell_type": "markdown",
   "id": "21af2b9e",
   "metadata": {},
   "source": [
    "# Problem 6"
   ]
  },
  {
   "cell_type": "code",
   "execution_count": 6,
   "id": "0ff6f3da",
   "metadata": {},
   "outputs": [],
   "source": [
    "abcd_path = '../Datasets/ABCDGraphGenerator.jl/utils/'\n",
    "julia = '/Applications/Julia-1.8.app/Contents/Resources/julia/bin/julia'"
   ]
  },
  {
   "cell_type": "code",
   "execution_count": 26,
   "id": "30d96592",
   "metadata": {
    "scrolled": true
   },
   "outputs": [
    {
     "name": "stderr",
     "output_type": "stream",
     "text": [
      "rm: 1600: No such file or directory\n"
     ]
    },
    {
     "name": "stdout",
     "output_type": "stream",
     "text": [
      "XIs [0.3]\n",
      "============ node_count 100 ============\n"
     ]
    },
    {
     "name": "stderr",
     "output_type": "stream",
     "text": [
      "[ Info: Usage: julia deg_sampler.jl filename τ₁ d_min d_max n max_iter [seed]\n",
      "[ Info: Example: julia deg_sampler.jl degrees.dat 3 5 50 10000 1000 42\n",
      "[ Info: Expected value of degree: 17.59492981753638\n",
      "[ Info: Usage: julia com_sampler.jl filename τ₂ c_min c_max n max_iter [seed] [nout]\n",
      "[ Info: Example: julia com_sampler.jl community_sizes.dat 2 50 1000 10000 1000 42 100\n",
      "[ Info: Expected value of community size: 70.53394879444838\n"
     ]
    },
    {
     "name": "stdout",
     "output_type": "stream",
     "text": [
      "------------- xi 0.3 -------------\n"
     ]
    },
    {
     "name": "stderr",
     "output_type": "stream",
     "text": [
      "[ Info: Usage: julia graph_sampler.jl networkfile communityfile degreefile communitysizesfile mu|xi fraction isCL islocal [seed] [nout]\n",
      "[ Info: Example: julia graph_sampler.jl network.dat community.dat degrees.dat community_sizes.dat xi 0.2 true true 42 100\n"
     ]
    },
    {
     "name": "stdout",
     "output_type": "stream",
     "text": [
      "ecg 0.023712873458862305\n",
      "louvain 0.0007081031799316406\n",
      "infomap 0.007651805877685547\n",
      "label_prog 0.0001862049102783203\n",
      "gn 0.4130129814147949\n",
      "cnm 0.0005700588226318359\n",
      "============ node_count 200 ============\n"
     ]
    },
    {
     "name": "stderr",
     "output_type": "stream",
     "text": [
      "[ Info: Usage: julia deg_sampler.jl filename τ₁ d_min d_max n max_iter [seed]\n",
      "[ Info: Example: julia deg_sampler.jl degrees.dat 3 5 50 10000 1000 42\n",
      "[ Info: Expected value of degree: 17.59492981753638\n",
      "[ Info: Usage: julia com_sampler.jl filename τ₂ c_min c_max n max_iter [seed] [nout]\n",
      "[ Info: Example: julia com_sampler.jl community_sizes.dat 2 50 1000 10000 1000 42 100\n",
      "[ Info: Expected value of community size: 70.53394879444838\n"
     ]
    },
    {
     "name": "stdout",
     "output_type": "stream",
     "text": [
      "------------- xi 0.3 -------------\n"
     ]
    },
    {
     "name": "stderr",
     "output_type": "stream",
     "text": [
      "[ Info: Usage: julia graph_sampler.jl networkfile communityfile degreefile communitysizesfile mu|xi fraction isCL islocal [seed] [nout]\n",
      "[ Info: Example: julia graph_sampler.jl network.dat community.dat degrees.dat community_sizes.dat xi 0.2 true true 42 100\n"
     ]
    },
    {
     "name": "stdout",
     "output_type": "stream",
     "text": [
      "ecg 0.041539907455444336\n",
      "louvain 0.0010361671447753906\n",
      "infomap 0.017045021057128906\n",
      "label_prog 0.0004470348358154297\n",
      "gn 3.044651985168457\n",
      "cnm 0.0018796920776367188\n",
      "============ node_count 400 ============\n"
     ]
    },
    {
     "name": "stderr",
     "output_type": "stream",
     "text": [
      "[ Info: Usage: julia deg_sampler.jl filename τ₁ d_min d_max n max_iter [seed]\n",
      "[ Info: Example: julia deg_sampler.jl degrees.dat 3 5 50 10000 1000 42\n",
      "[ Info: Expected value of degree: 17.59492981753638\n",
      "[ Info: Usage: julia com_sampler.jl filename τ₂ c_min c_max n max_iter [seed] [nout]\n",
      "[ Info: Example: julia com_sampler.jl community_sizes.dat 2 50 1000 10000 1000 42 100\n",
      "[ Info: Expected value of community size: 70.53394879444838\n"
     ]
    },
    {
     "name": "stdout",
     "output_type": "stream",
     "text": [
      "------------- xi 0.3 -------------\n"
     ]
    },
    {
     "name": "stderr",
     "output_type": "stream",
     "text": [
      "[ Info: Usage: julia graph_sampler.jl networkfile communityfile degreefile communitysizesfile mu|xi fraction isCL islocal [seed] [nout]\n",
      "[ Info: Example: julia graph_sampler.jl network.dat community.dat degrees.dat community_sizes.dat xi 0.2 true true 42 100\n"
     ]
    },
    {
     "name": "stdout",
     "output_type": "stream",
     "text": [
      "ecg 0.08267903327941895\n",
      "louvain 0.0026967525482177734\n",
      "infomap 0.04370403289794922\n",
      "label_prog 0.0011179447174072266\n",
      "gn 21.39252996444702\n",
      "cnm 0.004858255386352539\n",
      "============ node_count 800 ============\n"
     ]
    },
    {
     "name": "stderr",
     "output_type": "stream",
     "text": [
      "[ Info: Usage: julia deg_sampler.jl filename τ₁ d_min d_max n max_iter [seed]\n",
      "[ Info: Example: julia deg_sampler.jl degrees.dat 3 5 50 10000 1000 42\n",
      "[ Info: Expected value of degree: 17.59492981753638\n",
      "[ Info: Usage: julia com_sampler.jl filename τ₂ c_min c_max n max_iter [seed] [nout]\n",
      "[ Info: Example: julia com_sampler.jl community_sizes.dat 2 50 1000 10000 1000 42 100\n",
      "[ Info: Expected value of community size: 70.53394879444838\n"
     ]
    },
    {
     "name": "stdout",
     "output_type": "stream",
     "text": [
      "------------- xi 0.3 -------------\n"
     ]
    },
    {
     "name": "stderr",
     "output_type": "stream",
     "text": [
      "[ Info: Usage: julia graph_sampler.jl networkfile communityfile degreefile communitysizesfile mu|xi fraction isCL islocal [seed] [nout]\n",
      "[ Info: Example: julia graph_sampler.jl network.dat community.dat degrees.dat community_sizes.dat xi 0.2 true true 42 100\n"
     ]
    },
    {
     "name": "stdout",
     "output_type": "stream",
     "text": [
      "ecg 0.1733090877532959\n",
      "louvain 0.0036208629608154297\n",
      "infomap 0.09715628623962402\n",
      "label_prog 0.001580953598022461\n",
      "gn 158.2232587337494\n",
      "cnm 0.015326976776123047\n",
      "============ node_count 1600 ============\n"
     ]
    },
    {
     "name": "stderr",
     "output_type": "stream",
     "text": [
      "[ Info: Usage: julia deg_sampler.jl filename τ₁ d_min d_max n max_iter [seed]\n",
      "[ Info: Example: julia deg_sampler.jl degrees.dat 3 5 50 10000 1000 42\n",
      "[ Info: Expected value of degree: 17.59492981753638\n",
      "[ Info: Usage: julia com_sampler.jl filename τ₂ c_min c_max n max_iter [seed] [nout]\n",
      "[ Info: Example: julia com_sampler.jl community_sizes.dat 2 50 1000 10000 1000 42 100\n",
      "[ Info: Expected value of community size: 70.53394879444838\n"
     ]
    },
    {
     "name": "stdout",
     "output_type": "stream",
     "text": [
      "------------- xi 0.3 -------------\n"
     ]
    },
    {
     "name": "stderr",
     "output_type": "stream",
     "text": [
      "[ Info: Usage: julia graph_sampler.jl networkfile communityfile degreefile communitysizesfile mu|xi fraction isCL islocal [seed] [nout]\n",
      "[ Info: Example: julia graph_sampler.jl network.dat community.dat degrees.dat community_sizes.dat xi 0.2 true true 42 100\n"
     ]
    },
    {
     "name": "stdout",
     "output_type": "stream",
     "text": [
      "ecg 0.3766138553619385\n",
      "louvain 0.008880138397216797\n",
      "infomap 0.21748709678649902\n",
      "label_prog 0.003287076950073242\n",
      "gn 1373.812355041504\n",
      "cnm 0.05546379089355469\n"
     ]
    }
   ],
   "source": [
    "L = {}   ## store results in a list\n",
    "node_count_ls = [100, 200, 400, 800, 1600]\n",
    "for node_count in node_count_ls:\n",
    "    L[str(node_count)] = []\n",
    "    \n",
    "os.system(f\"rm -r {' '.join([str(node_count) for node_count in node_count_ls])}\")\n",
    "\n",
    "REP = 1  ## number of graphs for each value of xi\n",
    "# XIs = [x/100 for x in np.arange(10,81,5)] ## values for xi\n",
    "XIs = [0.3]\n",
    "print(f\"XIs {XIs}\")\n",
    "for node_count in node_count_ls:\n",
    "    print(f\"============ node_count {node_count} ============\")\n",
    "    \n",
    "    os.system(f\"mkdir {str(node_count)}\")\n",
    "\n",
    "    for rep in range(REP):\n",
    "        deg_path = f'{node_count}/deg.dat'\n",
    "        cmd = f'{julia} {abcd_path}/deg_sampler.jl {deg_path} 2.5 10 50 {node_count} 1000'\n",
    "        os.system(cmd)\n",
    "\n",
    "        cs_path = f'{node_count}/cs.dat'\n",
    "        cmd = f'{julia} {abcd_path}/com_sampler.jl {cs_path} 1.5 50 100 {node_count} 1000'\n",
    "        os.system(cmd)\n",
    "\n",
    "        for xi in XIs:\n",
    "            print(f\"------------- xi {xi} -------------\")\n",
    "            net_path = f'{node_count}/net.dat'\n",
    "            comm_path = f'{node_count}/comm.dat'\n",
    "            cmd = f'{julia} {abcd_path}/graph_sampler.jl {net_path} {comm_path} {deg_path} {cs_path} xi {str(xi)} false false'\n",
    "            os.system(cmd)\n",
    "            \n",
    "            ## compute AMI for various clustering algorithms\n",
    "            g = ig.Graph.Read_Ncol(net_path, directed=False)\n",
    "            c = np.loadtxt(comm_path, dtype='uint16', usecols=(1))\n",
    "            g.vs['comm'] = [c[int(x['name'])-1] for x in g.vs]\n",
    "            n = max(g.vs['comm'])\n",
    "            \n",
    "            cluster_func_dict = {\n",
    "                'ecg': g.community_ecg,\n",
    "                'louvain': g.community_multilevel,\n",
    "                'infomap': g.community_infomap,\n",
    "                'label_prog': g.community_label_propagation,\n",
    "                'gn': g.community_edge_betweenness,\n",
    "                'cnm': g.community_fastgreedy,\n",
    "            }\n",
    "            for cluster_name, cluster_func in cluster_func_dict.items():\n",
    "                start = time.time()\n",
    "                if cluster_name in ['gn', 'cnm']:\n",
    "                    _ = cluster_func().as_clustering(n)\n",
    "                else:\n",
    "                    _ = cluster_func()\n",
    "                end = time.time()\n",
    "                elapsed_time = end - start\n",
    "                print(cluster_name, elapsed_time)\n",
    "                L[str(node_count)].append(elapsed_time)"
   ]
  },
  {
   "cell_type": "code",
   "execution_count": 27,
   "id": "52471755",
   "metadata": {},
   "outputs": [
    {
     "data": {
      "text/html": [
       "<div>\n",
       "<style scoped>\n",
       "    .dataframe tbody tr th:only-of-type {\n",
       "        vertical-align: middle;\n",
       "    }\n",
       "\n",
       "    .dataframe tbody tr th {\n",
       "        vertical-align: top;\n",
       "    }\n",
       "\n",
       "    .dataframe thead th {\n",
       "        text-align: right;\n",
       "    }\n",
       "</style>\n",
       "<table border=\"1\" class=\"dataframe\">\n",
       "  <thead>\n",
       "    <tr style=\"text-align: right;\">\n",
       "      <th></th>\n",
       "      <th>ecg</th>\n",
       "      <th>louvain</th>\n",
       "      <th>infomap</th>\n",
       "      <th>label_prog</th>\n",
       "      <th>gn</th>\n",
       "      <th>cnm</th>\n",
       "    </tr>\n",
       "  </thead>\n",
       "  <tbody>\n",
       "    <tr>\n",
       "      <th>100</th>\n",
       "      <td>0.023713</td>\n",
       "      <td>0.000708</td>\n",
       "      <td>0.007652</td>\n",
       "      <td>0.000186</td>\n",
       "      <td>0.413013</td>\n",
       "      <td>0.000570</td>\n",
       "    </tr>\n",
       "    <tr>\n",
       "      <th>200</th>\n",
       "      <td>0.041540</td>\n",
       "      <td>0.001036</td>\n",
       "      <td>0.017045</td>\n",
       "      <td>0.000447</td>\n",
       "      <td>3.044652</td>\n",
       "      <td>0.001880</td>\n",
       "    </tr>\n",
       "    <tr>\n",
       "      <th>400</th>\n",
       "      <td>0.082679</td>\n",
       "      <td>0.002697</td>\n",
       "      <td>0.043704</td>\n",
       "      <td>0.001118</td>\n",
       "      <td>21.392530</td>\n",
       "      <td>0.004858</td>\n",
       "    </tr>\n",
       "    <tr>\n",
       "      <th>800</th>\n",
       "      <td>0.173309</td>\n",
       "      <td>0.003621</td>\n",
       "      <td>0.097156</td>\n",
       "      <td>0.001581</td>\n",
       "      <td>158.223259</td>\n",
       "      <td>0.015327</td>\n",
       "    </tr>\n",
       "    <tr>\n",
       "      <th>1600</th>\n",
       "      <td>0.376614</td>\n",
       "      <td>0.008880</td>\n",
       "      <td>0.217487</td>\n",
       "      <td>0.003287</td>\n",
       "      <td>1373.812355</td>\n",
       "      <td>0.055464</td>\n",
       "    </tr>\n",
       "  </tbody>\n",
       "</table>\n",
       "</div>"
      ],
      "text/plain": [
       "           ecg   louvain   infomap  label_prog           gn       cnm\n",
       "100   0.023713  0.000708  0.007652    0.000186     0.413013  0.000570\n",
       "200   0.041540  0.001036  0.017045    0.000447     3.044652  0.001880\n",
       "400   0.082679  0.002697  0.043704    0.001118    21.392530  0.004858\n",
       "800   0.173309  0.003621  0.097156    0.001581   158.223259  0.015327\n",
       "1600  0.376614  0.008880  0.217487    0.003287  1373.812355  0.055464"
      ]
     },
     "execution_count": 27,
     "metadata": {},
     "output_type": "execute_result"
    }
   ],
   "source": [
    "cluster_running_time = pd.DataFrame(data=L)\n",
    "# cluster_running_time['cluster_method'] = cluster_func_dict.keys()\n",
    "cluster_running_time = cluster_running_time.T\n",
    "cluster_running_time.columns = cluster_func_dict.keys()\n",
    "cluster_running_time"
   ]
  },
  {
   "cell_type": "code",
   "execution_count": 28,
   "id": "1336eeda",
   "metadata": {},
   "outputs": [],
   "source": [
    "cluster_method_2_time = dict(cluster_running_time.mean())"
   ]
  },
  {
   "cell_type": "code",
   "execution_count": 29,
   "id": "d921ec10",
   "metadata": {},
   "outputs": [
    {
     "name": "stdout",
     "output_type": "stream",
     "text": [
      "label_prog is fastest with 0.001323843002319336 seconds\n",
      "gn is slowest with 311.3771617412567 seconds\n"
     ]
    }
   ],
   "source": [
    "fastest_method = min(cluster_method_2_time, key=cluster_method_2_time.get)\n",
    "slowest_method = max(cluster_method_2_time, key=cluster_method_2_time.get)\n",
    "print(f'{fastest_method} is fastest with {cluster_method_2_time[fastest_method]} seconds')\n",
    "print(f'{slowest_method} is slowest with {cluster_method_2_time[slowest_method]} seconds')"
   ]
  },
  {
   "cell_type": "code",
   "execution_count": null,
   "id": "efeb11dc",
   "metadata": {},
   "outputs": [],
   "source": []
  }
 ],
 "metadata": {
  "kernelspec": {
   "display_name": "Python 3 (ipykernel)",
   "language": "python",
   "name": "python3"
  },
  "language_info": {
   "codemirror_mode": {
    "name": "ipython",
    "version": 3
   },
   "file_extension": ".py",
   "mimetype": "text/x-python",
   "name": "python",
   "nbconvert_exporter": "python",
   "pygments_lexer": "ipython3",
   "version": "3.7.9"
  },
  "toc": {
   "base_numbering": 1,
   "nav_menu": {},
   "number_sections": true,
   "sideBar": true,
   "skip_h1_title": false,
   "title_cell": "Table of Contents",
   "title_sidebar": "Contents",
   "toc_cell": false,
   "toc_position": {},
   "toc_section_display": true,
   "toc_window_display": true
  }
 },
 "nbformat": 4,
 "nbformat_minor": 5
}
